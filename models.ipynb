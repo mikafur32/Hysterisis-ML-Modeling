{
 "cells": [
  {
   "cell_type": "code",
   "execution_count": null,
   "metadata": {},
   "outputs": [],
   "source": [
    "# First model \n",
    "'''\n",
    "# The LSTM architecture -- Basic RNN | one layer then dense\n",
    "model_lstm = Sequential()\n",
    "model_lstm.add(LSTM(units=125, activation=\"tanh\", input_shape=(trainX.shape[1], trainX.shape[2])))\n",
    "model_lstm.add(Dense(units=1))\n",
    "# Compiling the model\n",
    "model_lstm.compile(optimizer=\"RMSprop\", loss=\"mse\")\n",
    "\n",
    "model_lstm.summary()\n",
    "\n",
    "batch_size = 16\n",
    "model_lstm.fit(trainX, trainY, epochs=10, batch_size=batch_size, verbose=1)\n",
    "#'''"
   ]
  },
  {
   "cell_type": "markdown",
   "metadata": {},
   "source": [
    "### Other models"
   ]
  },
  {
   "cell_type": "code",
   "execution_count": null,
   "metadata": {
    "pycharm": {
     "name": "#%%\n"
    }
   },
   "outputs": [],
   "source": [
    "# Saved as Emma_2 (give more descriptive name later)\n",
    "'''\n",
    "model = Sequential()\n",
    "model.add(LSTM(64, activation='relu', input_shape=(trainX.shape[1], trainX.shape[2]), return_sequences=True))\n",
    "model.add(LSTM(32, activation='relu', return_sequences=False))\n",
    "model.add(Dropout(0.2))\n",
    "model.add(Dense(trainY.shape[1]))\n",
    "\n",
    "model.compile(optimizer='adam', loss='mse')\n",
    "model.summary()\n",
    "\n",
    "# fit the model\n",
    "history = model.fit(trainX, trainY, epochs=1, batch_size=16, validation_split=0.1, verbose=1)\n",
    "'''\n",
    "\"\"\" plt.plot(history.history['loss'], label='Training loss')\n",
    "plt.plot(history.history['val_loss'], label='Validation loss')\n",
    "plt.legend()\"\"\"\n",
    "'''\n",
    "#Save the entire model as a SavedModel.\n",
    "!mkdir -p saved_model\n",
    "model.save('saved_model/LSTM_Saved_Mikey_1')\n",
    "#'''"
   ]
  },
  {
   "cell_type": "code",
   "execution_count": null,
   "metadata": {
    "pycharm": {
     "name": "#%%\n"
    }
   },
   "outputs": [],
   "source": [
    "# Saved as Emma_3 (give more descriptive name later)\n",
    "'''\n",
    "model2 = Sequential()\n",
    "model2.add(LSTM(64, activation='relu', input_shape=(trainX.shape[1], trainX.shape[2]), return_sequences=True))\n",
    "model2.add(LSTM(64, activation='relu', return_sequences=True))\n",
    "model2.add(LSTM(32, activation='relu', return_sequences=False))\n",
    "model2.add(Dropout(0.2))\n",
    "model2.add(Dense(trainY.shape[1]))\n",
    "\n",
    "# Compiling the model\n",
    "model2.compile(optimizer=\"RMSprop\", loss=\"mse\")\n",
    "\n",
    "model2.summary()\n",
    "\n",
    "'''"
   ]
  },
  {
   "cell_type": "code",
   "execution_count": null,
   "metadata": {
    "pycharm": {
     "name": "#%%\n"
    }
   },
   "outputs": [],
   "source": [
    "# One epoch of this LSTM only takes about 30 minutes to run so we may try an additional trial with 4 epochs\n",
    "# Saved as Bidirectional_1\n",
    "'''\n",
    "from keras.layers import Bidirectional\n",
    "\n",
    "model3 = Sequential()\n",
    "model3.add(Bidirectional(LSTM(64, activation='relu', return_sequences=True), input_shape=(trainX.shape[1], trainX.shape[2])))\n",
    "model3.add(LSTM(32, activation='relu', return_sequences=False))\n",
    "model3.add(Dropout(0.2))\n",
    "model3.add(Dense(trainY.shape[1]))\n",
    "\n",
    "\n",
    "model3.compile(optimizer='adam', loss='mse')\n",
    "model3.summary()\n",
    "\n",
    "\n",
    "# Version 1:\n",
    "history = model3.fit(trainX, trainY, epochs=1, batch_size=16, validation_split=0.1, verbose=1)\n",
    "'''\n",
    "\n",
    "# Saved as Bidirectional_2\n",
    "'''\n",
    "# Version 2:\n",
    "history = model3.fit(trainX, trainY, epochs=4, batch_size=16, validation_split=0.1, verbose=1)\n",
    "'''"
   ]
  },
  {
   "cell_type": "code",
   "execution_count": null,
   "metadata": {
    "pycharm": {
     "name": "#%%\n"
    }
   },
   "outputs": [],
   "source": [
    "# Saved as Timedistributed_1\n",
    "'''\n",
    "from keras.layers import TimeDistributed\n",
    "\n",
    "model4 = Sequential()\n",
    "model4.add(LSTM(64, activation='relu', input_shape=(trainX.shape[1], trainX.shape[2]), return_sequences=True))\n",
    "model4.add(LSTM(32, activation='relu', return_sequences=True))\n",
    "model4.add(Dropout(0.2))\n",
    "model4.add(TimeDistributed(Dense(trainY.shape[1])))\n",
    "\n",
    "\n",
    "model4.compile(optimizer='adam', loss='mse')\n",
    "model4.summary()\n",
    "'''"
   ]
  },
  {
   "cell_type": "code",
   "execution_count": null,
   "metadata": {
    "pycharm": {
     "name": "#%%\n"
    }
   },
   "outputs": [],
   "source": [
    "# Save as LSTM_4\n",
    "'''\n",
    "model5 = Sequential()\n",
    "model5.add(LSTM(64, activation='tanh', input_shape=(trainX.shape[1], trainX.shape[2]), return_sequences=True))\n",
    "model5.add(LSTM(32, activation='tanh', return_sequences=False))\n",
    "model5.add(Dropout(0.5))\n",
    "model5.add(Dense(trainY.shape[1]))\n",
    "\n",
    "\n",
    "model5.compile(optimizer='adam', loss='mse')\n",
    "model5.summary()\n",
    "'''"
   ]
  },
  {
   "cell_type": "code",
   "execution_count": null,
   "metadata": {
    "pycharm": {
     "name": "#%%\n"
    }
   },
   "outputs": [],
   "source": [
    "'''\n",
    "\n",
    "\n",
    "from keras.layers import GRU\n",
    "\n",
    "model = Sequential()\n",
    "model.add(GRU(128, activation='relu', input_shape=(trainX.shape[1], trainX.shape[2]), return_sequences=False))\n",
    "model.add(Dropout(0.2))\n",
    "model.add(Dense(trainY.shape[1]))\n",
    "model.compile(optimizer='adam', loss='mse')\n",
    "\n",
    "\n",
    "'''"
   ]
  },
  {
   "cell_type": "code",
   "execution_count": null,
   "metadata": {
    "pycharm": {
     "name": "#%%\n"
    }
   },
   "outputs": [],
   "source": []
  },
  {
   "cell_type": "code",
   "execution_count": null,
   "metadata": {
    "pycharm": {
     "name": "#%%\n"
    }
   },
   "outputs": [],
   "source": [
    "'''\n",
    "model = Sequential()\n",
    "model.add(LSTM(64, activation='relu', input_shape=(trainX.shape[1], trainX.shape[2]), return_sequences=True))\n",
    "model.add(LSTM(32, activation='relu', return_sequences=False))\n",
    "model.add(Dropout(0.2))\n",
    "model.add(Dense(trainY.shape[1]))\n",
    "\n",
    "model.compile(optimizer='adam', loss='mse')\n",
    "model.summary()\n",
    "\n",
    "# fit the model\n",
    "history = model.fit(trainX, trainY, epochs=1, batch_size=16, validation_split=0.1, verbose=1)\n",
    "'''\n",
    "\"\"\" plt.plot(history.history['loss'], label='Training loss')\n",
    "plt.plot(history.history['val_loss'], label='Validation loss')\n",
    "plt.legend()\"\"\"\n",
    "'''\n",
    "#Save the entire model as a SavedModel.\n",
    "!mkdir -p saved_model\n",
    "model.save('saved_model/LSTM_Saved_Mikey_1')\n",
    "#'''\n",
    "## Predictions\n"
   ]
  }
 ],
 "metadata": {
  "kernelspec": {
   "display_name": "Python 3 (ipykernel)",
   "language": "python",
   "name": "python3"
  },
  "language_info": {
   "codemirror_mode": {
    "name": "ipython",
    "version": 3
   },
   "file_extension": ".py",
   "mimetype": "text/x-python",
   "name": "python",
   "nbconvert_exporter": "python",
   "pygments_lexer": "ipython3",
   "version": "3.10.9"
  }
 },
 "nbformat": 4,
 "nbformat_minor": 1
}
