{
 "cells": [
  {
   "cell_type": "code",
   "execution_count": 4,
   "metadata": {},
   "outputs": [
    {
     "name": "stdout",
     "output_type": "stream",
     "text": [
      "c:\\Users\\Mikey\\Documents\\Github\\Hysterisis-ML-Modeling\\lib\\testing_scratch\n",
      "c:\\Users\\Mikey\\Documents\\Github\\Hysterisis-ML-Modeling\\lib\n"
     ]
    },
    {
     "data": {
      "text/plain": [
       "'\\n\\ncsv = \"..\\\\data\\\\USGS_WS_2017_2023.csv\"\\ncolumns = {\\n           \"Peoria_WL\": \"Peoria_WL\",\\n           \"Henry_WL\": \"Henry_WL\",\\n#          \"Flow\": \"Flow\",       --- Target\\n#          \"Vel\": \"Vel\",         --- Disregard\\n           \"Slope\": \"Slope\"\\n           }\\n\\ntarget = \"Flow\"\\ndata_name = \"USGS_WS_2017_2023\"\\n'"
      ]
     },
     "execution_count": 4,
     "metadata": {},
     "output_type": "execute_result"
    }
   ],
   "source": [
    "import numpy as np\n",
    "import pandas as pd\n",
    "from sklearn.preprocessing import StandardScaler\n",
    "import matplotlib.dates as mdates\n",
    "from tensorflow.keras.models import Sequential\n",
    "from tensorflow.keras.layers import LSTM\n",
    "from tensorflow.keras.layers import Dense, Dropout\n",
    "\n",
    "import seaborn as sns\n",
    "from matplotlib import pyplot as plt\n",
    "import os\n",
    "print(os.getcwd())\n",
    "#os.chdir(\"..\\..\\lib\")\n",
    "print(os.getcwd())\n",
    "from datetime import datetime\n",
    "\n",
    "import ingest, predict, models_base\n",
    "%load_ext autoreload\n",
    "%autoreload 1\n",
    "\n",
    "## FLAGS ##\n",
    "# RAS model output or USGS\n",
    "USGS_FLAG = True\n",
    "\n",
    "### HENRY RAS ###\n",
    "csv = r\"..\\data\\Henry_WSS_2017_2023.csv\"\n",
    "columns = {'Q': 'Discharge', 'WSS': 'Slope'}\n",
    "\n",
    "date = datetime.now().strftime(\"%B %d %Y - %H:%M\")\n",
    "\n",
    "\n",
    "target = \"Discharge\"\n",
    "data_name = f\"Henry_RAS_2017_2023 {date}\"\n",
    "\n",
    "\n",
    "'''\n",
    "### HENRY ###\n",
    "csv = r\"..\\\\data\\\\henry_csv_17-23.csv\"\n",
    "#renames = {'00065': 'Gage Height', '00060': 'Discharge', '72254': 'Velocity'}\n",
    "columns = {'65': 'Gage Height', '60': 'Discharge', '72254': 'Velocity'}\n",
    "\n",
    "target = \"Discharge\"\n",
    "data_name = \"Henry_2017_2020\"\n",
    "'''\n",
    "'''\n",
    "\n",
    "csv = \"..\\\\data\\\\USGS_WS_2017_2023.csv\"\n",
    "columns = {\n",
    "           \"Peoria_WL\": \"Peoria_WL\",\n",
    "           \"Henry_WL\": \"Henry_WL\",\n",
    "#          \"Flow\": \"Flow\",       --- Target\n",
    "#          \"Vel\": \"Vel\",         --- Disregard\n",
    "           \"Slope\": \"Slope\"\n",
    "           }\n",
    "\n",
    "target = \"Flow\"\n",
    "data_name = \"USGS_WS_2017_2023\"\n",
    "'''\n",
    "\n"
   ]
  },
  {
   "cell_type": "code",
   "execution_count": 5,
   "metadata": {},
   "outputs": [
    {
     "name": "stdout",
     "output_type": "stream",
     "text": [
      "Num GPUs Available:  1\n"
     ]
    }
   ],
   "source": [
    "import tensorflow as tf\n",
    "print(\"Num GPUs Available: \", len(tf.config.experimental.list_physical_devices('GPU')))"
   ]
  },
  {
   "cell_type": "code",
   "execution_count": null,
   "metadata": {},
   "outputs": [],
   "source": [
    "%aimport models_cuda\n"
   ]
  },
  {
   "cell_type": "code",
   "execution_count": 6,
   "metadata": {},
   "outputs": [
    {
     "name": "stderr",
     "output_type": "stream",
     "text": [
      "c:\\Users\\Mikey\\Documents\\Github\\Hysterisis-ML-Modeling\\lib\\ingest.py:44: FutureWarning: Series.__getitem__ treating keys as positions is deprecated. In a future version, integer keys will always be treated as labels (consistent with DataFrame behavior). To access a value by position, use `ser.iloc[pos]`\n",
      "  train_range, test_range = [all_dates[0], all_dates[-1]], [all_dates[0], all_dates[-1]]\n"
     ]
    }
   ],
   "source": [
    "\n",
    "train_scaled, test_scaled, train_dates, test_dates, all_dates, scaler = ingest.ingest(csv, target, renames= columns, USGS_FLAG=USGS_FLAG, train_test_ratio= 0.8)\n",
    "trainX, trainY = ingest.reshape(train_scaled)#, timestep_type= \"hr\")\n",
    "testX, testY = ingest.reshape(test_scaled)#, timestep_type= \"hr\")\n",
    "\n",
    "model_names = ['Basic_LSTM', \"GRU\", 'Bidirectional_LSTM','Stacked_LSTM']\n"
   ]
  },
  {
   "cell_type": "code",
   "execution_count": 11,
   "metadata": {},
   "outputs": [
    {
     "data": {
      "text/plain": [
       "datetime\n",
       "1/1/2017 0:00          1/1/2017 0:00\n",
       "1/1/2017 0:15          1/1/2017 0:15\n",
       "1/1/2017 0:30          1/1/2017 0:30\n",
       "1/1/2017 0:45          1/1/2017 0:45\n",
       "1/1/2017 1:00          1/1/2017 1:00\n",
       "                          ...       \n",
       "12/31/2021 22:45    12/31/2021 22:45\n",
       "12/31/2021 23:00    12/31/2021 23:00\n",
       "12/31/2021 23:15    12/31/2021 23:15\n",
       "12/31/2021 23:30    12/31/2021 23:30\n",
       "12/31/2021 23:45    12/31/2021 23:45\n",
       "Name: datetime, Length: 175296, dtype: object"
      ]
     },
     "execution_count": 11,
     "metadata": {},
     "output_type": "execute_result"
    }
   ],
   "source": [
    "all_dates[\"1/1/2017 0:00\":\"12/31/2021 23:45\"]"
   ]
  },
  {
   "cell_type": "code",
   "execution_count": null,
   "metadata": {},
   "outputs": [],
   "source": []
  },
  {
   "cell_type": "code",
   "execution_count": 39,
   "metadata": {},
   "outputs": [
    {
     "name": "stdout",
     "output_type": "stream",
     "text": [
      "Model: \"sequential_1\"\n",
      "_________________________________________________________________\n",
      " Layer (type)                Output Shape              Param #   \n",
      "=================================================================\n",
      " lstm_1 (LSTM)               (None, 125)               64000     \n",
      "                                                                 \n",
      " dense_1 (Dense)             (None, 1)                 126       \n",
      "                                                                 \n",
      "=================================================================\n",
      "Total params: 64,126\n",
      "Trainable params: 64,126\n",
      "Non-trainable params: 0\n",
      "_________________________________________________________________\n",
      "Epoch 1/10\n",
      "  350/10667 [..............................] - ETA: 2:51 - loss: 0.0338"
     ]
    },
    {
     "ename": "KeyboardInterrupt",
     "evalue": "",
     "output_type": "error",
     "traceback": [
      "\u001b[1;31m---------------------------------------------------------------------------\u001b[0m",
      "\u001b[1;31mKeyboardInterrupt\u001b[0m                         Traceback (most recent call last)",
      "\u001b[1;32mc:\\Users\\Mikey\\Documents\\Github\\Hysterisis-ML-Modeling\\lib\\testing_scratch\\ras_henry_test.ipynb Cell 5\u001b[0m line \u001b[0;36m2\n\u001b[0;32m      <a href='vscode-notebook-cell:/c%3A/Users/Mikey/Documents/Github/Hysterisis-ML-Modeling/lib/testing_scratch/ras_henry_test.ipynb#W3sZmlsZQ%3D%3D?line=0'>1</a>\u001b[0m \u001b[39mfor\u001b[39;00m model_name \u001b[39min\u001b[39;00m model_names:\n\u001b[1;32m----> <a href='vscode-notebook-cell:/c%3A/Users/Mikey/Documents/Github/Hysterisis-ML-Modeling/lib/testing_scratch/ras_henry_test.ipynb#W3sZmlsZQ%3D%3D?line=1'>2</a>\u001b[0m     model \u001b[39m=\u001b[39m models_base\u001b[39m.\u001b[39;49mprebuilt_models(model_name, trainX, trainY, epochs\u001b[39m=\u001b[39;49m \u001b[39m10\u001b[39;49m, batch_size\u001b[39m=\u001b[39;49m\u001b[39m16\u001b[39;49m, load_models\u001b[39m=\u001b[39;49m\u001b[39mFalse\u001b[39;49;00m, data\u001b[39m=\u001b[39;49m data_name)\n\u001b[0;32m      <a href='vscode-notebook-cell:/c%3A/Users/Mikey/Documents/Github/Hysterisis-ML-Modeling/lib/testing_scratch/ras_henry_test.ipynb#W3sZmlsZQ%3D%3D?line=2'>3</a>\u001b[0m     validation_loss \u001b[39m=\u001b[39m models_base\u001b[39m.\u001b[39mevaluate_model(model, testX, testY)\n\u001b[0;32m      <a href='vscode-notebook-cell:/c%3A/Users/Mikey/Documents/Github/Hysterisis-ML-Modeling/lib/testing_scratch/ras_henry_test.ipynb#W3sZmlsZQ%3D%3D?line=3'>4</a>\u001b[0m     models_base\u001b[39m.\u001b[39mplot_model(model_name, validation_loss, data_name)\n",
      "File \u001b[1;32mc:\\Users\\Mikey\\Documents\\Github\\Hysterisis-ML-Modeling\\lib\\models_base.py:106\u001b[0m, in \u001b[0;36mprebuilt_models\u001b[1;34m(model_name, trainX, trainY, epochs, batch_size, loss, load_models, data)\u001b[0m\n\u001b[0;32m    103\u001b[0m     model\u001b[39m.\u001b[39mcompile(optimizer\u001b[39m=\u001b[39m\u001b[39m\"\u001b[39m\u001b[39mRMSprop\u001b[39m\u001b[39m\"\u001b[39m, loss\u001b[39m=\u001b[39mloss)\n\u001b[0;32m    105\u001b[0m early_stopping \u001b[39m=\u001b[39m EarlyStopping(monitor\u001b[39m=\u001b[39m\u001b[39m'\u001b[39m\u001b[39mval_loss\u001b[39m\u001b[39m'\u001b[39m, patience\u001b[39m=\u001b[39m\u001b[39m3\u001b[39m, restore_best_weights\u001b[39m=\u001b[39m\u001b[39mTrue\u001b[39;00m)\n\u001b[1;32m--> 106\u001b[0m history \u001b[39m=\u001b[39m model\u001b[39m.\u001b[39;49mfit(trainX, trainY, epochs\u001b[39m=\u001b[39;49mepochs, batch_size\u001b[39m=\u001b[39;49mbatch_size, validation_split\u001b[39m=\u001b[39;49m\u001b[39m0.1\u001b[39;49m, verbose\u001b[39m=\u001b[39;49m\u001b[39m1\u001b[39;49m, callbacks\u001b[39m=\u001b[39;49m[early_stopping])\n\u001b[0;32m    108\u001b[0m \u001b[39m# Save model\u001b[39;00m\n\u001b[0;32m    109\u001b[0m os\u001b[39m.\u001b[39mmakedirs(\u001b[39mf\u001b[39m\u001b[39m\"\u001b[39m\u001b[39msaved_model_multi/\u001b[39m\u001b[39m{\u001b[39;00mdata\u001b[39m}\u001b[39;00m\u001b[39m/trainHistoryDict\u001b[39m\u001b[39m\"\u001b[39m, exist_ok\u001b[39m=\u001b[39m\u001b[39mTrue\u001b[39;00m) \u001b[39m#If the saved model directory doesn't exist, make it    \u001b[39;00m\n",
      "File \u001b[1;32mc:\\Users\\Mikey\\.conda\\envs\\ResearchCUDA\\lib\\site-packages\\keras\\utils\\traceback_utils.py:65\u001b[0m, in \u001b[0;36mfilter_traceback.<locals>.error_handler\u001b[1;34m(*args, **kwargs)\u001b[0m\n\u001b[0;32m     63\u001b[0m filtered_tb \u001b[39m=\u001b[39m \u001b[39mNone\u001b[39;00m\n\u001b[0;32m     64\u001b[0m \u001b[39mtry\u001b[39;00m:\n\u001b[1;32m---> 65\u001b[0m     \u001b[39mreturn\u001b[39;00m fn(\u001b[39m*\u001b[39margs, \u001b[39m*\u001b[39m\u001b[39m*\u001b[39mkwargs)\n\u001b[0;32m     66\u001b[0m \u001b[39mexcept\u001b[39;00m \u001b[39mException\u001b[39;00m \u001b[39mas\u001b[39;00m e:\n\u001b[0;32m     67\u001b[0m     filtered_tb \u001b[39m=\u001b[39m _process_traceback_frames(e\u001b[39m.\u001b[39m__traceback__)\n",
      "File \u001b[1;32mc:\\Users\\Mikey\\.conda\\envs\\ResearchCUDA\\lib\\site-packages\\keras\\engine\\training.py:1564\u001b[0m, in \u001b[0;36mModel.fit\u001b[1;34m(self, x, y, batch_size, epochs, verbose, callbacks, validation_split, validation_data, shuffle, class_weight, sample_weight, initial_epoch, steps_per_epoch, validation_steps, validation_batch_size, validation_freq, max_queue_size, workers, use_multiprocessing)\u001b[0m\n\u001b[0;32m   1556\u001b[0m \u001b[39mwith\u001b[39;00m tf\u001b[39m.\u001b[39mprofiler\u001b[39m.\u001b[39mexperimental\u001b[39m.\u001b[39mTrace(\n\u001b[0;32m   1557\u001b[0m     \u001b[39m\"\u001b[39m\u001b[39mtrain\u001b[39m\u001b[39m\"\u001b[39m,\n\u001b[0;32m   1558\u001b[0m     epoch_num\u001b[39m=\u001b[39mepoch,\n\u001b[1;32m   (...)\u001b[0m\n\u001b[0;32m   1561\u001b[0m     _r\u001b[39m=\u001b[39m\u001b[39m1\u001b[39m,\n\u001b[0;32m   1562\u001b[0m ):\n\u001b[0;32m   1563\u001b[0m     callbacks\u001b[39m.\u001b[39mon_train_batch_begin(step)\n\u001b[1;32m-> 1564\u001b[0m     tmp_logs \u001b[39m=\u001b[39m \u001b[39mself\u001b[39;49m\u001b[39m.\u001b[39;49mtrain_function(iterator)\n\u001b[0;32m   1565\u001b[0m     \u001b[39mif\u001b[39;00m data_handler\u001b[39m.\u001b[39mshould_sync:\n\u001b[0;32m   1566\u001b[0m         context\u001b[39m.\u001b[39masync_wait()\n",
      "File \u001b[1;32mc:\\Users\\Mikey\\.conda\\envs\\ResearchCUDA\\lib\\site-packages\\tensorflow\\python\\util\\traceback_utils.py:150\u001b[0m, in \u001b[0;36mfilter_traceback.<locals>.error_handler\u001b[1;34m(*args, **kwargs)\u001b[0m\n\u001b[0;32m    148\u001b[0m filtered_tb \u001b[39m=\u001b[39m \u001b[39mNone\u001b[39;00m\n\u001b[0;32m    149\u001b[0m \u001b[39mtry\u001b[39;00m:\n\u001b[1;32m--> 150\u001b[0m   \u001b[39mreturn\u001b[39;00m fn(\u001b[39m*\u001b[39margs, \u001b[39m*\u001b[39m\u001b[39m*\u001b[39mkwargs)\n\u001b[0;32m    151\u001b[0m \u001b[39mexcept\u001b[39;00m \u001b[39mException\u001b[39;00m \u001b[39mas\u001b[39;00m e:\n\u001b[0;32m    152\u001b[0m   filtered_tb \u001b[39m=\u001b[39m _process_traceback_frames(e\u001b[39m.\u001b[39m__traceback__)\n",
      "File \u001b[1;32mc:\\Users\\Mikey\\.conda\\envs\\ResearchCUDA\\lib\\site-packages\\tensorflow\\python\\eager\\def_function.py:915\u001b[0m, in \u001b[0;36mFunction.__call__\u001b[1;34m(self, *args, **kwds)\u001b[0m\n\u001b[0;32m    912\u001b[0m compiler \u001b[39m=\u001b[39m \u001b[39m\"\u001b[39m\u001b[39mxla\u001b[39m\u001b[39m\"\u001b[39m \u001b[39mif\u001b[39;00m \u001b[39mself\u001b[39m\u001b[39m.\u001b[39m_jit_compile \u001b[39melse\u001b[39;00m \u001b[39m\"\u001b[39m\u001b[39mnonXla\u001b[39m\u001b[39m\"\u001b[39m\n\u001b[0;32m    914\u001b[0m \u001b[39mwith\u001b[39;00m OptionalXlaContext(\u001b[39mself\u001b[39m\u001b[39m.\u001b[39m_jit_compile):\n\u001b[1;32m--> 915\u001b[0m   result \u001b[39m=\u001b[39m \u001b[39mself\u001b[39m\u001b[39m.\u001b[39m_call(\u001b[39m*\u001b[39margs, \u001b[39m*\u001b[39m\u001b[39m*\u001b[39mkwds)\n\u001b[0;32m    917\u001b[0m new_tracing_count \u001b[39m=\u001b[39m \u001b[39mself\u001b[39m\u001b[39m.\u001b[39mexperimental_get_tracing_count()\n\u001b[0;32m    918\u001b[0m without_tracing \u001b[39m=\u001b[39m (tracing_count \u001b[39m==\u001b[39m new_tracing_count)\n",
      "File \u001b[1;32mc:\\Users\\Mikey\\.conda\\envs\\ResearchCUDA\\lib\\site-packages\\tensorflow\\python\\eager\\def_function.py:947\u001b[0m, in \u001b[0;36mFunction._call\u001b[1;34m(self, *args, **kwds)\u001b[0m\n\u001b[0;32m    944\u001b[0m   \u001b[39mself\u001b[39m\u001b[39m.\u001b[39m_lock\u001b[39m.\u001b[39mrelease()\n\u001b[0;32m    945\u001b[0m   \u001b[39m# In this case we have created variables on the first call, so we run the\u001b[39;00m\n\u001b[0;32m    946\u001b[0m   \u001b[39m# defunned version which is guaranteed to never create variables.\u001b[39;00m\n\u001b[1;32m--> 947\u001b[0m   \u001b[39mreturn\u001b[39;00m \u001b[39mself\u001b[39m\u001b[39m.\u001b[39m_stateless_fn(\u001b[39m*\u001b[39margs, \u001b[39m*\u001b[39m\u001b[39m*\u001b[39mkwds)  \u001b[39m# pylint: disable=not-callable\u001b[39;00m\n\u001b[0;32m    948\u001b[0m \u001b[39melif\u001b[39;00m \u001b[39mself\u001b[39m\u001b[39m.\u001b[39m_stateful_fn \u001b[39mis\u001b[39;00m \u001b[39mnot\u001b[39;00m \u001b[39mNone\u001b[39;00m:\n\u001b[0;32m    949\u001b[0m   \u001b[39m# Release the lock early so that multiple threads can perform the call\u001b[39;00m\n\u001b[0;32m    950\u001b[0m   \u001b[39m# in parallel.\u001b[39;00m\n\u001b[0;32m    951\u001b[0m   \u001b[39mself\u001b[39m\u001b[39m.\u001b[39m_lock\u001b[39m.\u001b[39mrelease()\n",
      "File \u001b[1;32mc:\\Users\\Mikey\\.conda\\envs\\ResearchCUDA\\lib\\site-packages\\tensorflow\\python\\eager\\function.py:2496\u001b[0m, in \u001b[0;36mFunction.__call__\u001b[1;34m(self, *args, **kwargs)\u001b[0m\n\u001b[0;32m   2493\u001b[0m \u001b[39mwith\u001b[39;00m \u001b[39mself\u001b[39m\u001b[39m.\u001b[39m_lock:\n\u001b[0;32m   2494\u001b[0m   (graph_function,\n\u001b[0;32m   2495\u001b[0m    filtered_flat_args) \u001b[39m=\u001b[39m \u001b[39mself\u001b[39m\u001b[39m.\u001b[39m_maybe_define_function(args, kwargs)\n\u001b[1;32m-> 2496\u001b[0m \u001b[39mreturn\u001b[39;00m graph_function\u001b[39m.\u001b[39;49m_call_flat(\n\u001b[0;32m   2497\u001b[0m     filtered_flat_args, captured_inputs\u001b[39m=\u001b[39;49mgraph_function\u001b[39m.\u001b[39;49mcaptured_inputs)\n",
      "File \u001b[1;32mc:\\Users\\Mikey\\.conda\\envs\\ResearchCUDA\\lib\\site-packages\\tensorflow\\python\\eager\\function.py:1862\u001b[0m, in \u001b[0;36mConcreteFunction._call_flat\u001b[1;34m(self, args, captured_inputs, cancellation_manager)\u001b[0m\n\u001b[0;32m   1858\u001b[0m possible_gradient_type \u001b[39m=\u001b[39m gradients_util\u001b[39m.\u001b[39mPossibleTapeGradientTypes(args)\n\u001b[0;32m   1859\u001b[0m \u001b[39mif\u001b[39;00m (possible_gradient_type \u001b[39m==\u001b[39m gradients_util\u001b[39m.\u001b[39mPOSSIBLE_GRADIENT_TYPES_NONE\n\u001b[0;32m   1860\u001b[0m     \u001b[39mand\u001b[39;00m executing_eagerly):\n\u001b[0;32m   1861\u001b[0m   \u001b[39m# No tape is watching; skip to running the function.\u001b[39;00m\n\u001b[1;32m-> 1862\u001b[0m   \u001b[39mreturn\u001b[39;00m \u001b[39mself\u001b[39m\u001b[39m.\u001b[39m_build_call_outputs(\u001b[39mself\u001b[39;49m\u001b[39m.\u001b[39;49m_inference_function\u001b[39m.\u001b[39;49mcall(\n\u001b[0;32m   1863\u001b[0m       ctx, args, cancellation_manager\u001b[39m=\u001b[39;49mcancellation_manager))\n\u001b[0;32m   1864\u001b[0m forward_backward \u001b[39m=\u001b[39m \u001b[39mself\u001b[39m\u001b[39m.\u001b[39m_select_forward_and_backward_functions(\n\u001b[0;32m   1865\u001b[0m     args,\n\u001b[0;32m   1866\u001b[0m     possible_gradient_type,\n\u001b[0;32m   1867\u001b[0m     executing_eagerly)\n\u001b[0;32m   1868\u001b[0m forward_function, args_with_tangents \u001b[39m=\u001b[39m forward_backward\u001b[39m.\u001b[39mforward()\n",
      "File \u001b[1;32mc:\\Users\\Mikey\\.conda\\envs\\ResearchCUDA\\lib\\site-packages\\tensorflow\\python\\eager\\function.py:499\u001b[0m, in \u001b[0;36m_EagerDefinedFunction.call\u001b[1;34m(self, ctx, args, cancellation_manager)\u001b[0m\n\u001b[0;32m    497\u001b[0m \u001b[39mwith\u001b[39;00m _InterpolateFunctionError(\u001b[39mself\u001b[39m):\n\u001b[0;32m    498\u001b[0m   \u001b[39mif\u001b[39;00m cancellation_manager \u001b[39mis\u001b[39;00m \u001b[39mNone\u001b[39;00m:\n\u001b[1;32m--> 499\u001b[0m     outputs \u001b[39m=\u001b[39m execute\u001b[39m.\u001b[39;49mexecute(\n\u001b[0;32m    500\u001b[0m         \u001b[39mstr\u001b[39;49m(\u001b[39mself\u001b[39;49m\u001b[39m.\u001b[39;49msignature\u001b[39m.\u001b[39;49mname),\n\u001b[0;32m    501\u001b[0m         num_outputs\u001b[39m=\u001b[39;49m\u001b[39mself\u001b[39;49m\u001b[39m.\u001b[39;49m_num_outputs,\n\u001b[0;32m    502\u001b[0m         inputs\u001b[39m=\u001b[39;49margs,\n\u001b[0;32m    503\u001b[0m         attrs\u001b[39m=\u001b[39;49mattrs,\n\u001b[0;32m    504\u001b[0m         ctx\u001b[39m=\u001b[39;49mctx)\n\u001b[0;32m    505\u001b[0m   \u001b[39melse\u001b[39;00m:\n\u001b[0;32m    506\u001b[0m     outputs \u001b[39m=\u001b[39m execute\u001b[39m.\u001b[39mexecute_with_cancellation(\n\u001b[0;32m    507\u001b[0m         \u001b[39mstr\u001b[39m(\u001b[39mself\u001b[39m\u001b[39m.\u001b[39msignature\u001b[39m.\u001b[39mname),\n\u001b[0;32m    508\u001b[0m         num_outputs\u001b[39m=\u001b[39m\u001b[39mself\u001b[39m\u001b[39m.\u001b[39m_num_outputs,\n\u001b[1;32m   (...)\u001b[0m\n\u001b[0;32m    511\u001b[0m         ctx\u001b[39m=\u001b[39mctx,\n\u001b[0;32m    512\u001b[0m         cancellation_manager\u001b[39m=\u001b[39mcancellation_manager)\n",
      "File \u001b[1;32mc:\\Users\\Mikey\\.conda\\envs\\ResearchCUDA\\lib\\site-packages\\tensorflow\\python\\eager\\execute.py:54\u001b[0m, in \u001b[0;36mquick_execute\u001b[1;34m(op_name, num_outputs, inputs, attrs, ctx, name)\u001b[0m\n\u001b[0;32m     52\u001b[0m \u001b[39mtry\u001b[39;00m:\n\u001b[0;32m     53\u001b[0m   ctx\u001b[39m.\u001b[39mensure_initialized()\n\u001b[1;32m---> 54\u001b[0m   tensors \u001b[39m=\u001b[39m pywrap_tfe\u001b[39m.\u001b[39;49mTFE_Py_Execute(ctx\u001b[39m.\u001b[39;49m_handle, device_name, op_name,\n\u001b[0;32m     55\u001b[0m                                       inputs, attrs, num_outputs)\n\u001b[0;32m     56\u001b[0m \u001b[39mexcept\u001b[39;00m core\u001b[39m.\u001b[39m_NotOkStatusException \u001b[39mas\u001b[39;00m e:\n\u001b[0;32m     57\u001b[0m   \u001b[39mif\u001b[39;00m name \u001b[39mis\u001b[39;00m \u001b[39mnot\u001b[39;00m \u001b[39mNone\u001b[39;00m:\n",
      "\u001b[1;31mKeyboardInterrupt\u001b[0m: "
     ]
    }
   ],
   "source": [
    "\n",
    "\n",
    "for model_name in model_names:\n",
    "    model = models_base.prebuilt_models(model_name, trainX, trainY, epochs= 10, batch_size=16, load_models=False, data= data_name)\n",
    "    validation_loss = models_base.evaluate_model(model, testX, testY)\n",
    "    models_base.plot_model(model_name, validation_loss, data_name)\n"
   ]
  },
  {
   "cell_type": "code",
   "execution_count": 31,
   "metadata": {},
   "outputs": [
    {
     "ename": "NameError",
     "evalue": "name 'Sequential' is not defined",
     "output_type": "error",
     "traceback": [
      "\u001b[1;31m---------------------------------------------------------------------------\u001b[0m",
      "\u001b[1;31mNameError\u001b[0m                                 Traceback (most recent call last)",
      "\u001b[1;32mc:\\Users\\Mikey\\Documents\\Github\\Hysterisis-ML-Modeling\\lib\\testing_scratch\\ras_henry_test.ipynb Cell 6\u001b[0m line \u001b[0;36m2\n\u001b[0;32m      <a href='vscode-notebook-cell:/c%3A/Users/Mikey/Documents/Github/Hysterisis-ML-Modeling/lib/testing_scratch/ras_henry_test.ipynb#X13sZmlsZQ%3D%3D?line=0'>1</a>\u001b[0m \u001b[39mfor\u001b[39;00m model_name \u001b[39min\u001b[39;00m model_names:\n\u001b[1;32m----> <a href='vscode-notebook-cell:/c%3A/Users/Mikey/Documents/Github/Hysterisis-ML-Modeling/lib/testing_scratch/ras_henry_test.ipynb#X13sZmlsZQ%3D%3D?line=1'>2</a>\u001b[0m     model \u001b[39m=\u001b[39m models_cuda\u001b[39m.\u001b[39;49mprebuilt_models(model_name, trainX, trainY, epochs\u001b[39m=\u001b[39;49m \u001b[39m10\u001b[39;49m, batch_size\u001b[39m=\u001b[39;49m\u001b[39m16\u001b[39;49m, load_models\u001b[39m=\u001b[39;49m\u001b[39mFalse\u001b[39;49;00m, data\u001b[39m=\u001b[39;49m data_name)\n\u001b[0;32m      <a href='vscode-notebook-cell:/c%3A/Users/Mikey/Documents/Github/Hysterisis-ML-Modeling/lib/testing_scratch/ras_henry_test.ipynb#X13sZmlsZQ%3D%3D?line=2'>3</a>\u001b[0m     validation_loss \u001b[39m=\u001b[39m models_cuda\u001b[39m.\u001b[39mevaluate_model(model, testX, testY)\n\u001b[0;32m      <a href='vscode-notebook-cell:/c%3A/Users/Mikey/Documents/Github/Hysterisis-ML-Modeling/lib/testing_scratch/ras_henry_test.ipynb#X13sZmlsZQ%3D%3D?line=3'>4</a>\u001b[0m     models_cuda\u001b[39m.\u001b[39mplot_model(model_name, validation_loss, data_name)\n",
      "File \u001b[1;32mc:\\Users\\Mikey\\Documents\\Github\\Hysterisis-ML-Modeling\\lib\\models_cuda.py:77\u001b[0m, in \u001b[0;36mprebuilt_models\u001b[1;34m(model_name, trainX, trainY, epochs, batch_size, loss, load_models, data)\u001b[0m\n\u001b[0;32m     75\u001b[0m \u001b[39m# Build and compile the model\u001b[39;00m\n\u001b[0;32m     76\u001b[0m \u001b[39mif\u001b[39;00m model \u001b[39mis\u001b[39;00m \u001b[39mnot\u001b[39;00m \u001b[39mNone\u001b[39;00m:\n\u001b[1;32m---> 77\u001b[0m     model\u001b[39m.\u001b[39;49mbuild_model()\n\u001b[0;32m     79\u001b[0m \u001b[39m# Train the model\u001b[39;00m\n\u001b[0;32m     80\u001b[0m history \u001b[39m=\u001b[39m model\u001b[39m.\u001b[39mtrain_model(trainX, trainY, epochs\u001b[39m=\u001b[39mepochs, batch_size\u001b[39m=\u001b[39mbatch_size)\n",
      "File \u001b[1;32mc:\\Users\\Mikey\\Documents\\Github\\Hysterisis-ML-Modeling\\lib\\model_defs\\BasicLSTMModel.py:6\u001b[0m, in \u001b[0;36mBasicLSTMModel.build_model\u001b[1;34m(self)\u001b[0m\n\u001b[0;32m      5\u001b[0m \u001b[39mdef\u001b[39;00m \u001b[39mbuild_model\u001b[39m(\u001b[39mself\u001b[39m):\n\u001b[1;32m----> 6\u001b[0m     \u001b[39mself\u001b[39m\u001b[39m.\u001b[39mmodel \u001b[39m=\u001b[39m Sequential()\n\u001b[0;32m      7\u001b[0m     \u001b[39mself\u001b[39m\u001b[39m.\u001b[39mmodel\u001b[39m.\u001b[39madd(LSTM(units\u001b[39m=\u001b[39m\u001b[39m125\u001b[39m, activation\u001b[39m=\u001b[39m\u001b[39m\"\u001b[39m\u001b[39mtanh\u001b[39m\u001b[39m\"\u001b[39m, input_shape\u001b[39m=\u001b[39m\u001b[39mself\u001b[39m\u001b[39m.\u001b[39minput_shape))\n\u001b[0;32m      8\u001b[0m     \u001b[39mself\u001b[39m\u001b[39m.\u001b[39mmodel\u001b[39m.\u001b[39madd(Dense(units\u001b[39m=\u001b[39m\u001b[39mself\u001b[39m\u001b[39m.\u001b[39moutput_units))\n",
      "\u001b[1;31mNameError\u001b[0m: name 'Sequential' is not defined"
     ]
    }
   ],
   "source": [
    "\n",
    "'''\n",
    "for model_name in model_names:\n",
    "    model = models_cuda.prebuilt_models(model_name, trainX, trainY, epochs= 10, batch_size=16, load_models=False, data= data_name)\n",
    "    validation_loss = models_cuda.evaluate_model(model, testX, testY)\n",
    "    models_cuda.plot_model(model_name, validation_loss, data_name)\n",
    "'''\n"
   ]
  },
  {
   "cell_type": "code",
   "execution_count": 32,
   "metadata": {},
   "outputs": [
    {
     "data": {
      "text/plain": [
       "datetime\n",
       "6/2/2022 10:00      6/2/2022 10:00\n",
       "6/2/2022 10:15      6/2/2022 10:15\n",
       "6/2/2022 10:30      6/2/2022 10:30\n",
       "6/2/2022 10:45      6/2/2022 10:45\n",
       "6/2/2022 11:00      6/2/2022 11:00\n",
       "                        ...       \n",
       "10/9/2023 23:00    10/9/2023 23:00\n",
       "10/9/2023 23:15    10/9/2023 23:15\n",
       "10/9/2023 23:30    10/9/2023 23:30\n",
       "10/9/2023 23:45    10/9/2023 23:45\n",
       "10/10/2023 0:00    10/10/2023 0:00\n",
       "Name: datetime, Length: 47481, dtype: object"
      ]
     },
     "execution_count": 32,
     "metadata": {},
     "output_type": "execute_result"
    }
   ],
   "source": [
    "test_dates"
   ]
  },
  {
   "cell_type": "code",
   "execution_count": 40,
   "metadata": {},
   "outputs": [
    {
     "name": "stdout",
     "output_type": "stream",
     "text": [
      "November 07 2023 - 09:01\n"
     ]
    }
   ],
   "source": []
  },
  {
   "cell_type": "code",
   "execution_count": 35,
   "metadata": {},
   "outputs": [],
   "source": [
    "%aimport predict"
   ]
  },
  {
   "cell_type": "code",
   "execution_count": 36,
   "metadata": {},
   "outputs": [
    {
     "ename": "ValueError",
     "evalue": "Event, ['3/18/2022 0:00', '4/7/2022 0:00'], not in test set date range. Please choose another range.",
     "output_type": "error",
     "traceback": [
      "\u001b[1;31m---------------------------------------------------------------------------\u001b[0m",
      "\u001b[1;31mValueError\u001b[0m                                Traceback (most recent call last)",
      "\u001b[1;32mc:\\Users\\Mikey\\Documents\\Github\\Hysterisis-ML-Modeling\\lib\\testing_scratch\\ras_henry_test.ipynb Cell 8\u001b[0m line \u001b[0;36m7\n\u001b[0;32m      <a href='vscode-notebook-cell:/c%3A/Users/Mikey/Documents/Github/Hysterisis-ML-Modeling/lib/testing_scratch/ras_henry_test.ipynb#W4sZmlsZQ%3D%3D?line=2'>3</a>\u001b[0m event_range \u001b[39m=\u001b[39m [tstart, tend]\n\u001b[0;32m      <a href='vscode-notebook-cell:/c%3A/Users/Mikey/Documents/Github/Hysterisis-ML-Modeling/lib/testing_scratch/ras_henry_test.ipynb#W4sZmlsZQ%3D%3D?line=4'>5</a>\u001b[0m \u001b[39mfor\u001b[39;00m model_name \u001b[39min\u001b[39;00m model_names:\n\u001b[0;32m      <a href='vscode-notebook-cell:/c%3A/Users/Mikey/Documents/Github/Hysterisis-ML-Modeling/lib/testing_scratch/ras_henry_test.ipynb#W4sZmlsZQ%3D%3D?line=5'>6</a>\u001b[0m     \u001b[39m#predicts = predict.predict(model_name, testX, data_name)\u001b[39;00m\n\u001b[1;32m----> <a href='vscode-notebook-cell:/c%3A/Users/Mikey/Documents/Github/Hysterisis-ML-Modeling/lib/testing_scratch/ras_henry_test.ipynb#W4sZmlsZQ%3D%3D?line=6'>7</a>\u001b[0m     predict\u001b[39m.\u001b[39mplot_predicts(model_name, predicts, testY, test_dates, data_name, event_range\u001b[39m=\u001b[39m event_range, event_plotstep\u001b[39m=\u001b[39m \u001b[39m\"\u001b[39m\u001b[39mDay\u001b[39m\u001b[39m\"\u001b[39m)\n",
      "File \u001b[1;32mc:\\Users\\Mikey\\Documents\\Github\\Hysterisis-ML-Modeling\\lib\\predict.py:36\u001b[0m, in \u001b[0;36mplot_predicts\u001b[1;34m(model_name, predicts, testY, test_dates, datamname, event_range, event_plotstep)\u001b[0m\n\u001b[0;32m     33\u001b[0m predicts \u001b[39m=\u001b[39m predicts\u001b[39m.\u001b[39mset_index(\u001b[39m\"\u001b[39m\u001b[39mdatetime\u001b[39m\u001b[39m\"\u001b[39m)\n\u001b[0;32m     35\u001b[0m \u001b[39mif\u001b[39;00m \u001b[39mnot\u001b[39;00m (event_range \u001b[39min\u001b[39;00m test_dates):\n\u001b[1;32m---> 36\u001b[0m     \u001b[39mraise\u001b[39;00m \u001b[39mValueError\u001b[39;00m(\u001b[39mf\u001b[39m\u001b[39m\"\u001b[39m\u001b[39mEvent, \u001b[39m\u001b[39m{\u001b[39;00mevent_range\u001b[39m}\u001b[39;00m\u001b[39m, not in test set date range. Please choose another range.\u001b[39m\u001b[39m\"\u001b[39m)\n\u001b[0;32m     38\u001b[0m \u001b[39mif\u001b[39;00m event_range \u001b[39m!=\u001b[39m \u001b[39mNone\u001b[39;00m:\n\u001b[0;32m     39\u001b[0m     event_range \u001b[39m=\u001b[39m pd\u001b[39m.\u001b[39mto_datetime(event_range)\n",
      "\u001b[1;31mValueError\u001b[0m: Event, ['3/18/2022 0:00', '4/7/2022 0:00'], not in test set date range. Please choose another range."
     ]
    }
   ],
   "source": [
    "tstart = '3/18/2022 0:00'\n",
    "tend = '4/7/2022 0:00'\n",
    "event_range = [tstart, tend]\n",
    "\n",
    "for model_name in model_names:\n",
    "    #predicts = predict.predict(model_name, testX, data_name)\n",
    "    predict.plot_predicts(model_name, predicts, testY, test_dates, data_name, event_range= event_range, event_plotstep= \"Day\")\n",
    "\n",
    "\n"
   ]
  },
  {
   "cell_type": "code",
   "execution_count": null,
   "metadata": {},
   "outputs": [],
   "source": []
  }
 ],
 "metadata": {
  "kernelspec": {
   "display_name": "MeselheResearch",
   "language": "python",
   "name": "python3"
  },
  "language_info": {
   "codemirror_mode": {
    "name": "ipython",
    "version": 3
   },
   "file_extension": ".py",
   "mimetype": "text/x-python",
   "name": "python",
   "nbconvert_exporter": "python",
   "pygments_lexer": "ipython3",
   "version": "3.10.0"
  }
 },
 "nbformat": 4,
 "nbformat_minor": 2
}
