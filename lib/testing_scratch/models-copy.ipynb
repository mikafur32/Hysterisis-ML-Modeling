{
    "cells": [
        {
            "cell_type": "markdown",
            "metadata": {},
            "source": [
                "# LSTMs test"
            ]
        },
        {
            "cell_type": "code",
            "execution_count": 113,
            "metadata": {},
            "outputs": [
                {
                    "name": "stdout",
                    "output_type": "stream",
                    "text": [
                        "The autoreload extension is already loaded. To reload it, use:\n",
                        "  %reload_ext autoreload\n",
                        "c:\\Users\\Mikey\\Documents\\Github\\Hysterisis-ML-Modeling\\lib\n"
                    ]
                }
            ],
            "source": [
                "import numpy as np\n",
                "import pandas as pd\n",
                "from sklearn.preprocessing import StandardScaler\n",
                "import matplotlib.dates as mdates\n",
                "from keras.models import Sequential\n",
                "from keras.layers import LSTM\n",
                "from keras.layers import Dense, Dropout\n",
                "import tensorflow as tf\n",
                "import seaborn as sns\n",
                "from matplotlib import pyplot as plt\n",
                "import os\n",
                "%load_ext autoreload\n",
                "%autoreload 1\n",
                "\n",
                "\n",
                "#os.chdir(\".\\\\lib\")\n",
                "print(os.getcwd())\n",
                "\n",
                "import models, ingest, predict"
            ]
        },
        {
            "cell_type": "code",
            "execution_count": 127,
            "metadata": {},
            "outputs": [
                {
                    "name": "stderr",
                    "output_type": "stream",
                    "text": [
                        "c:\\Users\\Mikey\\Documents\\Github\\Hysterisis-ML-Modeling\\lib\\ingest.py:38: FutureWarning: Series.__getitem__ treating keys as positions is deprecated. In a future version, integer keys will always be treated as labels (consistent with DataFrame behavior). To access a value by position, use `ser.iloc[pos]`\n",
                        "  train_range, test_range = [all_dates[0], all_dates[-1]], [all_dates[0], all_dates[-1]]\n"
                    ]
                }
            ],
            "source": [
                "csv = \"..\\\\data\\\\USGS_WS_2017_2023.csv\"\n",
                "columns = {\n",
                "           \"Peoria_WL\": \"Peoria_WL\",\n",
                "           \"Henry_WL\": \"Henry_WL\",\n",
                "           \"Flow\": \"Flow\",\n",
                "           \"Vel\": \"Vel\",\n",
                "           \"Slope\": \"Slope\"\n",
                "           }\n",
                "target = \"Flow\"\n",
                "data_name = \"USGS_WS_2017_2023\"\n",
                "USGS_FLAG = True\n",
                "\n",
                "target = \"Flow\"\n",
                "\n",
                "\n",
                "train_scaled, test_scaled, train_dates, test_dates, all_dates, scaler = ingest.ingest(csv, target, renames= columns, USGS_FLAG=USGS_FLAG)\n",
                "\n",
                "\n",
                "trainX, trainY = ingest.reshape(train_scaled)#, timestep_type= \"hr\")\n",
                "testX, testY = ingest.reshape(test_scaled)#, timestep_type= \"hr\")\n"
            ]
        },
        {
            "cell_type": "code",
            "execution_count": 128,
            "metadata": {},
            "outputs": [
                {
                    "data": {
                        "text/plain": [
                            "array([[[ 0.20842176, -0.39074207, -0.13179477,  0.79287625,\n",
                            "          1.15802436],\n",
                            "        [ 0.04137234, -0.45350442, -0.22421608,  0.54318959,\n",
                            "          1.00516662],\n",
                            "        [-0.08209897, -0.55078605, -0.32558138,  0.36949453,\n",
                            "          0.96225918],\n",
                            "        ...,\n",
                            "        [-0.65006699, -0.56647663, -0.70719194, -0.6075402 ,\n",
                            "         -0.82376287],\n",
                            "        [-0.51788006, -0.48488559, -0.6207333 , -0.35785354,\n",
                            "         -0.77817371],\n",
                            "        [-0.16925519, -0.41898513, -0.44185335,  0.27179106,\n",
                            "         -0.21233189]],\n",
                            "\n",
                            "       [[ 0.04137234, -0.45350442, -0.22421608,  0.54318959,\n",
                            "          1.00516662],\n",
                            "        [-0.08209897, -0.55078605, -0.32558138,  0.36949453,\n",
                            "          0.96225918],\n",
                            "        [-0.09662501, -0.63551521, -0.37924537,  0.38035047,\n",
                            "          1.09366321],\n",
                            "        ...,\n",
                            "        [-0.51788006, -0.48488559, -0.6207333 , -0.35785354,\n",
                            "         -0.77817371],\n",
                            "        [-0.16925519, -0.41898513, -0.44185335,  0.27179106,\n",
                            "         -0.21233189],\n",
                            "        [ 0.9056715 , -0.29973668,  0.0679545 ,  0.97018996,\n",
                            "          1.72118447]],\n",
                            "\n",
                            "       [[-0.08209897, -0.55078605, -0.32558138,  0.36949453,\n",
                            "          0.96225918],\n",
                            "        [-0.09662501, -0.63551521, -0.37924537,  0.38035047,\n",
                            "          1.09366321],\n",
                            "        [ 0.07042441, -0.77359236, -0.40309603,  0.73859654,\n",
                            "          1.61391588],\n",
                            "        ...,\n",
                            "        [-0.16925519, -0.41898513, -0.44185335,  0.27179106,\n",
                            "         -0.21233189],\n",
                            "        [ 0.9056715 , -0.29973668,  0.0679545 ,  0.97018996,\n",
                            "          1.72118447],\n",
                            "        [ 1.98059819, -0.08634471,  0.57776236,  1.66858886,\n",
                            "          3.22294475]],\n",
                            "\n",
                            "       ...,\n",
                            "\n",
                            "       [[-0.78879064, -0.60727216, -0.5939013 , -0.93321844,\n",
                            "         -0.08360958],\n",
                            "        [-0.75247555, -0.61982462, -0.52533066, -0.87893873,\n",
                            "          0.30792077],\n",
                            "        [-0.92206702, -0.61041027, -0.52234932, -1.21004495,\n",
                            "          0.28110363],\n",
                            "        ...,\n",
                            "        [-0.91734606, -0.67317261, -0.89799722, -1.12862539,\n",
                            "         -1.25820066],\n",
                            "        [-0.98852364, -0.68258697, -0.90694121, -1.28060857,\n",
                            "         -1.25820066],\n",
                            "        [-0.98271323, -0.71396814, -0.90097855, -1.26975262,\n",
                            "         -1.0838892 ]],\n",
                            "\n",
                            "       [[-0.75247555, -0.61982462, -0.52533066, -0.87893873,\n",
                            "          0.30792077],\n",
                            "        [-0.92206702, -0.61041027, -0.52234932, -1.21004495,\n",
                            "          0.28110363],\n",
                            "        [-1.0916585 , -0.64179144, -0.51936799, -1.54115116,\n",
                            "          0.4393248 ],\n",
                            "        ...,\n",
                            "        [-0.98852364, -0.68258697, -0.90694121, -1.28060857,\n",
                            "         -1.25820066],\n",
                            "        [-0.98271323, -0.71396814, -0.90097855, -1.26975262,\n",
                            "         -1.0838892 ],\n",
                            "        [-0.83817916, -0.70455379, -0.87116522, -0.96578626,\n",
                            "         -0.98198404]],\n",
                            "\n",
                            "       [[-0.92206702, -0.61041027, -0.52234932, -1.21004495,\n",
                            "          0.28110363],\n",
                            "        [-1.0916585 , -0.64179144, -0.51936799, -1.54115116,\n",
                            "          0.4393248 ],\n",
                            "        [-1.00595488, -0.63865333, -0.48955467, -1.37831204,\n",
                            "          0.57072882],\n",
                            "        ...,\n",
                            "        [-0.98271323, -0.71396814, -0.90097855, -1.26975262,\n",
                            "         -1.0838892 ],\n",
                            "        [-0.83817916, -0.70455379, -0.87116522, -0.96578626,\n",
                            "         -0.98198404],\n",
                            "        [-0.87885207, -0.6888632 , -0.86818389, -1.0526338 ,\n",
                            "         -1.04098176]]])"
                        ]
                    },
                    "execution_count": 128,
                    "metadata": {},
                    "output_type": "execute_result"
                }
            ],
            "source": [
                "trainX"
            ]
        },
        {
            "cell_type": "code",
            "execution_count": 124,
            "metadata": {},
            "outputs": [],
            "source": [
                "df= pd.read_csv(csv)\n",
                "df =  df[['datetime'] + [target] + list(filter(lambda x: x!=target, list(columns.values())))] if( target in list(columns.values())) else df[['datetime'] +[target] + list(renames.values())]\n"
            ]
        },
        {
            "cell_type": "code",
            "execution_count": 125,
            "metadata": {},
            "outputs": [
                {
                    "data": {
                        "text/html": [
                            "<div>\n",
                            "<style scoped>\n",
                            "    .dataframe tbody tr th:only-of-type {\n",
                            "        vertical-align: middle;\n",
                            "    }\n",
                            "\n",
                            "    .dataframe tbody tr th {\n",
                            "        vertical-align: top;\n",
                            "    }\n",
                            "\n",
                            "    .dataframe thead th {\n",
                            "        text-align: right;\n",
                            "    }\n",
                            "</style>\n",
                            "<table border=\"1\" class=\"dataframe\">\n",
                            "  <thead>\n",
                            "    <tr style=\"text-align: right;\">\n",
                            "      <th></th>\n",
                            "      <th>datetime</th>\n",
                            "      <th>Flow</th>\n",
                            "      <th>Peoria_WL</th>\n",
                            "      <th>Henry_WL</th>\n",
                            "      <th>Vel</th>\n",
                            "      <th>Slope</th>\n",
                            "    </tr>\n",
                            "  </thead>\n",
                            "  <tbody>\n",
                            "    <tr>\n",
                            "      <th>0</th>\n",
                            "      <td>1/1/2017 6:00</td>\n",
                            "      <td>20400.0</td>\n",
                            "      <td>440.91</td>\n",
                            "      <td>442.800</td>\n",
                            "      <td>2.45</td>\n",
                            "      <td>1.020000e-05</td>\n",
                            "    </tr>\n",
                            "    <tr>\n",
                            "      <th>1</th>\n",
                            "      <td>1/2/2017 6:00</td>\n",
                            "      <td>18100.0</td>\n",
                            "      <td>440.71</td>\n",
                            "      <td>442.490</td>\n",
                            "      <td>2.22</td>\n",
                            "      <td>9.630000e-06</td>\n",
                            "    </tr>\n",
                            "    <tr>\n",
                            "      <th>2</th>\n",
                            "      <td>1/3/2017 6:00</td>\n",
                            "      <td>16400.0</td>\n",
                            "      <td>440.40</td>\n",
                            "      <td>442.150</td>\n",
                            "      <td>2.06</td>\n",
                            "      <td>9.470000e-06</td>\n",
                            "    </tr>\n",
                            "    <tr>\n",
                            "      <th>3</th>\n",
                            "      <td>1/4/2017 6:00</td>\n",
                            "      <td>16200.0</td>\n",
                            "      <td>440.13</td>\n",
                            "      <td>441.970</td>\n",
                            "      <td>2.07</td>\n",
                            "      <td>9.960000e-06</td>\n",
                            "    </tr>\n",
                            "    <tr>\n",
                            "      <th>4</th>\n",
                            "      <td>1/5/2017 6:00</td>\n",
                            "      <td>18500.0</td>\n",
                            "      <td>439.69</td>\n",
                            "      <td>441.890</td>\n",
                            "      <td>2.40</td>\n",
                            "      <td>1.190000e-05</td>\n",
                            "    </tr>\n",
                            "    <tr>\n",
                            "      <th>...</th>\n",
                            "      <td>...</td>\n",
                            "      <td>...</td>\n",
                            "      <td>...</td>\n",
                            "      <td>...</td>\n",
                            "      <td>...</td>\n",
                            "      <td>...</td>\n",
                            "    </tr>\n",
                            "    <tr>\n",
                            "      <th>2155</th>\n",
                            "      <td>11/26/2022 6:00</td>\n",
                            "      <td>3670.0</td>\n",
                            "      <td>439.78</td>\n",
                            "      <td>440.050</td>\n",
                            "      <td>0.51</td>\n",
                            "      <td>1.460000e-06</td>\n",
                            "    </tr>\n",
                            "    <tr>\n",
                            "      <th>2156</th>\n",
                            "      <td>11/27/2022 6:00</td>\n",
                            "      <td>5930.0</td>\n",
                            "      <td>440.19</td>\n",
                            "      <td>440.200</td>\n",
                            "      <td>0.83</td>\n",
                            "      <td>5.410000e-08</td>\n",
                            "    </tr>\n",
                            "    <tr>\n",
                            "      <th>2157</th>\n",
                            "      <td>11/28/2022 6:00</td>\n",
                            "      <td>5380.0</td>\n",
                            "      <td>439.99</td>\n",
                            "      <td>440.220</td>\n",
                            "      <td>0.75</td>\n",
                            "      <td>1.240000e-06</td>\n",
                            "    </tr>\n",
                            "    <tr>\n",
                            "      <th>2158</th>\n",
                            "      <td>11/29/2022 6:00</td>\n",
                            "      <td>6710.0</td>\n",
                            "      <td>439.82</td>\n",
                            "      <td>440.345</td>\n",
                            "      <td>0.93</td>\n",
                            "      <td>2.840000e-06</td>\n",
                            "    </tr>\n",
                            "    <tr>\n",
                            "      <th>2159</th>\n",
                            "      <td>11/30/2022 6:00</td>\n",
                            "      <td>8040.0</td>\n",
                            "      <td>440.09</td>\n",
                            "      <td>440.470</td>\n",
                            "      <td>1.11</td>\n",
                            "      <td>2.060000e-06</td>\n",
                            "    </tr>\n",
                            "  </tbody>\n",
                            "</table>\n",
                            "<p>2160 rows × 6 columns</p>\n",
                            "</div>"
                        ],
                        "text/plain": [
                            "             datetime     Flow  Peoria_WL  Henry_WL   Vel         Slope\n",
                            "0       1/1/2017 6:00  20400.0     440.91   442.800  2.45  1.020000e-05\n",
                            "1       1/2/2017 6:00  18100.0     440.71   442.490  2.22  9.630000e-06\n",
                            "2       1/3/2017 6:00  16400.0     440.40   442.150  2.06  9.470000e-06\n",
                            "3       1/4/2017 6:00  16200.0     440.13   441.970  2.07  9.960000e-06\n",
                            "4       1/5/2017 6:00  18500.0     439.69   441.890  2.40  1.190000e-05\n",
                            "...               ...      ...        ...       ...   ...           ...\n",
                            "2155  11/26/2022 6:00   3670.0     439.78   440.050  0.51  1.460000e-06\n",
                            "2156  11/27/2022 6:00   5930.0     440.19   440.200  0.83  5.410000e-08\n",
                            "2157  11/28/2022 6:00   5380.0     439.99   440.220  0.75  1.240000e-06\n",
                            "2158  11/29/2022 6:00   6710.0     439.82   440.345  0.93  2.840000e-06\n",
                            "2159  11/30/2022 6:00   8040.0     440.09   440.470  1.11  2.060000e-06\n",
                            "\n",
                            "[2160 rows x 6 columns]"
                        ]
                    },
                    "execution_count": 125,
                    "metadata": {},
                    "output_type": "execute_result"
                }
            ],
            "source": [
                "df"
            ]
        },
        {
            "cell_type": "markdown",
            "metadata": {},
            "source": []
        },
        {
            "cell_type": "code",
            "execution_count": 130,
            "metadata": {},
            "outputs": [
                {
                    "name": "stdout",
                    "output_type": "stream",
                    "text": [
                        "Model: \"sequential_3\"\n",
                        "_________________________________________________________________\n",
                        " Layer (type)                Output Shape              Param #   \n",
                        "=================================================================\n",
                        " lstm_9 (LSTM)               (None, 288, 64)           17920     \n",
                        "                                                                 \n",
                        " dropout_9 (Dropout)         (None, 288, 64)           0         \n",
                        "                                                                 \n",
                        " lstm_10 (LSTM)              (None, 288, 64)           33024     \n",
                        "                                                                 \n",
                        " dropout_10 (Dropout)        (None, 288, 64)           0         \n",
                        "                                                                 \n",
                        " lstm_11 (LSTM)              (None, 32)                12416     \n",
                        "                                                                 \n",
                        " dropout_11 (Dropout)        (None, 32)                0         \n",
                        "                                                                 \n",
                        " dense_3 (Dense)             (None, 1)                 33        \n",
                        "                                                                 \n",
                        "=================================================================\n",
                        "Total params: 63393 (247.63 KB)\n",
                        "Trainable params: 63393 (247.63 KB)\n",
                        "Non-trainable params: 0 (0.00 Byte)\n",
                        "_________________________________________________________________\n",
                        "Epoch 1/2\n",
                        "53/53 [==============================] - 14s 209ms/step - loss: 0.8673 - val_loss: 0.2838\n",
                        "Epoch 2/2\n",
                        "53/53 [==============================] - 10s 188ms/step - loss: 0.8020 - val_loss: 0.5017\n",
                        "saving model\n",
                        "INFO:tensorflow:Assets written to: saved_model_multi/None/Stacked_LSTM_Saved_None\\assets\n"
                    ]
                },
                {
                    "name": "stderr",
                    "output_type": "stream",
                    "text": [
                        "INFO:tensorflow:Assets written to: saved_model_multi/None/Stacked_LSTM_Saved_None\\assets\n"
                    ]
                },
                {
                    "name": "stdout",
                    "output_type": "stream",
                    "text": [
                        "saving history\n",
                        "evaluating model\n",
                        "59/59 [==============================] - 4s 71ms/step - loss: 0.7842\n",
                        "Validation loss: 0.7842156291007996\n"
                    ]
                }
            ],
            "source": [
                "\n",
                "model_name =  \"Stacked_LSTM\"#,'Bidirectional_LSTM','Attention_LSTM', \"GRU\"]\n",
                "\n",
                "model = models.prebuilt_models(model_name, trainX, trainY, epochs=2, batch_size= 32)\n",
                "validation_loss = models.evaluate_model(model, testX, testY)\n",
                "models.plot_model( model_name, validation_loss, None)\n"
            ]
        },
        {
            "cell_type": "code",
            "execution_count": 53,
            "metadata": {},
            "outputs": [
                {
                    "name": "stdout",
                    "output_type": "stream",
                    "text": [
                        "retrieving and loading model\n",
                        "predicting\n",
                        "59/59 [==============================] - 6s 78ms/step\n"
                    ]
                },
                {
                    "data": {
                        "text/html": [
                            "<div>\n",
                            "<style scoped>\n",
                            "    .dataframe tbody tr th:only-of-type {\n",
                            "        vertical-align: middle;\n",
                            "    }\n",
                            "\n",
                            "    .dataframe tbody tr th {\n",
                            "        vertical-align: top;\n",
                            "    }\n",
                            "\n",
                            "    .dataframe thead th {\n",
                            "        text-align: right;\n",
                            "    }\n",
                            "</style>\n",
                            "<table border=\"1\" class=\"dataframe\">\n",
                            "  <thead>\n",
                            "    <tr style=\"text-align: right;\">\n",
                            "      <th></th>\n",
                            "      <th>0</th>\n",
                            "    </tr>\n",
                            "  </thead>\n",
                            "  <tbody>\n",
                            "    <tr>\n",
                            "      <th>0</th>\n",
                            "      <td>-0.563839</td>\n",
                            "    </tr>\n",
                            "    <tr>\n",
                            "      <th>1</th>\n",
                            "      <td>-0.512318</td>\n",
                            "    </tr>\n",
                            "    <tr>\n",
                            "      <th>2</th>\n",
                            "      <td>-0.416317</td>\n",
                            "    </tr>\n",
                            "    <tr>\n",
                            "      <th>3</th>\n",
                            "      <td>-0.289182</td>\n",
                            "    </tr>\n",
                            "    <tr>\n",
                            "      <th>4</th>\n",
                            "      <td>-0.158607</td>\n",
                            "    </tr>\n",
                            "    <tr>\n",
                            "      <th>...</th>\n",
                            "      <td>...</td>\n",
                            "    </tr>\n",
                            "    <tr>\n",
                            "      <th>1856</th>\n",
                            "      <td>-0.638408</td>\n",
                            "    </tr>\n",
                            "    <tr>\n",
                            "      <th>1857</th>\n",
                            "      <td>-0.639914</td>\n",
                            "    </tr>\n",
                            "    <tr>\n",
                            "      <th>1858</th>\n",
                            "      <td>-0.642236</td>\n",
                            "    </tr>\n",
                            "    <tr>\n",
                            "      <th>1859</th>\n",
                            "      <td>-0.642799</td>\n",
                            "    </tr>\n",
                            "    <tr>\n",
                            "      <th>1860</th>\n",
                            "      <td>-0.641845</td>\n",
                            "    </tr>\n",
                            "  </tbody>\n",
                            "</table>\n",
                            "<p>1861 rows × 1 columns</p>\n",
                            "</div>"
                        ],
                        "text/plain": [
                            "             0\n",
                            "0    -0.563839\n",
                            "1    -0.512318\n",
                            "2    -0.416317\n",
                            "3    -0.289182\n",
                            "4    -0.158607\n",
                            "...        ...\n",
                            "1856 -0.638408\n",
                            "1857 -0.639914\n",
                            "1858 -0.642236\n",
                            "1859 -0.642799\n",
                            "1860 -0.641845\n",
                            "\n",
                            "[1861 rows x 1 columns]"
                        ]
                    },
                    "execution_count": 53,
                    "metadata": {},
                    "output_type": "execute_result"
                }
            ],
            "source": [
                "#predict_date_range=['2020-05-15 00:00:00-00:00', '2020-07-01 00:00:00-00:00']\n",
                "\n",
                "predicts = predict.predict(model_name, testX)\n",
                "\n",
                "predicts"
            ]
        },
        {
            "cell_type": "code",
            "execution_count": 54,
            "metadata": {},
            "outputs": [],
            "source": [
                "%aimport predict\n",
                "%aimport ingest\n",
                "%aimport models\n",
                "\n",
                "\n"
            ]
        },
        {
            "cell_type": "markdown",
            "metadata": {},
            "source": []
        },
        {
            "cell_type": "code",
            "execution_count": 55,
            "metadata": {},
            "outputs": [
                {
                    "name": "stderr",
                    "output_type": "stream",
                    "text": [
                        "C:\\Users\\Mikey\\AppData\\Local\\Temp\\ipykernel_19444\\570327405.py:10: UserWarning: Could not infer format, so each element will be parsed individually, falling back to `dateutil`. To ensure parsing is consistent and as-expected, please specify a format.\n",
                        "  pd.to_datetime(df.index)\n"
                    ]
                },
                {
                    "data": {
                        "text/plain": [
                            "DatetimeIndex(['2017-01-01 06:00:00', '2017-01-02 06:00:00',\n",
                            "               '2017-01-03 06:00:00', '2017-01-04 06:00:00',\n",
                            "               '2017-01-05 06:00:00', '2017-01-06 06:00:00',\n",
                            "               '2017-01-07 06:00:00', '2017-01-08 06:00:00',\n",
                            "               '2017-01-09 06:00:00', '2017-01-10 06:00:00',\n",
                            "               ...\n",
                            "               '2022-11-21 06:00:00', '2022-11-22 06:00:00',\n",
                            "               '2022-11-23 06:00:00', '2022-11-24 06:00:00',\n",
                            "               '2022-11-25 06:00:00', '2022-11-26 06:00:00',\n",
                            "               '2022-11-27 06:00:00', '2022-11-28 06:00:00',\n",
                            "               '2022-11-29 06:00:00', '2022-11-30 06:00:00'],\n",
                            "              dtype='datetime64[ns]', name='datetime', length=2160, freq=None)"
                        ]
                    },
                    "execution_count": 55,
                    "metadata": {},
                    "output_type": "execute_result"
                }
            ],
            "source": [
                "\n",
                "\n",
                "\n",
                "\n",
                "# So much work for a oneliner HAHA\n",
                "df =  df[[target] + list(filter(lambda x: x!=target, list(renames.values())))] if( target in list(renames.values())) else df[[target] + list(renames.values())]\n",
                "\n",
                "df = df.set_index('datetime')\n",
                "pd.to_datetime(df.index)"
            ]
        },
        {
            "cell_type": "code",
            "execution_count": 56,
            "metadata": {},
            "outputs": [
                {
                    "data": {
                        "text/plain": [
                            "array([[ 1.04366885],\n",
                            "       [ 0.68051794],\n",
                            "       [ 0.52799456],\n",
                            "       ...,\n",
                            "       [-0.88248358],\n",
                            "       [-0.78588543],\n",
                            "       [-0.68928729]])"
                        ]
                    },
                    "execution_count": 56,
                    "metadata": {},
                    "output_type": "execute_result"
                }
            ],
            "source": [
                "testY"
            ]
        },
        {
            "cell_type": "markdown",
            "metadata": {},
            "source": []
        },
        {
            "cell_type": "code",
            "execution_count": 59,
            "metadata": {},
            "outputs": [
                {
                    "name": "stderr",
                    "output_type": "stream",
                    "text": [
                        "c:\\Users\\Mikey\\Documents\\Github\\Hysterisis-ML-Modeling\\lib\\predict.py:22: UserWarning: Could not infer format, so each element will be parsed individually, falling back to `dateutil`. To ensure parsing is consistent and as-expected, please specify a format.\n",
                        "  plt.plot(pd.to_datetime(testY.index), testY.iloc[:, 0], label='Actual')\n",
                        "c:\\Users\\Mikey\\Documents\\Github\\Hysterisis-ML-Modeling\\lib\\predict.py:23: UserWarning: Could not infer format, so each element will be parsed individually, falling back to `dateutil`. To ensure parsing is consistent and as-expected, please specify a format.\n",
                        "  plt.plot(pd.to_datetime(testY.index), predicts.iloc[:, 0], label='Predicted')\n"
                    ]
                },
                {
                    "ename": "FileNotFoundError",
                    "evalue": "[Errno 2] No such file or directory: 'model_results/test/test_predictions.png'",
                    "output_type": "error",
                    "traceback": [
                        "\u001b[1;31m---------------------------------------------------------------------------\u001b[0m",
                        "\u001b[1;31mFileNotFoundError\u001b[0m                         Traceback (most recent call last)",
                        "\u001b[1;32mc:\\Users\\Mikey\\Documents\\Github\\Hysterisis-ML-Modeling\\lib\\models-copy.ipynb Cell 11\u001b[0m line \u001b[0;36m1\n\u001b[1;32m----> <a href='vscode-notebook-cell:/c%3A/Users/Mikey/Documents/Github/Hysterisis-ML-Modeling/lib/models-copy.ipynb#X10sZmlsZQ%3D%3D?line=0'>1</a>\u001b[0m predict\u001b[39m.\u001b[39mplot_predicts(\u001b[39m\"\u001b[39m\u001b[39mtest\u001b[39m\u001b[39m\"\u001b[39m, predicts, testY, test_dates)\n",
                        "File \u001b[1;32mc:\\Users\\Mikey\\Documents\\Github\\Hysterisis-ML-Modeling\\lib\\predict.py:34\u001b[0m, in \u001b[0;36mplot_predicts\u001b[1;34m(model_name, predicts, testY, test_dates)\u001b[0m\n\u001b[0;32m     31\u001b[0m plt\u001b[39m.\u001b[39msetp(ax\u001b[39m.\u001b[39mget_xticklabels(), rotation\u001b[39m=\u001b[39m\u001b[39m45\u001b[39m, ha\u001b[39m=\u001b[39m\u001b[39m\"\u001b[39m\u001b[39mright\u001b[39m\u001b[39m\"\u001b[39m)  \u001b[39m# Rotate the x-axis labels for better visibility\u001b[39;00m\n\u001b[0;32m     33\u001b[0m plt\u001b[39m.\u001b[39mlegend()\n\u001b[1;32m---> 34\u001b[0m plt\u001b[39m.\u001b[39msavefig(\u001b[39mfr\u001b[39m\u001b[39m\"\u001b[39m\u001b[39mmodel_results/\u001b[39m\u001b[39m{\u001b[39;00mmodel_name\u001b[39m}\u001b[39;00m\u001b[39m/\u001b[39m\u001b[39m{\u001b[39;00mmodel_name\u001b[39m}\u001b[39;00m\u001b[39m_predictions.png\u001b[39m\u001b[39m\"\u001b[39m)  \n\u001b[0;32m     35\u001b[0m plt\u001b[39m.\u001b[39mclose()\n",
                        "File \u001b[1;32mc:\\Users\\Mikey\\.conda\\envs\\MeselheResearch\\Lib\\site-packages\\matplotlib\\pyplot.py:1119\u001b[0m, in \u001b[0;36msavefig\u001b[1;34m(*args, **kwargs)\u001b[0m\n\u001b[0;32m   1116\u001b[0m fig \u001b[39m=\u001b[39m gcf()\n\u001b[0;32m   1117\u001b[0m \u001b[39m# savefig default implementation has no return, so mypy is unhappy\u001b[39;00m\n\u001b[0;32m   1118\u001b[0m \u001b[39m# presumably this is here because subclasses can return?\u001b[39;00m\n\u001b[1;32m-> 1119\u001b[0m res \u001b[39m=\u001b[39m fig\u001b[39m.\u001b[39msavefig(\u001b[39m*\u001b[39margs, \u001b[39m*\u001b[39m\u001b[39m*\u001b[39mkwargs)  \u001b[39m# type: ignore[func-returns-value]\u001b[39;00m\n\u001b[0;32m   1120\u001b[0m fig\u001b[39m.\u001b[39mcanvas\u001b[39m.\u001b[39mdraw_idle()  \u001b[39m# Need this if 'transparent=True', to reset colors.\u001b[39;00m\n\u001b[0;32m   1121\u001b[0m \u001b[39mreturn\u001b[39;00m res\n",
                        "File \u001b[1;32mc:\\Users\\Mikey\\.conda\\envs\\MeselheResearch\\Lib\\site-packages\\matplotlib\\figure.py:3390\u001b[0m, in \u001b[0;36mFigure.savefig\u001b[1;34m(self, fname, transparent, **kwargs)\u001b[0m\n\u001b[0;32m   3388\u001b[0m     \u001b[39mfor\u001b[39;00m ax \u001b[39min\u001b[39;00m \u001b[39mself\u001b[39m\u001b[39m.\u001b[39maxes:\n\u001b[0;32m   3389\u001b[0m         _recursively_make_axes_transparent(stack, ax)\n\u001b[1;32m-> 3390\u001b[0m \u001b[39mself\u001b[39m\u001b[39m.\u001b[39mcanvas\u001b[39m.\u001b[39mprint_figure(fname, \u001b[39m*\u001b[39m\u001b[39m*\u001b[39mkwargs)\n",
                        "File \u001b[1;32mc:\\Users\\Mikey\\.conda\\envs\\MeselheResearch\\Lib\\site-packages\\matplotlib\\backend_bases.py:2187\u001b[0m, in \u001b[0;36mFigureCanvasBase.print_figure\u001b[1;34m(self, filename, dpi, facecolor, edgecolor, orientation, format, bbox_inches, pad_inches, bbox_extra_artists, backend, **kwargs)\u001b[0m\n\u001b[0;32m   2183\u001b[0m \u001b[39mtry\u001b[39;00m:\n\u001b[0;32m   2184\u001b[0m     \u001b[39m# _get_renderer may change the figure dpi (as vector formats\u001b[39;00m\n\u001b[0;32m   2185\u001b[0m     \u001b[39m# force the figure dpi to 72), so we need to set it again here.\u001b[39;00m\n\u001b[0;32m   2186\u001b[0m     \u001b[39mwith\u001b[39;00m cbook\u001b[39m.\u001b[39m_setattr_cm(\u001b[39mself\u001b[39m\u001b[39m.\u001b[39mfigure, dpi\u001b[39m=\u001b[39mdpi):\n\u001b[1;32m-> 2187\u001b[0m         result \u001b[39m=\u001b[39m print_method(\n\u001b[0;32m   2188\u001b[0m             filename,\n\u001b[0;32m   2189\u001b[0m             facecolor\u001b[39m=\u001b[39mfacecolor,\n\u001b[0;32m   2190\u001b[0m             edgecolor\u001b[39m=\u001b[39medgecolor,\n\u001b[0;32m   2191\u001b[0m             orientation\u001b[39m=\u001b[39morientation,\n\u001b[0;32m   2192\u001b[0m             bbox_inches_restore\u001b[39m=\u001b[39m_bbox_inches_restore,\n\u001b[0;32m   2193\u001b[0m             \u001b[39m*\u001b[39m\u001b[39m*\u001b[39mkwargs)\n\u001b[0;32m   2194\u001b[0m \u001b[39mfinally\u001b[39;00m:\n\u001b[0;32m   2195\u001b[0m     \u001b[39mif\u001b[39;00m bbox_inches \u001b[39mand\u001b[39;00m restore_bbox:\n",
                        "File \u001b[1;32mc:\\Users\\Mikey\\.conda\\envs\\MeselheResearch\\Lib\\site-packages\\matplotlib\\backend_bases.py:2043\u001b[0m, in \u001b[0;36mFigureCanvasBase._switch_canvas_and_return_print_method.<locals>.<lambda>\u001b[1;34m(*args, **kwargs)\u001b[0m\n\u001b[0;32m   2039\u001b[0m     optional_kws \u001b[39m=\u001b[39m {  \u001b[39m# Passed by print_figure for other renderers.\u001b[39;00m\n\u001b[0;32m   2040\u001b[0m         \u001b[39m\"\u001b[39m\u001b[39mdpi\u001b[39m\u001b[39m\"\u001b[39m, \u001b[39m\"\u001b[39m\u001b[39mfacecolor\u001b[39m\u001b[39m\"\u001b[39m, \u001b[39m\"\u001b[39m\u001b[39medgecolor\u001b[39m\u001b[39m\"\u001b[39m, \u001b[39m\"\u001b[39m\u001b[39morientation\u001b[39m\u001b[39m\"\u001b[39m,\n\u001b[0;32m   2041\u001b[0m         \u001b[39m\"\u001b[39m\u001b[39mbbox_inches_restore\u001b[39m\u001b[39m\"\u001b[39m}\n\u001b[0;32m   2042\u001b[0m     skip \u001b[39m=\u001b[39m optional_kws \u001b[39m-\u001b[39m {\u001b[39m*\u001b[39minspect\u001b[39m.\u001b[39msignature(meth)\u001b[39m.\u001b[39mparameters}\n\u001b[1;32m-> 2043\u001b[0m     print_method \u001b[39m=\u001b[39m functools\u001b[39m.\u001b[39mwraps(meth)(\u001b[39mlambda\u001b[39;00m \u001b[39m*\u001b[39margs, \u001b[39m*\u001b[39m\u001b[39m*\u001b[39mkwargs: meth(\n\u001b[0;32m   2044\u001b[0m         \u001b[39m*\u001b[39margs, \u001b[39m*\u001b[39m\u001b[39m*\u001b[39m{k: v \u001b[39mfor\u001b[39;00m k, v \u001b[39min\u001b[39;00m kwargs\u001b[39m.\u001b[39mitems() \u001b[39mif\u001b[39;00m k \u001b[39mnot\u001b[39;00m \u001b[39min\u001b[39;00m skip}))\n\u001b[0;32m   2045\u001b[0m \u001b[39melse\u001b[39;00m:  \u001b[39m# Let third-parties do as they see fit.\u001b[39;00m\n\u001b[0;32m   2046\u001b[0m     print_method \u001b[39m=\u001b[39m meth\n",
                        "File \u001b[1;32mc:\\Users\\Mikey\\.conda\\envs\\MeselheResearch\\Lib\\site-packages\\matplotlib\\backends\\backend_agg.py:497\u001b[0m, in \u001b[0;36mFigureCanvasAgg.print_png\u001b[1;34m(self, filename_or_obj, metadata, pil_kwargs)\u001b[0m\n\u001b[0;32m    450\u001b[0m \u001b[39mdef\u001b[39;00m \u001b[39mprint_png\u001b[39m(\u001b[39mself\u001b[39m, filename_or_obj, \u001b[39m*\u001b[39m, metadata\u001b[39m=\u001b[39m\u001b[39mNone\u001b[39;00m, pil_kwargs\u001b[39m=\u001b[39m\u001b[39mNone\u001b[39;00m):\n\u001b[0;32m    451\u001b[0m \u001b[39m    \u001b[39m\u001b[39m\"\"\"\u001b[39;00m\n\u001b[0;32m    452\u001b[0m \u001b[39m    Write the figure to a PNG file.\u001b[39;00m\n\u001b[0;32m    453\u001b[0m \n\u001b[1;32m   (...)\u001b[0m\n\u001b[0;32m    495\u001b[0m \u001b[39m        *metadata*, including the default 'Software' key.\u001b[39;00m\n\u001b[0;32m    496\u001b[0m \u001b[39m    \"\"\"\u001b[39;00m\n\u001b[1;32m--> 497\u001b[0m     \u001b[39mself\u001b[39m\u001b[39m.\u001b[39m_print_pil(filename_or_obj, \u001b[39m\"\u001b[39m\u001b[39mpng\u001b[39m\u001b[39m\"\u001b[39m, pil_kwargs, metadata)\n",
                        "File \u001b[1;32mc:\\Users\\Mikey\\.conda\\envs\\MeselheResearch\\Lib\\site-packages\\matplotlib\\backends\\backend_agg.py:446\u001b[0m, in \u001b[0;36mFigureCanvasAgg._print_pil\u001b[1;34m(self, filename_or_obj, fmt, pil_kwargs, metadata)\u001b[0m\n\u001b[0;32m    441\u001b[0m \u001b[39m\u001b[39m\u001b[39m\"\"\"\u001b[39;00m\n\u001b[0;32m    442\u001b[0m \u001b[39mDraw the canvas, then save it using `.image.imsave` (to which\u001b[39;00m\n\u001b[0;32m    443\u001b[0m \u001b[39m*pil_kwargs* and *metadata* are forwarded).\u001b[39;00m\n\u001b[0;32m    444\u001b[0m \u001b[39m\"\"\"\u001b[39;00m\n\u001b[0;32m    445\u001b[0m FigureCanvasAgg\u001b[39m.\u001b[39mdraw(\u001b[39mself\u001b[39m)\n\u001b[1;32m--> 446\u001b[0m mpl\u001b[39m.\u001b[39mimage\u001b[39m.\u001b[39mimsave(\n\u001b[0;32m    447\u001b[0m     filename_or_obj, \u001b[39mself\u001b[39m\u001b[39m.\u001b[39mbuffer_rgba(), \u001b[39mformat\u001b[39m\u001b[39m=\u001b[39mfmt, origin\u001b[39m=\u001b[39m\u001b[39m\"\u001b[39m\u001b[39mupper\u001b[39m\u001b[39m\"\u001b[39m,\n\u001b[0;32m    448\u001b[0m     dpi\u001b[39m=\u001b[39m\u001b[39mself\u001b[39m\u001b[39m.\u001b[39mfigure\u001b[39m.\u001b[39mdpi, metadata\u001b[39m=\u001b[39mmetadata, pil_kwargs\u001b[39m=\u001b[39mpil_kwargs)\n",
                        "File \u001b[1;32mc:\\Users\\Mikey\\.conda\\envs\\MeselheResearch\\Lib\\site-packages\\matplotlib\\image.py:1656\u001b[0m, in \u001b[0;36mimsave\u001b[1;34m(fname, arr, vmin, vmax, cmap, format, origin, dpi, metadata, pil_kwargs)\u001b[0m\n\u001b[0;32m   1654\u001b[0m pil_kwargs\u001b[39m.\u001b[39msetdefault(\u001b[39m\"\u001b[39m\u001b[39mformat\u001b[39m\u001b[39m\"\u001b[39m, \u001b[39mformat\u001b[39m)\n\u001b[0;32m   1655\u001b[0m pil_kwargs\u001b[39m.\u001b[39msetdefault(\u001b[39m\"\u001b[39m\u001b[39mdpi\u001b[39m\u001b[39m\"\u001b[39m, (dpi, dpi))\n\u001b[1;32m-> 1656\u001b[0m image\u001b[39m.\u001b[39msave(fname, \u001b[39m*\u001b[39m\u001b[39m*\u001b[39mpil_kwargs)\n",
                        "File \u001b[1;32mc:\\Users\\Mikey\\.conda\\envs\\MeselheResearch\\Lib\\site-packages\\PIL\\Image.py:2435\u001b[0m, in \u001b[0;36mImage.save\u001b[1;34m(self, fp, format, **params)\u001b[0m\n\u001b[0;32m   2433\u001b[0m         fp \u001b[39m=\u001b[39m builtins\u001b[39m.\u001b[39mopen(filename, \u001b[39m\"\u001b[39m\u001b[39mr+b\u001b[39m\u001b[39m\"\u001b[39m)\n\u001b[0;32m   2434\u001b[0m     \u001b[39melse\u001b[39;00m:\n\u001b[1;32m-> 2435\u001b[0m         fp \u001b[39m=\u001b[39m builtins\u001b[39m.\u001b[39mopen(filename, \u001b[39m\"\u001b[39m\u001b[39mw+b\u001b[39m\u001b[39m\"\u001b[39m)\n\u001b[0;32m   2437\u001b[0m \u001b[39mtry\u001b[39;00m:\n\u001b[0;32m   2438\u001b[0m     save_handler(\u001b[39mself\u001b[39m, fp, filename)\n",
                        "\u001b[1;31mFileNotFoundError\u001b[0m: [Errno 2] No such file or directory: 'model_results/test/test_predictions.png'"
                    ]
                },
                {
                    "data": {
                        "image/png": "[encoded data removed]",
                        "text/plain": [
                            "<Figure size 640x480 with 1 Axes>"
                        ]
                    },
                    "metadata": {},
                    "output_type": "display_data"
                }
            ],
            "source": [
                "\n",
                "predict.plot_predicts(\"test\", predicts, testY, test_dates)\n"
            ]
        },
        {
            "cell_type": "code",
            "execution_count": 60,
            "metadata": {},
            "outputs": [],
            "source": [
                "shape = test_dates.shape[0] if predicts.shape[0] > test_dates.shape[0] else predicts.shape[0]\n",
                "\n",
                "\n",
                "# Add dates to the sets\n",
                "testY = pd.DataFrame(testY, index= test_range[:shape])\n",
                "testY.index = pd.to_datetime(testY.index)"
            ]
        },
        {
            "cell_type": "code",
            "execution_count": null,
            "metadata": {},
            "outputs": [],
            "source": [
                "\n",
                "\n",
                "'''\n",
                "model_names = ['Basic_LSTM', 'Stacked_LSTM', 'Bidirectional_LSTM', 'Attention_LSTM']\n",
                "for model_name in model_names:\n",
                "    model, history = models.prebuilt_models(model_name, trainX, trainY)\n",
                "    validation_loss = models.evaluate_model(model, testX, testY)\n",
                "    models.plot_model(history, model_name, validation_loss)\n",
                "'''\n",
                "\n"
            ]
        }
    ],
    "metadata": {
        "kernelspec": {
            "display_name": "Python 3 (ipykernel)",
            "language": "python",
            "name": "python3"
        },
        "language_info": {
            "codemirror_mode": {
                "name": "ipython",
                "version": 3
            },
            "file_extension": ".py",
            "mimetype": "text/x-python",
            "name": "python",
            "nbconvert_exporter": "python",
            "pygments_lexer": "ipython3",
            "version": "3.11.5"
        }
    },
    "nbformat": 4,
    "nbformat_minor": 4
}
