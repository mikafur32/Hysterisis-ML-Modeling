{
 "cells": [
  {
   "cell_type": "code",
   "execution_count": 1,
   "metadata": {},
   "outputs": [
    {
     "name": "stdout",
     "output_type": "stream",
     "text": [
      "Num GPUs Available:  0\n",
      "Please install GPU version of TF\n"
     ]
    }
   ],
   "source": [
    "import tensorflow as tf\n",
    "\n",
    "print(\"Num GPUs Available: \", len(tf.config.list_physical_devices('GPU')))\n",
    "if tf.test.gpu_device_name():\n",
    "    print('Default GPU Device: {}'.format(tf.test.gpu_device_name()))\n",
    "else:\n",
    "    print(\"Please install GPU version of TF\")\n"
   ]
  },
  {
   "cell_type": "code",
   "execution_count": null,
   "metadata": {},
   "outputs": [],
   "source": [
    "import numpy as np\n",
    "import pandas as pd\n",
    "from sklearn.preprocessing import StandardScaler\n",
    "import matplotlib.dates as mdates\n",
    "\n",
    "import tensorflow as tf\n",
    "import seaborn as sns\n",
    "from matplotlib import pyplot as plt\n",
    "import os\n",
    "from keras import mixed_precision\n",
    "\n",
    "from datetime import datetime\n",
    "\n",
    "\n",
    "\n",
    "from keras import backend as K\n",
    "\n",
    "\n",
    "#import models_base\n",
    "\n",
    "\n",
    "import models_cuda\n",
    "import ingest, predict\n",
    "\n",
    "policy = mixed_precision.Policy('mixed_float16')\n",
    "\n",
    "mixed_precision.set_global_policy(\n",
    "    policy\n",
    ")\n",
    "\n",
    "## FLAGS ##\n",
    "# RAS model output or USGS\n",
    "USGS_FLAG = True\n",
    "\n",
    "### HENRY RAS ###\n",
    "csv = r\"..\\data\\Henry_WSS_2017_2023.csv\"\n",
    "columns = {'Q': 'Discharge', 'WSS': 'Slope'}\n",
    "\n",
    "date = datetime.now().strftime(\"%B_%d_%H_%M\")\n",
    "\n",
    "\n",
    "target = \"Discharge\"\n",
    "data_name = \"Henry_RAS_2017_2023_\" + f\"cuda_testing\"#\"{date}\"\n",
    "\n",
    "\n",
    "\n",
    "train_range = [\"1/1/2017 0:00\",\"12/31/2021 23:45\"]\n",
    "test_range = [\"1/1/2022 0:00\", \"12/31/2022 23:45\"]\n",
    "\n",
    "train_scaled, test_scaled, train_dates, test_dates, all_dates, scaler = ingest.ingest(csv, target, renames= columns, USGS_FLAG=USGS_FLAG, train_range= train_range, test_range= test_range)#train_test_ratio= 0.8)\n",
    "trainX, trainY = ingest.reshape(train_scaled)#, timestep_type= \"hr\")\n",
    "testX, testY = ingest.reshape(test_scaled)#, timestep_type= \"hr\")\n",
    "\n",
    "\n",
    "model_names = ['Basic_LSTM']#, \"GRU\", 'Bidirectional_LSTM', 'Stacked_LSTM']\n",
    "\n",
    "\n",
    "\n",
    "model = models_cuda.prebuilt_models(model_names[0], trainX, trainY, epochs= 1, \n",
    "                                    batch_size=32, loss= \"nse\", load_models=False, \n",
    "                                    data= data_name)\n",
    "\n",
    "validation_loss = models_cuda.evaluate_model(model, testX, testY)\n",
    "models_cuda.plot_model(model_names[0], validation_loss, data_name)\n",
    "K.clear_session()\n"
   ]
  }
 ],
 "metadata": {
  "kernelspec": {
   "display_name": "MeselheResearchCUDA",
   "language": "python",
   "name": "python3"
  },
  "language_info": {
   "codemirror_mode": {
    "name": "ipython",
    "version": 3
   },
   "file_extension": ".py",
   "mimetype": "text/x-python",
   "name": "python",
   "nbconvert_exporter": "python",
   "pygments_lexer": "ipython3",
   "version": "3.11.0"
  }
 },
 "nbformat": 4,
 "nbformat_minor": 2
}
