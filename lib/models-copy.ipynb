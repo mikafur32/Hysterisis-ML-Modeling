{
    "cells": [
        {
            "cell_type": "markdown",
            "metadata": {},
            "source": [
                "# LSTMs test"
            ]
        },
        {
            "cell_type": "code",
            "execution_count": 34,
            "metadata": {},
            "outputs": [
                {
                    "name": "stdout",
                    "output_type": "stream",
                    "text": [
                        "The autoreload extension is already loaded. To reload it, use:\n",
                        "  %reload_ext autoreload\n",
                        "c:\\Users\\perso\\Documents\\GitHub\\Hysterisis-ML-Modeling\\lib\n"
                    ]
                }
            ],
            "source": [
                "import numpy as np\n",
                "import pandas as pd\n",
                "from sklearn.preprocessing import StandardScaler\n",
                "import matplotlib.dates as mdates\n",
                "from keras.models import Sequential\n",
                "from keras.layers import LSTM\n",
                "from keras.layers import Dense, Dropout\n",
                "import tensorflow as tf\n",
                "import seaborn as sns\n",
                "from matplotlib import pyplot as plt\n",
                "import os\n",
                "%load_ext autoreload\n",
                "%autoreload 1\n",
                "\n",
                "\n",
                "#os.chdir(\".\\\\lib\")\n",
                "print(os.getcwd())\n",
                "\n",
                "import models, ingest, predict"
            ]
        },
        {
            "cell_type": "code",
            "execution_count": 178,
            "metadata": {},
            "outputs": [],
            "source": [
                "\n",
                "## FLAGS ##\n",
                "# RAS model output or USGS\n",
                "USGS_FLAG = True\n",
                "\n",
                "csv = r\"..\\data\\henry_csv_17-23.csv\"\n",
                "renames = {'00065': 'Gage Height', '00060': 'Discharge', '72254': 'Velocity'}\n",
                "\n",
                "train_scaled, test_scaled, train_dates, test_dates, all_dates = ingest.ingest(csv, renames= renames, USGS_FLAG=USGS_FLAG,\n",
                "                                                                               train_range= train_range, test_range= test_range)\n",
                "trainX, trainY = ingest.reshape(train_scaled, timestep_type= \"hr\")\n",
                "testX, testY = ingest.reshape(test_scaled, timestep_type= \"hr\")\n"
            ]
        },
        {
            "cell_type": "code",
            "execution_count": 184,
            "metadata": {},
            "outputs": [
                {
                    "data": {
                        "text/html": [
                            "<div>\n",
                            "<style scoped>\n",
                            "    .dataframe tbody tr th:only-of-type {\n",
                            "        vertical-align: middle;\n",
                            "    }\n",
                            "\n",
                            "    .dataframe tbody tr th {\n",
                            "        vertical-align: top;\n",
                            "    }\n",
                            "\n",
                            "    .dataframe thead th {\n",
                            "        text-align: right;\n",
                            "    }\n",
                            "</style>\n",
                            "<table border=\"1\" class=\"dataframe\">\n",
                            "  <thead>\n",
                            "    <tr style=\"text-align: right;\">\n",
                            "      <th></th>\n",
                            "      <th>Peoria_WL</th>\n",
                            "      <th>Henry_WL</th>\n",
                            "      <th>Flow</th>\n",
                            "      <th>Vel</th>\n",
                            "      <th>Slope</th>\n",
                            "      <th>Unnamed: 6</th>\n",
                            "    </tr>\n",
                            "    <tr>\n",
                            "      <th>datetime</th>\n",
                            "      <th></th>\n",
                            "      <th></th>\n",
                            "      <th></th>\n",
                            "      <th></th>\n",
                            "      <th></th>\n",
                            "      <th></th>\n",
                            "    </tr>\n",
                            "  </thead>\n",
                            "  <tbody>\n",
                            "    <tr>\n",
                            "      <th>1/1/17 6:00</th>\n",
                            "      <td>440.91</td>\n",
                            "      <td>442.800</td>\n",
                            "      <td>20400.0</td>\n",
                            "      <td>2.45</td>\n",
                            "      <td>1.022727e-05</td>\n",
                            "      <td>NaN</td>\n",
                            "    </tr>\n",
                            "    <tr>\n",
                            "      <th>1/2/17 6:00</th>\n",
                            "      <td>440.71</td>\n",
                            "      <td>442.490</td>\n",
                            "      <td>18100.0</td>\n",
                            "      <td>2.22</td>\n",
                            "      <td>9.632035e-06</td>\n",
                            "      <td>NaN</td>\n",
                            "    </tr>\n",
                            "    <tr>\n",
                            "      <th>1/3/17 6:00</th>\n",
                            "      <td>440.40</td>\n",
                            "      <td>442.150</td>\n",
                            "      <td>16400.0</td>\n",
                            "      <td>2.06</td>\n",
                            "      <td>9.469697e-06</td>\n",
                            "      <td>NaN</td>\n",
                            "    </tr>\n",
                            "    <tr>\n",
                            "      <th>1/4/17 6:00</th>\n",
                            "      <td>440.13</td>\n",
                            "      <td>441.970</td>\n",
                            "      <td>16200.0</td>\n",
                            "      <td>2.07</td>\n",
                            "      <td>9.956710e-06</td>\n",
                            "      <td>NaN</td>\n",
                            "    </tr>\n",
                            "    <tr>\n",
                            "      <th>1/5/17 6:00</th>\n",
                            "      <td>439.69</td>\n",
                            "      <td>441.890</td>\n",
                            "      <td>18500.0</td>\n",
                            "      <td>2.40</td>\n",
                            "      <td>1.190476e-05</td>\n",
                            "      <td>NaN</td>\n",
                            "    </tr>\n",
                            "    <tr>\n",
                            "      <th>...</th>\n",
                            "      <td>...</td>\n",
                            "      <td>...</td>\n",
                            "      <td>...</td>\n",
                            "      <td>...</td>\n",
                            "      <td>...</td>\n",
                            "      <td>...</td>\n",
                            "    </tr>\n",
                            "    <tr>\n",
                            "      <th>11/26/22 6:00</th>\n",
                            "      <td>439.78</td>\n",
                            "      <td>440.050</td>\n",
                            "      <td>3670.0</td>\n",
                            "      <td>0.51</td>\n",
                            "      <td>1.461039e-06</td>\n",
                            "      <td>NaN</td>\n",
                            "    </tr>\n",
                            "    <tr>\n",
                            "      <th>11/27/22 6:00</th>\n",
                            "      <td>440.19</td>\n",
                            "      <td>440.200</td>\n",
                            "      <td>5930.0</td>\n",
                            "      <td>0.83</td>\n",
                            "      <td>5.411255e-08</td>\n",
                            "      <td>NaN</td>\n",
                            "    </tr>\n",
                            "    <tr>\n",
                            "      <th>11/28/22 6:00</th>\n",
                            "      <td>439.99</td>\n",
                            "      <td>440.220</td>\n",
                            "      <td>5380.0</td>\n",
                            "      <td>0.75</td>\n",
                            "      <td>1.244589e-06</td>\n",
                            "      <td>NaN</td>\n",
                            "    </tr>\n",
                            "    <tr>\n",
                            "      <th>11/29/22 6:00</th>\n",
                            "      <td>439.82</td>\n",
                            "      <td>440.345</td>\n",
                            "      <td>6710.0</td>\n",
                            "      <td>0.93</td>\n",
                            "      <td>2.840909e-06</td>\n",
                            "      <td>NaN</td>\n",
                            "    </tr>\n",
                            "    <tr>\n",
                            "      <th>11/30/22 6:00</th>\n",
                            "      <td>440.09</td>\n",
                            "      <td>440.470</td>\n",
                            "      <td>8040.0</td>\n",
                            "      <td>1.11</td>\n",
                            "      <td>2.056277e-06</td>\n",
                            "      <td>NaN</td>\n",
                            "    </tr>\n",
                            "  </tbody>\n",
                            "</table>\n",
                            "<p>2160 rows × 6 columns</p>\n",
                            "</div>"
                        ],
                        "text/plain": [
                            "               Peoria_WL  Henry_WL     Flow   Vel         Slope  Unnamed: 6\n",
                            "datetime                                                                   \n",
                            "1/1/17 6:00       440.91   442.800  20400.0  2.45  1.022727e-05         NaN\n",
                            "1/2/17 6:00       440.71   442.490  18100.0  2.22  9.632035e-06         NaN\n",
                            "1/3/17 6:00       440.40   442.150  16400.0  2.06  9.469697e-06         NaN\n",
                            "1/4/17 6:00       440.13   441.970  16200.0  2.07  9.956710e-06         NaN\n",
                            "1/5/17 6:00       439.69   441.890  18500.0  2.40  1.190476e-05         NaN\n",
                            "...                  ...       ...      ...   ...           ...         ...\n",
                            "11/26/22 6:00     439.78   440.050   3670.0  0.51  1.461039e-06         NaN\n",
                            "11/27/22 6:00     440.19   440.200   5930.0  0.83  5.411255e-08         NaN\n",
                            "11/28/22 6:00     439.99   440.220   5380.0  0.75  1.244589e-06         NaN\n",
                            "11/29/22 6:00     439.82   440.345   6710.0  0.93  2.840909e-06         NaN\n",
                            "11/30/22 6:00     440.09   440.470   8040.0  1.11  2.056277e-06         NaN\n",
                            "\n",
                            "[2160 rows x 6 columns]"
                        ]
                    },
                    "execution_count": 184,
                    "metadata": {},
                    "output_type": "execute_result"
                }
            ],
            "source": [
                "csv = \"..\\\\data\\\\USGS_WS_2017_2023.csv\"\n",
                "renames = {\"Peoria date\" : \"datetime\"}\n",
                "target = \"Flow\"\n",
                "data_name = \"USGS_WS_2017_2023\"\n",
                "\n",
                "df = pd.read_csv(csv, low_memory=False)\n",
                "df = df.rename(columns= renames)\n",
                "\n",
                "df = df.set_index('datetime')\n",
                "all_dates = df.index.to_series()\n",
                "\n",
                "train_range, test_range = [all_dates[0], all_dates[-1]]\n"
            ]
        },
        {
            "cell_type": "code",
            "execution_count": 190,
            "metadata": {},
            "outputs": [
                {
                    "name": "stdout",
                    "output_type": "stream",
                    "text": [
                        "Model: \"sequential_10\"\n",
                        "_________________________________________________________________\n",
                        " Layer (type)                Output Shape              Param #   \n",
                        "=================================================================\n",
                        " lstm_11 (LSTM)              (None, 288, 64)           17408     \n",
                        "                                                                 \n",
                        " dropout_3 (Dropout)         (None, 288, 64)           0         \n",
                        "                                                                 \n",
                        " lstm_12 (LSTM)              (None, 288, 64)           33024     \n",
                        "                                                                 \n",
                        " dropout_4 (Dropout)         (None, 288, 64)           0         \n",
                        "                                                                 \n",
                        " lstm_13 (LSTM)              (None, 32)                12416     \n",
                        "                                                                 \n",
                        " dropout_5 (Dropout)         (None, 32)                0         \n",
                        "                                                                 \n",
                        " dense_10 (Dense)            (None, 1)                 33        \n",
                        "                                                                 \n",
                        "=================================================================\n",
                        "Total params: 62,881\n",
                        "Trainable params: 62,881\n",
                        "Non-trainable params: 0\n",
                        "_________________________________________________________________\n",
                        "Epoch 1/2\n",
                        "127/127 [==============================] - 54s 375ms/step - loss: 0.0167 - val_loss: 0.0038\n",
                        "Epoch 2/2\n",
                        "127/127 [==============================] - 46s 364ms/step - loss: 0.0096 - val_loss: 0.0027\n",
                        "saving model\n"
                    ]
                },
                {
                    "name": "stderr",
                    "output_type": "stream",
                    "text": [
                        "WARNING:absl:Found untraced functions such as lstm_cell_28_layer_call_fn, lstm_cell_28_layer_call_and_return_conditional_losses, lstm_cell_29_layer_call_fn, lstm_cell_29_layer_call_and_return_conditional_losses, lstm_cell_30_layer_call_fn while saving (showing 5 of 6). These functions will not be directly callable after loading.\n"
                    ]
                },
                {
                    "name": "stdout",
                    "output_type": "stream",
                    "text": [
                        "INFO:tensorflow:Assets written to: saved_model_multi/Stacked_LSTM_Saved_Henry_2017_2020\\assets\n"
                    ]
                },
                {
                    "name": "stderr",
                    "output_type": "stream",
                    "text": [
                        "INFO:tensorflow:Assets written to: saved_model_multi/Stacked_LSTM_Saved_Henry_2017_2020\\assets\n"
                    ]
                },
                {
                    "name": "stdout",
                    "output_type": "stream",
                    "text": [
                        "saving history\n",
                        "evaluating model\n",
                        "75/75 [==============================] - 10s 136ms/step - loss: 0.0316\n",
                        "Validation loss: 0.03157598897814751\n"
                    ]
                }
            ],
            "source": [
                "\n",
                "model_name =  \"Stacked_LSTM\"#,'Bidirectional_LSTM','Attention_LSTM', \"GRU\"]\n",
                "\n",
                "model = models.prebuilt_models(model_name, trainX, trainY, epochs=2, batch_size= 32)\n",
                "validation_loss = models.evaluate_model(model, testX, testY)\n",
                "models.plot_model( model_name, validation_loss)\n"
            ]
        },
        {
            "cell_type": "code",
            "execution_count": 191,
            "metadata": {},
            "outputs": [
                {
                    "name": "stdout",
                    "output_type": "stream",
                    "text": [
                        "retrieving and loading model\n",
                        "predicting\n",
                        "75/75 [==============================] - 11s 131ms/step\n"
                    ]
                },
                {
                    "data": {
                        "text/html": [
                            "<div>\n",
                            "<style scoped>\n",
                            "    .dataframe tbody tr th:only-of-type {\n",
                            "        vertical-align: middle;\n",
                            "    }\n",
                            "\n",
                            "    .dataframe tbody tr th {\n",
                            "        vertical-align: top;\n",
                            "    }\n",
                            "\n",
                            "    .dataframe thead th {\n",
                            "        text-align: right;\n",
                            "    }\n",
                            "</style>\n",
                            "<table border=\"1\" class=\"dataframe\">\n",
                            "  <thead>\n",
                            "    <tr style=\"text-align: right;\">\n",
                            "      <th></th>\n",
                            "      <th>0</th>\n",
                            "    </tr>\n",
                            "  </thead>\n",
                            "  <tbody>\n",
                            "    <tr>\n",
                            "      <th>0</th>\n",
                            "      <td>-0.005650</td>\n",
                            "    </tr>\n",
                            "    <tr>\n",
                            "      <th>1</th>\n",
                            "      <td>-0.005596</td>\n",
                            "    </tr>\n",
                            "    <tr>\n",
                            "      <th>2</th>\n",
                            "      <td>-0.005990</td>\n",
                            "    </tr>\n",
                            "    <tr>\n",
                            "      <th>3</th>\n",
                            "      <td>-0.006441</td>\n",
                            "    </tr>\n",
                            "    <tr>\n",
                            "      <th>4</th>\n",
                            "      <td>-0.006745</td>\n",
                            "    </tr>\n",
                            "    <tr>\n",
                            "      <th>...</th>\n",
                            "      <td>...</td>\n",
                            "    </tr>\n",
                            "    <tr>\n",
                            "      <th>2377</th>\n",
                            "      <td>0.661921</td>\n",
                            "    </tr>\n",
                            "    <tr>\n",
                            "      <th>2378</th>\n",
                            "      <td>0.662235</td>\n",
                            "    </tr>\n",
                            "    <tr>\n",
                            "      <th>2379</th>\n",
                            "      <td>0.662489</td>\n",
                            "    </tr>\n",
                            "    <tr>\n",
                            "      <th>2380</th>\n",
                            "      <td>0.662849</td>\n",
                            "    </tr>\n",
                            "    <tr>\n",
                            "      <th>2381</th>\n",
                            "      <td>0.663383</td>\n",
                            "    </tr>\n",
                            "  </tbody>\n",
                            "</table>\n",
                            "<p>2382 rows × 1 columns</p>\n",
                            "</div>"
                        ],
                        "text/plain": [
                            "             0\n",
                            "0    -0.005650\n",
                            "1    -0.005596\n",
                            "2    -0.005990\n",
                            "3    -0.006441\n",
                            "4    -0.006745\n",
                            "...        ...\n",
                            "2377  0.661921\n",
                            "2378  0.662235\n",
                            "2379  0.662489\n",
                            "2380  0.662849\n",
                            "2381  0.663383\n",
                            "\n",
                            "[2382 rows x 1 columns]"
                        ]
                    },
                    "execution_count": 191,
                    "metadata": {},
                    "output_type": "execute_result"
                }
            ],
            "source": [
                "predict_date_range=['2020-05-15 00:00:00-00:00', '2020-07-01 00:00:00-00:00']\n",
                "\n",
                "predicts = predict.predict(model_name, testX)\n",
                "\n",
                "predicts"
            ]
        },
        {
            "cell_type": "code",
            "execution_count": null,
            "metadata": {},
            "outputs": [],
            "source": [
                "%aimport predict\n",
                "%aimport models\n",
                "\n"
            ]
        },
        {
            "cell_type": "code",
            "execution_count": null,
            "metadata": {},
            "outputs": [
                {
                    "data": {
                        "image/png": "[encoded data removed]",
                        "text/plain": [
                            "<Figure size 640x480 with 1 Axes>"
                        ]
                    },
                    "metadata": {},
                    "output_type": "display_data"
                },
                {
                    "name": "stdout",
                    "output_type": "stream",
                    "text": [
                        "Unexpected exception formatting exception. Falling back to standard exception\n"
                    ]
                },
                {
                    "name": "stderr",
                    "output_type": "stream",
                    "text": [
                        "Traceback (most recent call last):\n",
                        "  File \"c:\\Users\\perso\\anaconda3\\envs\\MeselheResearch\\lib\\site-packages\\IPython\\core\\interactiveshell.py\", line 3460, in run_code\n",
                        "    exec(code_obj, self.user_global_ns, self.user_ns)\n",
                        "  File \"C:\\Users\\perso\\AppData\\Local\\Temp\\ipykernel_21932\\1248374117.py\", line 1, in <module>\n",
                        "    predict.plot_predicts(\"test\", predicts, testY, test_dates)\n",
                        "  File \"c:\\Users\\perso\\Documents\\GitHub\\Hysterisis-ML-Modeling\\lib\\predict.py\", line 35, in plot_predicts\n",
                        "    plt.savefig(f\".\\\\model_results\\\\{model_name}\\\\{model_name}_predictions.png\")\n",
                        "  File \"c:\\Users\\perso\\anaconda3\\envs\\MeselheResearch\\lib\\site-packages\\matplotlib\\pyplot.py\", line 1023, in savefig\n",
                        "    res = fig.savefig(*args, **kwargs)\n",
                        "  File \"c:\\Users\\perso\\anaconda3\\envs\\MeselheResearch\\lib\\site-packages\\matplotlib\\figure.py\", line 3343, in savefig\n",
                        "    self.canvas.print_figure(fname, **kwargs)\n",
                        "  File \"c:\\Users\\perso\\anaconda3\\envs\\MeselheResearch\\lib\\site-packages\\matplotlib\\backend_bases.py\", line 2366, in print_figure\n",
                        "    result = print_method(\n",
                        "  File \"c:\\Users\\perso\\anaconda3\\envs\\MeselheResearch\\lib\\site-packages\\matplotlib\\backend_bases.py\", line 2232, in <lambda>\n",
                        "    print_method = functools.wraps(meth)(lambda *args, **kwargs: meth(\n",
                        "  File \"c:\\Users\\perso\\anaconda3\\envs\\MeselheResearch\\lib\\site-packages\\matplotlib\\backends\\backend_agg.py\", line 509, in print_png\n",
                        "    self._print_pil(filename_or_obj, \"png\", pil_kwargs, metadata)\n",
                        "  File \"c:\\Users\\perso\\anaconda3\\envs\\MeselheResearch\\lib\\site-packages\\matplotlib\\backends\\backend_agg.py\", line 458, in _print_pil\n",
                        "    mpl.image.imsave(\n",
                        "  File \"c:\\Users\\perso\\anaconda3\\envs\\MeselheResearch\\lib\\site-packages\\matplotlib\\image.py\", line 1689, in imsave\n",
                        "    image.save(fname, **pil_kwargs)\n",
                        "  File \"c:\\Users\\perso\\anaconda3\\envs\\MeselheResearch\\lib\\site-packages\\PIL\\Image.py\", line 2428, in save\n",
                        "    fp = builtins.open(filename, \"w+b\")\n",
                        "FileNotFoundError: [Errno 2] No such file or directory: '.\\\\model_results\\\\test\\\\test_predictions.png'\n",
                        "\n",
                        "During handling of the above exception, another exception occurred:\n",
                        "\n",
                        "Traceback (most recent call last):\n",
                        "  File \"c:\\Users\\perso\\anaconda3\\envs\\MeselheResearch\\lib\\site-packages\\IPython\\core\\interactiveshell.py\", line 2057, in showtraceback\n",
                        "    stb = self.InteractiveTB.structured_traceback(\n",
                        "  File \"c:\\Users\\perso\\anaconda3\\envs\\MeselheResearch\\lib\\site-packages\\IPython\\core\\ultratb.py\", line 1118, in structured_traceback\n",
                        "    return FormattedTB.structured_traceback(\n",
                        "  File \"c:\\Users\\perso\\anaconda3\\envs\\MeselheResearch\\lib\\site-packages\\IPython\\core\\ultratb.py\", line 1012, in structured_traceback\n",
                        "    return VerboseTB.structured_traceback(\n",
                        "  File \"c:\\Users\\perso\\anaconda3\\envs\\MeselheResearch\\lib\\site-packages\\IPython\\core\\ultratb.py\", line 865, in structured_traceback\n",
                        "    formatted_exception = self.format_exception_as_a_whole(etype, evalue, etb, number_of_lines_of_context,\n",
                        "  File \"c:\\Users\\perso\\anaconda3\\envs\\MeselheResearch\\lib\\site-packages\\IPython\\core\\ultratb.py\", line 818, in format_exception_as_a_whole\n",
                        "    frames.append(self.format_record(r))\n",
                        "  File \"c:\\Users\\perso\\anaconda3\\envs\\MeselheResearch\\lib\\site-packages\\IPython\\core\\ultratb.py\", line 736, in format_record\n",
                        "    result += ''.join(_format_traceback_lines(frame_info.lines, Colors, self.has_colors, lvals))\n",
                        "  File \"c:\\Users\\perso\\anaconda3\\envs\\MeselheResearch\\lib\\site-packages\\stack_data\\utils.py\", line 145, in cached_property_wrapper\n",
                        "    value = obj.__dict__[self.func.__name__] = self.func(obj)\n",
                        "  File \"c:\\Users\\perso\\anaconda3\\envs\\MeselheResearch\\lib\\site-packages\\stack_data\\core.py\", line 698, in lines\n",
                        "    pieces = self.included_pieces\n",
                        "  File \"c:\\Users\\perso\\anaconda3\\envs\\MeselheResearch\\lib\\site-packages\\stack_data\\utils.py\", line 145, in cached_property_wrapper\n",
                        "    value = obj.__dict__[self.func.__name__] = self.func(obj)\n",
                        "  File \"c:\\Users\\perso\\anaconda3\\envs\\MeselheResearch\\lib\\site-packages\\stack_data\\core.py\", line 649, in included_pieces\n",
                        "    pos = scope_pieces.index(self.executing_piece)\n",
                        "  File \"c:\\Users\\perso\\anaconda3\\envs\\MeselheResearch\\lib\\site-packages\\stack_data\\utils.py\", line 145, in cached_property_wrapper\n",
                        "    value = obj.__dict__[self.func.__name__] = self.func(obj)\n",
                        "  File \"c:\\Users\\perso\\anaconda3\\envs\\MeselheResearch\\lib\\site-packages\\stack_data\\core.py\", line 628, in executing_piece\n",
                        "    return only(\n",
                        "  File \"c:\\Users\\perso\\anaconda3\\envs\\MeselheResearch\\lib\\site-packages\\executing\\executing.py\", line 164, in only\n",
                        "    raise NotOneValueFound('Expected one value, found 0')\n",
                        "executing.executing.NotOneValueFound: Expected one value, found 0\n"
                    ]
                },
                {
                    "data": {
                        "text/plain": [
                            "<Figure size 640x480 with 0 Axes>"
                        ]
                    },
                    "metadata": {},
                    "output_type": "display_data"
                }
            ],
            "source": [
                "\n",
                "predict.plot_predicts(\"test\", predicts, testY, test_dates)\n"
            ]
        },
        {
            "cell_type": "code",
            "execution_count": 60,
            "metadata": {},
            "outputs": [],
            "source": [
                "shape = test_dates.shape[0] if predicts.shape[0] > test_dates.shape[0] else predicts.shape[0]\n",
                "\n",
                "\n",
                "# Add dates to the sets\n",
                "testY = pd.DataFrame(testY, index= test_range[:shape])\n",
                "testY.index = pd.to_datetime(testY.index)"
            ]
        },
        {
            "cell_type": "code",
            "execution_count": null,
            "metadata": {},
            "outputs": [],
            "source": [
                "\n",
                "\n",
                "'''\n",
                "model_names = ['Basic_LSTM', 'Stacked_LSTM', 'Bidirectional_LSTM', 'Attention_LSTM']\n",
                "for model_name in model_names:\n",
                "    model, history = models.prebuilt_models(model_name, trainX, trainY)\n",
                "    validation_loss = models.evaluate_model(model, testX, testY)\n",
                "    models.plot_model(history, model_name, validation_loss)\n",
                "'''\n",
                "\n"
            ]
        }
    ],
    "metadata": {
        "kernelspec": {
            "display_name": "Python 3 (ipykernel)",
            "language": "python",
            "name": "python3"
        },
        "language_info": {
            "codemirror_mode": {
                "name": "ipython",
                "version": 3
            },
            "file_extension": ".py",
            "mimetype": "text/x-python",
            "name": "python",
            "nbconvert_exporter": "python",
            "pygments_lexer": "ipython3",
            "version": "3.9.16"
        }
    },
    "nbformat": 4,
    "nbformat_minor": 4
}
