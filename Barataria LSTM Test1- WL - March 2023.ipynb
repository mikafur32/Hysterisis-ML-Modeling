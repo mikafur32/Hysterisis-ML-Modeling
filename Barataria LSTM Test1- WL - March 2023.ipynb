{
 "cells": [
  {
   "cell_type": "markdown",
   "id": "83edb79d-305c-44b9-becb-c5022e6fb5c4",
   "metadata": {},
   "source": [
    "# Barataria LSTM Test1 - March 2023 - WL\n"
   ]
  },
  {
   "cell_type": "markdown",
   "id": "c4c5d1da-626c-4481-bebd-c15f69382a9c",
   "metadata": {},
   "source": [
    "## 0. Imports"
   ]
  },
  {
   "cell_type": "code",
   "execution_count": 9,
   "id": "71dc2e5b-fa6f-4891-8e5d-d94ab1761c2c",
   "metadata": {},
   "outputs": [],
   "source": [
    "# Import Mikey Scripts\n",
    "'''\n",
    "%cd ../USGS_DataImporter\n",
    "from retrieve_data import *\n",
    "from streamflow_ML import *\n",
    "\n",
    "%cd ../Barataria-Ahmed\n",
    "'''\n",
    "\n",
    "# Import common modules for processing and plotting data\n",
    "# Python ≥3.5 is required\n",
    "import sys\n",
    "assert sys.version_info >= (3, 5)\n",
    "\n",
    "import datetime\n",
    "\n",
    "# Scikit-Learn ≥0.20 is required\n",
    "import sklearn\n",
    "assert sklearn.__version__ >= \"0.20\"\n",
    "\n",
    "# Common imports\n",
    "import numpy as np\n",
    "import os\n",
    "import pandas as pd\n",
    "\n",
    "# For LSTM\n",
    "import tensorflow as tf\n",
    "from sklearn.preprocessing import MinMaxScaler\n",
    "from tensorflow.keras.models import Sequential\n",
    "from tensorflow.keras.layers import Dense, LSTM, Dropout, GRU, Bidirectional\n",
    "from tensorflow.keras.optimizers import SGD\n",
    "from sklearn.metrics import mean_squared_error\n",
    "\n",
    "# To plot pretty figures <3\n",
    "%matplotlib inline\n",
    "import matplotlib as mpl\n",
    "import matplotlib.dates as mdates\n",
    "from matplotlib.dates import DateFormatter\n",
    "import matplotlib.pyplot as plt\n",
    "mpl.rc('axes', labelsize=14)\n",
    "mpl.rc('xtick', labelsize=12)\n",
    "mpl.rc('ytick', labelsize=12)\n",
    "\n",
    "# Where to save the figures\n",
    "PROJECT_ROOT_DIR = \".\"\n",
    "CHAPTER_ID = \"end_to_end_project\"\n",
    "IMAGES_PATH = os.path.join(PROJECT_ROOT_DIR, \"images\", CHAPTER_ID)\n",
    "os.makedirs(IMAGES_PATH, exist_ok=True)\n",
    "\n",
    "def save_fig(fig_id, tight_layout=True, fig_extension=\"png\", resolution=300):\n",
    "    path = os.path.join(IMAGES_PATH, fig_id + \".\" + fig_extension)\n",
    "    print(\"Saving figure\", fig_id)\n",
    "    if tight_layout:\n",
    "        plt.tight_layout()\n",
    "    plt.savefig(path, format=fig_extension, dpi=resolution)\n",
    "    "
   ]
  },
  {
   "cell_type": "code",
   "execution_count": 10,
   "id": "e6c431b7-5f9b-44c1-bc1f-05ad39ead254",
   "metadata": {},
   "outputs": [],
   "source": [
    "N_NODES = 15"
   ]
  },
  {
   "cell_type": "markdown",
   "id": "779bdec1-d152-4695-89f2-dc4430f64499",
   "metadata": {},
   "source": [
    "## 1. Data import and cleaning\n"
   ]
  },
  {
   "cell_type": "code",
   "execution_count": 11,
   "id": "15d08b30",
   "metadata": {
    "collapsed": false,
    "jupyter": {
     "outputs_hidden": false
    }
   },
   "outputs": [],
   "source": [
    "# All 15 nodes, 2020 and 2021 data\n",
    "# Read in data\n",
    "barataria20_21 = pd.read_csv('2020_2021_Sample.csv')\n",
    "\n",
    "# Subset data to 2020 and 2021\n",
    "barataria20 = barataria20_21[barataria20_21['Year'] == 2020]\n",
    "barataria21 = barataria20_21[barataria20_21['Year'] == 2021]\n",
    "\n",
    "barataria20 = barataria20.copy()\n",
    "barataria21 = barataria21.copy()\n",
    "\n",
    "# Convert to datetime\n",
    "barataria20['Day'] = barataria20.loc[:, 'Day'].apply(lambda x: x - 1)\n",
    "barataria21['Day'] = barataria21.loc[:, 'Day'].apply(lambda x: x - 1)\n",
    "\n",
    "barataria20['datetime'] = pd.to_datetime(barataria20.loc[:, 'Day'], unit='D', origin= str(2020))\n",
    "barataria21['datetime'] = pd.to_datetime(barataria21.loc[:, 'Day'], unit='D', origin= str(2021))\n",
    "\n",
    "#Synchronization value: The number of days until stability\n",
    "#(i.e. the number of days until Water Level is stable)\n",
    "sync_value = 14\n",
    "\n",
    "barataria20 = barataria20[barataria20['Day'] >= sync_value]\n",
    "barataria21 = barataria21[barataria21['Day'] >= sync_value]\n",
    "\n",
    "#Merge 2020 and 2021 data\n",
    "barataria20_21 = barataria20.merge(barataria21, how= 'outer')\n",
    "\n",
    "#Set datetime as index\n",
    "barataria20_21 = barataria20_21.set_index('datetime')"
   ]
  },
  {
   "cell_type": "code",
   "execution_count": 12,
   "id": "a68d623a-e01e-468a-bb59-f9fd19becd4c",
   "metadata": {},
   "outputs": [],
   "source": [
    "# Delete unnecessary \n",
    "del barataria20_21['m']\n",
    "del barataria20_21['n']\n",
    "del barataria20_21['Lat']\n",
    "del barataria20_21['Lon']\n",
    "\n",
    "del barataria20_21['salinity']\n",
    "del barataria20_21['Year']\n",
    "del barataria20_21['Day']\n",
    "\n",
    "# Delete Salinity Levels at each point\n",
    "del barataria20_21['SL.B1']\n",
    "del barataria20_21['SL.B2']\n",
    "del barataria20_21['SL.B3']\n",
    "del barataria20_21['SL.B4']\n",
    "del barataria20_21['SL.B5']\n",
    "del barataria20_21['SL.B6']\n",
    "del barataria20_21['SL.B7']\n",
    "del barataria20_21['SL.B8']"
   ]
  },
  {
   "cell_type": "code",
   "execution_count": 13,
   "id": "005a1686-258f-45d0-bb94-51561ed95d25",
   "metadata": {},
   "outputs": [
    {
     "data": {
      "text/plain": [
       "Index(['Point-ID', 'BL', 'WS', 'WD', 'Pressure', 'Precipitation',\n",
       "       'Miss.Discharge', 'DP.Discharge', 'GIWW.Discharge', 'Naomi.Discharge',\n",
       "       'Dist1', 'Dist2', 'Dist3', 'Dist4', 'Dist5', 'Dist6', 'Dist7', 'Dist8',\n",
       "       'Dist9', 'WL.B1', 'WL.B2', 'WL.B3', 'WL.B4', 'WL.B5', 'WL.B6', 'WL.B7',\n",
       "       'WL.B8', 'WL'],\n",
       "      dtype='object')"
      ]
     },
     "execution_count": 13,
     "metadata": {},
     "output_type": "execute_result"
    }
   ],
   "source": [
    "barataria20_21.columns"
   ]
  },
  {
   "cell_type": "code",
   "execution_count": 14,
   "id": "0d2af86f-0b9e-43d9-a479-7629d0072d34",
   "metadata": {},
   "outputs": [
    {
     "data": {
      "text/plain": [
       "\"\\n# Subset into independent df for each point.\\nnodes_df_dict = {}\\nfor i in range(N_NODES + 1):\\n    nodes_df_dict.update({i : barataria20_21[barataria20_21['Point-ID'] == i]})\\n    \\n    \\n### NOTE ###\\n# Since Point-ID Starts at 1, nodes_df_dict also start at 1. So the firs node df begins at 1.\\nnode_1 = nodes_df_dict[1]\\ndel node_1['salinity']\\ndel node_1['Year']\\ndel node_1['Day']\\n\""
      ]
     },
     "execution_count": 14,
     "metadata": {},
     "output_type": "execute_result"
    }
   ],
   "source": [
    "'''\n",
    "# Subset into independent df for each point.\n",
    "nodes_df_dict = {}\n",
    "for i in range(N_NODES + 1):\n",
    "    nodes_df_dict.update({i : barataria20_21[barataria20_21['Point-ID'] == i]})\n",
    "    \n",
    "    \n",
    "### NOTE ###\n",
    "# Since Point-ID Starts at 1, nodes_df_dict also start at 1. So the firs node df begins at 1.\n",
    "node_1 = nodes_df_dict[1]\n",
    "del node_1['salinity']\n",
    "del node_1['Year']\n",
    "del node_1['Day']\n",
    "'''"
   ]
  },
  {
   "cell_type": "code",
   "execution_count": 15,
   "id": "e72aa6b8-f1f8-49a9-b2bb-3a8c404de9ef",
   "metadata": {},
   "outputs": [
    {
     "name": "stderr",
     "output_type": "stream",
     "text": [
      "C:\\Users\\perso\\AppData\\Local\\Temp\\ipykernel_24216\\2154436680.py:5: FutureWarning: Value based partial slicing on non-monotonic DatetimeIndexes with non-existing keys is deprecated and will raise a KeyError in a future Version.\n",
      "  df.loc[f\"{tstart}\":f\"{tstart}\", \"WL\"].plot(figsize=(16, 4), legend=True)\n",
      "C:\\Users\\perso\\AppData\\Local\\Temp\\ipykernel_24216\\2154436680.py:6: FutureWarning: Value based partial slicing on non-monotonic DatetimeIndexes with non-existing keys is deprecated and will raise a KeyError in a future Version.\n",
      "  df.loc[f\"{tend}\":f\"{tend}\", \"WL\"].plot(figsize=(16, 4), legend=True)\n"
     ]
    },
    {
     "data": {
      "image/png": "[encoded data removed]",
      "text/plain": [
       "<Figure size 1600x400 with 1 Axes>"
      ]
     },
     "metadata": {},
     "output_type": "display_data"
    }
   ],
   "source": [
    "# Plot data\n",
    "tstart = 2020\n",
    "tend = 2021\n",
    "def train_test_plot(df, tstart, tend):\n",
    "    df.loc[f\"{tstart}\":f\"{tstart}\", \"WL\"].plot(figsize=(16, 4), legend=True)\n",
    "    df.loc[f\"{tend}\":f\"{tend}\", \"WL\"].plot(figsize=(16, 4), legend=True)\n",
    "    plt.legend([f\"Train (Before {tstart})\", f\"Test ({tend})\"])\n",
    "    plt.title(\"Water level\")\n",
    "    plt.show()\n",
    "\n",
    "train_test_plot(barataria20_21,tstart,tend)\n"
   ]
  },
  {
   "cell_type": "markdown",
   "id": "11e8b10c-f2da-42ae-9cf1-52e4c58bcac9",
   "metadata": {},
   "source": [
    "## Model LSTM"
   ]
  },
  {
   "cell_type": "code",
   "execution_count": 16,
   "id": "8da983b4",
   "metadata": {
    "collapsed": false,
    "jupyter": {
     "outputs_hidden": false
    }
   },
   "outputs": [
    {
     "name": "stderr",
     "output_type": "stream",
     "text": [
      "C:\\Users\\perso\\AppData\\Local\\Temp\\ipykernel_24216\\3128609601.py:6: FutureWarning: Value based partial slicing on non-monotonic DatetimeIndexes with non-existing keys is deprecated and will raise a KeyError in a future Version.\n",
      "  test = barataria20_21['2021':'2022'] # Year of 2021\n"
     ]
    }
   ],
   "source": [
    "# Subset the train/testing data\n",
    "# Train: 2017-2018, 2020\n",
    "# Test: 2019, 2021\n",
    "\n",
    "train = barataria20_21[:'2021'] # Everything up to 2021\n",
    "test = barataria20_21['2021':'2022'] # Year of 2021"
   ]
  },
  {
   "cell_type": "markdown",
   "id": "c318fba7",
   "metadata": {},
   "source": [
    "## Data manipulation"
   ]
  },
  {
   "cell_type": "code",
   "execution_count": 17,
   "id": "d487b729",
   "metadata": {
    "collapsed": false,
    "jupyter": {
     "outputs_hidden": false
    }
   },
   "outputs": [],
   "source": [
    "#LSTM uses sigmoid and tanh that are sensitive to magnitude so values need to be normalized\n",
    "# normalize the dataset\n",
    "from sklearn.preprocessing import StandardScaler\n",
    "scaler = StandardScaler()\n",
    "scaler = scaler.fit(train)\n",
    "train_scaled = scaler.transform(train)"
   ]
  },
  {
   "cell_type": "code",
   "execution_count": 18,
   "id": "380e798a",
   "metadata": {
    "collapsed": false,
    "jupyter": {
     "outputs_hidden": false
    }
   },
   "outputs": [
    {
     "name": "stdout",
     "output_type": "stream",
     "text": [
      "trainX shape == (10538, 7, 28).\n",
      "trainY shape == (10538, 1).\n"
     ]
    }
   ],
   "source": [
    "#As required for LSTM networks, we require to reshape an input data into n_samples x timesteps x n_features.\n",
    "# We will make timesteps = 7 (past 7 days data used for training).\n",
    "\n",
    "#Empty lists to be populated using formatted training data\n",
    "trainX = []\n",
    "trainY = []\n",
    "\n",
    "\n",
    "\n",
    "n_future = 1 # Number of timesteps we want to look into the future based on the past timesteps. Just one day ahead\n",
    "n_past = 7 # Number of past timesteps we want to use to predict the future. Use past 7 days.\n",
    "\n",
    "#Reformat input data into a shape: (n_samples x timesteps x n_features) x pointID ?\n",
    "#In the example, df_for_training_scaled has a shape (10538 / 15, 7, 28) x 15\n",
    "#10538 refers to the number of data points and 28 refers to the columns (multi-variables).\n",
    "\n",
    "#NEW df has a shape (10538 / 15 = 702, 15, 7, 28)\n",
    "\n",
    "\n",
    "# prediction\n",
    "\n",
    "\n",
    "for i in range(n_past, len(train_scaled) - n_future + 1):\n",
    "    trainX.append(train_scaled[i - n_past : i, 0 : train_scaled.shape[1]])\n",
    "    trainY.append(train_scaled[i + n_future - 1 : i + n_future, -1]) #-1 = WL (last col in df)\n",
    "\n",
    "trainX, trainY = np.array(trainX), np.array(trainY)\n",
    "\n",
    "\n",
    "print('trainX shape == {}.'.format(trainX.shape))\n",
    "print('trainY shape == {}.'.format(trainY.shape))"
   ]
  },
  {
   "cell_type": "code",
   "execution_count": 28,
   "id": "28e7f1fb",
   "metadata": {
    "collapsed": false,
    "jupyter": {
     "outputs_hidden": false
    }
   },
   "outputs": [
    {
     "data": {
      "text/plain": [
       "array([[-1.62018517,  1.00988417, -0.77098881, -1.07216629,  2.67985114,\n",
       "        -0.48965544, -0.73438041, -0.75411988,  0.08845403, -0.36715497,\n",
       "        -0.80699989, -0.80691177,  0.84971197,  0.66974323,  0.84057601,\n",
       "         0.82407096,  0.80692736,  0.80692601,  0.80691969, -0.85631382,\n",
       "        -0.72703114, -0.64221222, -0.58851924, -0.65873236, -0.72745443,\n",
       "        -0.71509578, -0.75074685, -1.6470435 ],\n",
       "       [-1.62018517,  1.00988417, -1.28193692, -0.3758153 ,  2.06473188,\n",
       "        -0.48965544, -0.68936201, -0.70654753, -0.36112269, -0.36715497,\n",
       "        -0.80699989, -0.80691177,  0.84971197,  0.66974323,  0.84057601,\n",
       "         0.82407096,  0.80692736,  0.80692601,  0.80691969, -1.85141554,\n",
       "        -1.77202344, -1.69975056, -1.64467691, -1.7255717 , -1.86530191,\n",
       "        -1.88477518, -1.98167371, -1.34805404],\n",
       "       [-1.62018517,  1.00988417,  2.77341275, -1.77783105,  3.42245872,\n",
       "        -0.18328799, -0.64678248, -0.66155239, -1.60972876, -0.36715497,\n",
       "        -0.80699989, -0.80691177,  0.84971197,  0.66974323,  0.84057601,\n",
       "         0.82407096,  0.80692736,  0.80692601,  0.80691969, -1.39735989,\n",
       "        -1.34814189, -1.23212695, -1.18163846, -1.31001698, -1.49277367,\n",
       "        -1.69201894, -2.62342967, -2.24502243],\n",
       "       [-1.62018517,  1.00988417,  1.29941531, -1.45816553,  3.94124209,\n",
       "        -0.48965544, -0.57452564, -0.58519631, -1.22763763, -0.36715497,\n",
       "        -0.80699989, -0.80691177,  0.84971197,  0.66974323,  0.84057601,\n",
       "         0.82407096,  0.80692736,  0.80692601,  0.80691969, -2.43988086,\n",
       "        -2.36830387, -2.29580054, -2.24161433, -2.21882256, -2.25947506,\n",
       "        -2.32184913, -2.65646423, -2.76825399],\n",
       "       [-1.62018517,  1.00988417, -0.4172471 , -1.27544462,  2.47758991,\n",
       "        -0.48965544, -0.48027344, -0.48559705, -0.01068843, -0.36715497,\n",
       "        -0.80699989, -0.80691177,  0.84971197,  0.66974323,  0.84057601,\n",
       "         0.82407096,  0.80692736,  0.80692601,  0.80691969, -2.72143756,\n",
       "        -2.648249  , -2.60786844, -2.56217461, -2.52388537, -2.52808295,\n",
       "        -2.5465089 , -2.50806677, -2.54401189],\n",
       "       [-1.62018517,  1.00988417,  0.2950233 , -0.39379601,  1.16184114,\n",
       "        -0.48965544, -0.37092716, -0.37004738, -0.38247267, -0.36715497,\n",
       "        -0.80699989, -0.80691177,  0.84971197,  0.66974323,  0.84057601,\n",
       "         0.82407096,  0.80692736,  0.80692601,  0.80691969, -1.16124519,\n",
       "        -1.11431887, -1.08031111, -1.02769835, -1.08647918, -1.15917875,\n",
       "        -1.10729264, -0.91031214, -2.17027506],\n",
       "       [-1.62018517,  1.00988417,  1.17226614, -0.29438602,  0.96403026,\n",
       "        -0.48965544, -0.26956544, -0.26293526, -0.94297115, -0.36715497,\n",
       "        -0.80699989, -0.80691177,  0.84971197,  0.66974323,  0.84057601,\n",
       "         0.82407096,  0.80692736,  0.80692601,  0.80691969, -0.88156118,\n",
       "        -0.86619366, -0.81728994, -0.79354883, -0.88601357, -0.98770511,\n",
       "        -0.87059328, -0.65846471, -0.97431721]])"
      ]
     },
     "execution_count": 28,
     "metadata": {},
     "output_type": "execute_result"
    }
   ],
   "source": [
    "trainX[0]"
   ]
  },
  {
   "cell_type": "code",
   "execution_count": 20,
   "id": "4b698ecf",
   "metadata": {
    "collapsed": false,
    "jupyter": {
     "outputs_hidden": false
    }
   },
   "outputs": [
    {
     "name": "stdout",
     "output_type": "stream",
     "text": [
      "[[-1.62018517  1.00988417 -0.77098881 -1.07216629  2.67985114 -0.48965544\n",
      "  -0.73438041 -0.75411988  0.08845403 -0.36715497 -0.80699989 -0.80691177\n",
      "   0.84971197  0.66974323  0.84057601  0.82407096  0.80692736  0.80692601\n",
      "   0.80691969 -0.85631382 -0.72703114 -0.64221222 -0.58851924 -0.65873236\n",
      "  -0.72745443 -0.71509578 -0.75074685 -1.6470435 ]\n",
      " [-1.62018517  1.00988417 -1.28193692 -0.3758153   2.06473188 -0.48965544\n",
      "  -0.68936201 -0.70654753 -0.36112269 -0.36715497 -0.80699989 -0.80691177\n",
      "   0.84971197  0.66974323  0.84057601  0.82407096  0.80692736  0.80692601\n",
      "   0.80691969 -1.85141554 -1.77202344 -1.69975056 -1.64467691 -1.7255717\n",
      "  -1.86530191 -1.88477518 -1.98167371 -1.34805404]\n",
      " [-1.62018517  1.00988417  2.77341275 -1.77783105  3.42245872 -0.18328799\n",
      "  -0.64678248 -0.66155239 -1.60972876 -0.36715497 -0.80699989 -0.80691177\n",
      "   0.84971197  0.66974323  0.84057601  0.82407096  0.80692736  0.80692601\n",
      "   0.80691969 -1.39735989 -1.34814189 -1.23212695 -1.18163846 -1.31001698\n",
      "  -1.49277367 -1.69201894 -2.62342967 -2.24502243]\n",
      " [-1.62018517  1.00988417  1.29941531 -1.45816553  3.94124209 -0.48965544\n",
      "  -0.57452564 -0.58519631 -1.22763763 -0.36715497 -0.80699989 -0.80691177\n",
      "   0.84971197  0.66974323  0.84057601  0.82407096  0.80692736  0.80692601\n",
      "   0.80691969 -2.43988086 -2.36830387 -2.29580054 -2.24161433 -2.21882256\n",
      "  -2.25947506 -2.32184913 -2.65646423 -2.76825399]\n",
      " [-1.62018517  1.00988417 -0.4172471  -1.27544462  2.47758991 -0.48965544\n",
      "  -0.48027344 -0.48559705 -0.01068843 -0.36715497 -0.80699989 -0.80691177\n",
      "   0.84971197  0.66974323  0.84057601  0.82407096  0.80692736  0.80692601\n",
      "   0.80691969 -2.72143756 -2.648249   -2.60786844 -2.56217461 -2.52388537\n",
      "  -2.52808295 -2.5465089  -2.50806677 -2.54401189]\n",
      " [-1.62018517  1.00988417  0.2950233  -0.39379601  1.16184114 -0.48965544\n",
      "  -0.37092716 -0.37004738 -0.38247267 -0.36715497 -0.80699989 -0.80691177\n",
      "   0.84971197  0.66974323  0.84057601  0.82407096  0.80692736  0.80692601\n",
      "   0.80691969 -1.16124519 -1.11431887 -1.08031111 -1.02769835 -1.08647918\n",
      "  -1.15917875 -1.10729264 -0.91031214 -2.17027506]\n",
      " [-1.62018517  1.00988417  1.17226614 -0.29438602  0.96403026 -0.48965544\n",
      "  -0.26956544 -0.26293526 -0.94297115 -0.36715497 -0.80699989 -0.80691177\n",
      "   0.84971197  0.66974323  0.84057601  0.82407096  0.80692736  0.80692601\n",
      "   0.80691969 -0.88156118 -0.86619366 -0.81728994 -0.79354883 -0.88601357\n",
      "  -0.98770511 -0.87059328 -0.65846471 -0.97431721]]\n"
     ]
    }
   ],
   "source": [
    "print(trainX[0])"
   ]
  },
  {
   "cell_type": "markdown",
   "id": "7a0462a3-c332-42cd-94c3-d179bbbc758d",
   "metadata": {},
   "source": [
    "### LSTM architecture"
   ]
  },
  {
   "cell_type": "code",
   "execution_count": 21,
   "id": "51daa2bc-73f2-4b9b-86f8-e3029c6dba7f",
   "metadata": {},
   "outputs": [
    {
     "name": "stdout",
     "output_type": "stream",
     "text": [
      "Model: \"sequential_1\"\n",
      "_________________________________________________________________\n",
      " Layer (type)                Output Shape              Param #   \n",
      "=================================================================\n",
      " lstm (LSTM)                 (None, 125)               77000     \n",
      "                                                                 \n",
      " dense (Dense)               (None, 1)                 126       \n",
      "                                                                 \n",
      "=================================================================\n",
      "Total params: 77,126\n",
      "Trainable params: 77,126\n",
      "Non-trainable params: 0\n",
      "_________________________________________________________________\n"
     ]
    }
   ],
   "source": [
    "# The LSTM architecture -- Basic RNN | one layer then dense\n",
    "model_lstm = Sequential()\n",
    "model_lstm.add(LSTM(units=125, activation=\"tanh\", input_shape=(trainX.shape[1], trainX.shape[2])))\n",
    "model_lstm.add(Dense(units=1))\n",
    "# Compiling the model\n",
    "model_lstm.compile(optimizer=\"RMSprop\", loss=\"mse\")\n",
    "\n",
    "model_lstm.summary()"
   ]
  },
  {
   "cell_type": "code",
   "execution_count": 17,
   "id": "30ccc7bc-2f21-48cc-a9b6-4533f38339f1",
   "metadata": {},
   "outputs": [
    {
     "name": "stdout",
     "output_type": "stream",
     "text": [
      "Epoch 1/10\n",
      "659/659 [==============================] - 6s 5ms/step - loss: 0.2553\n",
      "Epoch 2/10\n",
      "659/659 [==============================] - 3s 5ms/step - loss: 0.1308\n",
      "Epoch 3/10\n",
      "659/659 [==============================] - 3s 5ms/step - loss: 0.0721\n",
      "Epoch 4/10\n",
      "659/659 [==============================] - 3s 5ms/step - loss: 0.0469\n",
      "Epoch 5/10\n",
      "659/659 [==============================] - 3s 5ms/step - loss: 0.0339\n",
      "Epoch 6/10\n",
      "659/659 [==============================] - 3s 5ms/step - loss: 0.0260\n",
      "Epoch 7/10\n",
      "659/659 [==============================] - 4s 6ms/step - loss: 0.0207\n",
      "Epoch 8/10\n",
      "659/659 [==============================] - 4s 5ms/step - loss: 0.0171\n",
      "Epoch 9/10\n",
      "659/659 [==============================] - 3s 5ms/step - loss: 0.0149\n",
      "Epoch 10/10\n",
      "659/659 [==============================] - 4s 6ms/step - loss: 0.0136\n"
     ]
    },
    {
     "data": {
      "text/plain": [
       "<keras.callbacks.History at 0x219481a8370>"
      ]
     },
     "execution_count": 17,
     "metadata": {},
     "output_type": "execute_result"
    }
   ],
   "source": [
    "batch_size = 16 # Change to 64 as per paper\n",
    "\n",
    "model_lstm.fit(trainX, trainY, epochs=10, batch_size=batch_size, verbose=1)\n"
   ]
  },
  {
   "cell_type": "code",
   "execution_count": null,
   "id": "3b40084b-b579-41eb-822e-099057deaf10",
   "metadata": {
    "pycharm": {
     "is_executing": true
    }
   },
   "outputs": [],
   "source": [
    "# Save the entire model as a SavedModel.\n",
    "'''\n",
    "!mkdir -p saved_model\n",
    "model_lstm.save('saved_model/LSTM_Saved_Barataria_WL_2020_2021')\n",
    "'''"
   ]
  },
  {
   "cell_type": "code",
   "execution_count": 22,
   "id": "cc26d9f3-e2c0-454a-9985-e985da8a1b18",
   "metadata": {},
   "outputs": [],
   "source": [
    "model_lstm = tf.keras.models.load_model('./saved_model/LSTM_Saved_Barataria_WL_2020_2021')"
   ]
  },
  {
   "cell_type": "markdown",
   "id": "d8bbe35d-2998-414e-a393-409f6f3dcea4",
   "metadata": {},
   "source": [
    "### Predictions\n"
   ]
  },
  {
   "cell_type": "code",
   "execution_count": 23,
   "id": "acef368f-e3bc-49a3-a207-4f2d7196cdad",
   "metadata": {},
   "outputs": [],
   "source": [
    "testX = []\n",
    "testY = []\n",
    "\n",
    "n_future = 1 # Number of timesteps we want to look into the future based on the past timesteps. Just one day ahead\n",
    "n_past = 7 # Number of past timesteps we want to use to predict the future. Use past 7 days.\n",
    "\n",
    "scaler2 = StandardScaler() # Scaling the test data to fit the same way as the training\n",
    "scaler2 = scaler2.fit(test)\n",
    "test_scaled = scaler2.transform(test)\n",
    "\n",
    "# Reformat the testing data to fit the format of the LSTM expected inputs.\n",
    "\n",
    "for i in range(n_past, len(test_scaled) - n_future +1):\n",
    "    testX.append(test_scaled[i - n_past:i, 0:test_scaled.shape[1]])\n",
    "    testY.append(test_scaled[i + n_future - 1:i + n_future, -1])\n",
    "\n",
    "testX, testY = np.array(testX), np.array(testY)\n"
   ]
  },
  {
   "cell_type": "markdown",
   "id": "4084822e",
   "metadata": {},
   "source": [
    "## Future Dates Prediction"
   ]
  },
  {
   "cell_type": "code",
   "execution_count": 14,
   "id": "52c439e0",
   "metadata": {
    "collapsed": false,
    "jupyter": {
     "outputs_hidden": false
    }
   },
   "outputs": [
    {
     "name": "stdout",
     "output_type": "stream",
     "text": [
      "1/1 [==============================] - 1s 899ms/step\n"
     ]
    }
   ],
   "source": [
    "# Run test\n",
    "# Prediction\n",
    "#pred_WL = model_lstm.predict(testX)\n",
    "n_future_pred = 14\n",
    "overlap = 1\n",
    "pred_WL = model_lstm.predict(trainX[-n_future_pred - overlap:])"
   ]
  },
  {
   "cell_type": "code",
   "execution_count": 15,
   "id": "305f88a7",
   "metadata": {
    "collapsed": false,
    "jupyter": {
     "outputs_hidden": false
    }
   },
   "outputs": [
    {
     "data": {
      "text/plain": [
       "<Axes: xlabel='datetime', ylabel='WL'>"
      ]
     },
     "execution_count": 15,
     "metadata": {},
     "output_type": "execute_result"
    },
    {
     "data": {
      "image/png": "[encoded data removed]",
      "text/plain": [
       "<Figure size 640x480 with 1 Axes>"
      ]
     },
     "metadata": {},
     "output_type": "display_data"
    }
   ],
   "source": [
    "import seaborn as sns\n",
    "\n",
    "#Perform inverse transformation to rescale back to original range\n",
    "#Since we used 5 variables for transform, the inverse expects same dimensions\n",
    "#Therefore, let us copy our values 27 times and discard them after inverse transform\n",
    "prediction_copies = np.repeat(pred_WL, train.shape[1], axis=-1)\n",
    "y_pred_future = scaler.inverse_transform(prediction_copies)[:,-1]\n",
    "\n",
    "predict_period_dates = pd.date_range(list(barataria20_21.index)[-overlap],periods=n_future_pred + overlap, freq='D').tolist()\n",
    "\n",
    "# Convert timestamp to date\n",
    "forecast_dates = []\n",
    "for time_i in predict_period_dates:\n",
    "    forecast_dates.append(time_i.date())\n",
    "len(y_pred_future)\n",
    "\n",
    "df_forecast = pd.DataFrame({'Date':np.array(forecast_dates), 'WL':y_pred_future})\n",
    "\n",
    "df_forecast.set_index('Date', inplace= True)\n",
    "\n",
    "original = barataria20_21[['WL']]\n",
    "original = original.loc['2021-12': '2022']\n",
    "\n",
    "sns.lineplot(original['WL'], errorbar= None)\n",
    "sns.lineplot(df_forecast['WL'],errorbar= None)"
   ]
  },
  {
   "cell_type": "markdown",
   "id": "5c697421",
   "metadata": {},
   "source": [
    "## Compare with Large Dataset"
   ]
  },
  {
   "cell_type": "code",
   "execution_count": null,
   "id": "3c431ce1",
   "metadata": {
    "collapsed": false,
    "jupyter": {
     "outputs_hidden": false
    }
   },
   "outputs": [],
   "source": [
    "# All 15 nodes, 2020 and 2021 data\n",
    "# Read in data\n",
    "barataria_full = pd.read_csv('Final_Dataset.csv')\n",
    "\n",
    "\n",
    "# Convert to datetime\n",
    "barataria_full['Day'] = barataria_full.loc[:, 'Day'].apply(lambda x: x - 1)\n",
    "\n",
    "barataria_full['datetime'] = barataria_full.loc[:,'Day']\n",
    "#pd.to_datetime(barataria_full.loc[:, 'Day'], unit='D')\n",
    "\n",
    "#Synchronization value: The number of days until stability\n",
    "#(i.e. the number of days until Water Level is stable)\n",
    "sync_value = 14\n",
    "\n",
    "barataria_full = barataria_full[barataria_full['Day'] >= sync_value]\n",
    "\n",
    "#Merge 2020 and 2021 data\n",
    "\n",
    "#Set datetime as index\n",
    "#barataria_full = barataria_full.set_index('datetime')"
   ]
  },
  {
   "cell_type": "code",
   "execution_count": null,
   "id": "7443f7e4",
   "metadata": {
    "collapsed": false,
    "jupyter": {
     "outputs_hidden": false
    }
   },
   "outputs": [],
   "source": [
    "pd.to_datetime(barataria_full)"
   ]
  },
  {
   "cell_type": "markdown",
   "id": "1ab135c1",
   "metadata": {},
   "source": [
    "## Testing"
   ]
  },
  {
   "cell_type": "code",
   "execution_count": 24,
   "id": "859f484c",
   "metadata": {
    "collapsed": false,
    "jupyter": {
     "outputs_hidden": false
    }
   },
   "outputs": [
    {
     "name": "stdout",
     "output_type": "stream",
     "text": [
      "165/165 [==============================] - 1s 5ms/step\n"
     ]
    }
   ],
   "source": [
    "pred_WL_full = model_lstm.predict(testX)\n",
    "\n",
    "# Change into DF and adjust for the 7 days initial period\n",
    "test_predicts = test[:-n_past].copy()\n",
    "test_predicts[\"Predicted WL\"] = pred_WL_full\n",
    "test_predicts.rename(columns= {0 : \"Predicted WL\"})\n",
    "test_predicts = test_predicts.drop(\"WL\", axis=1)\n",
    "\n",
    "# Inverse transform the values using minmax scaler\n",
    "predictions = scaler2.inverse_transform(test_predicts)\n",
    "predictions = pd.DataFrame(predictions).rename(columns= {27 : 'Predicted WL'})['Predicted WL']\n",
    "test_predicts[\"Transformed WL\"] = predictions.values\n"
   ]
  },
  {
   "cell_type": "code",
   "execution_count": 26,
   "id": "aa180985",
   "metadata": {
    "collapsed": false,
    "jupyter": {
     "outputs_hidden": false
    }
   },
   "outputs": [
    {
     "data": {
      "text/html": [
       "<div>\n",
       "<style scoped>\n",
       "    .dataframe tbody tr th:only-of-type {\n",
       "        vertical-align: middle;\n",
       "    }\n",
       "\n",
       "    .dataframe tbody tr th {\n",
       "        vertical-align: top;\n",
       "    }\n",
       "\n",
       "    .dataframe thead th {\n",
       "        text-align: right;\n",
       "    }\n",
       "</style>\n",
       "<table border=\"1\" class=\"dataframe\">\n",
       "  <thead>\n",
       "    <tr style=\"text-align: right;\">\n",
       "      <th></th>\n",
       "      <th>Point-ID</th>\n",
       "      <th>BL</th>\n",
       "      <th>WS</th>\n",
       "      <th>WD</th>\n",
       "      <th>Pressure</th>\n",
       "      <th>Precipitation</th>\n",
       "      <th>Miss.Discharge</th>\n",
       "      <th>DP.Discharge</th>\n",
       "      <th>GIWW.Discharge</th>\n",
       "      <th>Naomi.Discharge</th>\n",
       "      <th>...</th>\n",
       "      <th>WL.B1</th>\n",
       "      <th>WL.B2</th>\n",
       "      <th>WL.B3</th>\n",
       "      <th>WL.B4</th>\n",
       "      <th>WL.B5</th>\n",
       "      <th>WL.B6</th>\n",
       "      <th>WL.B7</th>\n",
       "      <th>WL.B8</th>\n",
       "      <th>Predicted WL</th>\n",
       "      <th>Transformed WL</th>\n",
       "    </tr>\n",
       "    <tr>\n",
       "      <th>datetime</th>\n",
       "      <th></th>\n",
       "      <th></th>\n",
       "      <th></th>\n",
       "      <th></th>\n",
       "      <th></th>\n",
       "      <th></th>\n",
       "      <th></th>\n",
       "      <th></th>\n",
       "      <th></th>\n",
       "      <th></th>\n",
       "      <th></th>\n",
       "      <th></th>\n",
       "      <th></th>\n",
       "      <th></th>\n",
       "      <th></th>\n",
       "      <th></th>\n",
       "      <th></th>\n",
       "      <th></th>\n",
       "      <th></th>\n",
       "      <th></th>\n",
       "      <th></th>\n",
       "    </tr>\n",
       "  </thead>\n",
       "  <tbody>\n",
       "    <tr>\n",
       "      <th>2021-01-15</th>\n",
       "      <td>1</td>\n",
       "      <td>-2.13499</td>\n",
       "      <td>3.078986</td>\n",
       "      <td>70.343639</td>\n",
       "      <td>102331.367188</td>\n",
       "      <td>0.000000</td>\n",
       "      <td>21204.435547</td>\n",
       "      <td>106.174532</td>\n",
       "      <td>65.21</td>\n",
       "      <td>0.0</td>\n",
       "      <td>...</td>\n",
       "      <td>0.328151</td>\n",
       "      <td>0.291461</td>\n",
       "      <td>0.266888</td>\n",
       "      <td>0.254763</td>\n",
       "      <td>0.284714</td>\n",
       "      <td>0.328674</td>\n",
       "      <td>0.390222</td>\n",
       "      <td>0.398150</td>\n",
       "      <td>0.308607</td>\n",
       "      <td>0.462042</td>\n",
       "    </tr>\n",
       "    <tr>\n",
       "      <th>2021-01-16</th>\n",
       "      <td>1</td>\n",
       "      <td>-2.13499</td>\n",
       "      <td>1.827750</td>\n",
       "      <td>134.078928</td>\n",
       "      <td>102059.250000</td>\n",
       "      <td>0.000000</td>\n",
       "      <td>21428.725049</td>\n",
       "      <td>107.297591</td>\n",
       "      <td>46.89</td>\n",
       "      <td>0.0</td>\n",
       "      <td>...</td>\n",
       "      <td>0.224189</td>\n",
       "      <td>0.185741</td>\n",
       "      <td>0.159651</td>\n",
       "      <td>0.153709</td>\n",
       "      <td>0.180247</td>\n",
       "      <td>0.225488</td>\n",
       "      <td>0.276044</td>\n",
       "      <td>0.260675</td>\n",
       "      <td>0.356864</td>\n",
       "      <td>0.468268</td>\n",
       "    </tr>\n",
       "    <tr>\n",
       "      <th>2021-01-17</th>\n",
       "      <td>1</td>\n",
       "      <td>-2.13499</td>\n",
       "      <td>11.758701</td>\n",
       "      <td>5.755885</td>\n",
       "      <td>102659.882812</td>\n",
       "      <td>0.088685</td>\n",
       "      <td>21880.597095</td>\n",
       "      <td>109.560198</td>\n",
       "      <td>-3.99</td>\n",
       "      <td>0.0</td>\n",
       "      <td>...</td>\n",
       "      <td>0.260371</td>\n",
       "      <td>0.214557</td>\n",
       "      <td>0.198053</td>\n",
       "      <td>0.194387</td>\n",
       "      <td>0.210225</td>\n",
       "      <td>0.263267</td>\n",
       "      <td>0.292401</td>\n",
       "      <td>0.197048</td>\n",
       "      <td>-0.324672</td>\n",
       "      <td>0.380343</td>\n",
       "    </tr>\n",
       "    <tr>\n",
       "      <th>2021-01-18</th>\n",
       "      <td>1</td>\n",
       "      <td>-2.13499</td>\n",
       "      <td>8.149099</td>\n",
       "      <td>35.014081</td>\n",
       "      <td>102889.382812</td>\n",
       "      <td>0.000000</td>\n",
       "      <td>22269.786499</td>\n",
       "      <td>111.508941</td>\n",
       "      <td>11.58</td>\n",
       "      <td>0.0</td>\n",
       "      <td>...</td>\n",
       "      <td>0.156452</td>\n",
       "      <td>0.122808</td>\n",
       "      <td>0.100444</td>\n",
       "      <td>0.093979</td>\n",
       "      <td>0.125298</td>\n",
       "      <td>0.174769</td>\n",
       "      <td>0.224467</td>\n",
       "      <td>0.188580</td>\n",
       "      <td>-0.826411</td>\n",
       "      <td>0.315614</td>\n",
       "    </tr>\n",
       "    <tr>\n",
       "      <th>2021-01-19</th>\n",
       "      <td>1</td>\n",
       "      <td>-2.13499</td>\n",
       "      <td>3.945247</td>\n",
       "      <td>51.738076</td>\n",
       "      <td>102241.890625</td>\n",
       "      <td>0.000000</td>\n",
       "      <td>22614.328345</td>\n",
       "      <td>113.234126</td>\n",
       "      <td>61.17</td>\n",
       "      <td>0.0</td>\n",
       "      <td>...</td>\n",
       "      <td>0.133917</td>\n",
       "      <td>0.096222</td>\n",
       "      <td>0.068345</td>\n",
       "      <td>0.063333</td>\n",
       "      <td>0.089244</td>\n",
       "      <td>0.138885</td>\n",
       "      <td>0.192607</td>\n",
       "      <td>0.193032</td>\n",
       "      <td>-0.708349</td>\n",
       "      <td>0.330845</td>\n",
       "    </tr>\n",
       "    <tr>\n",
       "      <th>...</th>\n",
       "      <td>...</td>\n",
       "      <td>...</td>\n",
       "      <td>...</td>\n",
       "      <td>...</td>\n",
       "      <td>...</td>\n",
       "      <td>...</td>\n",
       "      <td>...</td>\n",
       "      <td>...</td>\n",
       "      <td>...</td>\n",
       "      <td>...</td>\n",
       "      <td>...</td>\n",
       "      <td>...</td>\n",
       "      <td>...</td>\n",
       "      <td>...</td>\n",
       "      <td>...</td>\n",
       "      <td>...</td>\n",
       "      <td>...</td>\n",
       "      <td>...</td>\n",
       "      <td>...</td>\n",
       "      <td>...</td>\n",
       "      <td>...</td>\n",
       "    </tr>\n",
       "    <tr>\n",
       "      <th>2021-12-21</th>\n",
       "      <td>15</td>\n",
       "      <td>-3.36399</td>\n",
       "      <td>16.066622</td>\n",
       "      <td>312.104881</td>\n",
       "      <td>99869.062500</td>\n",
       "      <td>0.985822</td>\n",
       "      <td>5961.406253</td>\n",
       "      <td>29.849864</td>\n",
       "      <td>128.40</td>\n",
       "      <td>0.0</td>\n",
       "      <td>...</td>\n",
       "      <td>0.368924</td>\n",
       "      <td>0.355573</td>\n",
       "      <td>0.344280</td>\n",
       "      <td>0.343683</td>\n",
       "      <td>0.355893</td>\n",
       "      <td>0.370800</td>\n",
       "      <td>0.379315</td>\n",
       "      <td>0.354240</td>\n",
       "      <td>0.661384</td>\n",
       "      <td>0.507554</td>\n",
       "    </tr>\n",
       "    <tr>\n",
       "      <th>2021-12-22</th>\n",
       "      <td>15</td>\n",
       "      <td>-3.36399</td>\n",
       "      <td>3.518531</td>\n",
       "      <td>298.984345</td>\n",
       "      <td>101159.875000</td>\n",
       "      <td>0.000000</td>\n",
       "      <td>6002.723193</td>\n",
       "      <td>30.056746</td>\n",
       "      <td>108.96</td>\n",
       "      <td>0.0</td>\n",
       "      <td>...</td>\n",
       "      <td>0.341696</td>\n",
       "      <td>0.312265</td>\n",
       "      <td>0.294518</td>\n",
       "      <td>0.290387</td>\n",
       "      <td>0.303415</td>\n",
       "      <td>0.317764</td>\n",
       "      <td>0.328882</td>\n",
       "      <td>0.344696</td>\n",
       "      <td>0.071631</td>\n",
       "      <td>0.431470</td>\n",
       "    </tr>\n",
       "    <tr>\n",
       "      <th>2021-12-23</th>\n",
       "      <td>15</td>\n",
       "      <td>-3.36399</td>\n",
       "      <td>7.641140</td>\n",
       "      <td>189.737193</td>\n",
       "      <td>101381.742188</td>\n",
       "      <td>0.000000</td>\n",
       "      <td>5994.835889</td>\n",
       "      <td>30.017252</td>\n",
       "      <td>104.85</td>\n",
       "      <td>0.0</td>\n",
       "      <td>...</td>\n",
       "      <td>0.180455</td>\n",
       "      <td>0.162314</td>\n",
       "      <td>0.140737</td>\n",
       "      <td>0.139233</td>\n",
       "      <td>0.155783</td>\n",
       "      <td>0.164035</td>\n",
       "      <td>0.173614</td>\n",
       "      <td>0.204113</td>\n",
       "      <td>-1.473974</td>\n",
       "      <td>0.232073</td>\n",
       "    </tr>\n",
       "    <tr>\n",
       "      <th>2021-12-24</th>\n",
       "      <td>15</td>\n",
       "      <td>-3.36399</td>\n",
       "      <td>3.705823</td>\n",
       "      <td>354.191671</td>\n",
       "      <td>101795.640625</td>\n",
       "      <td>0.000000</td>\n",
       "      <td>5985.844324</td>\n",
       "      <td>29.972230</td>\n",
       "      <td>110.73</td>\n",
       "      <td>0.0</td>\n",
       "      <td>...</td>\n",
       "      <td>0.246449</td>\n",
       "      <td>0.226928</td>\n",
       "      <td>0.208421</td>\n",
       "      <td>0.200227</td>\n",
       "      <td>0.215924</td>\n",
       "      <td>0.238371</td>\n",
       "      <td>0.240674</td>\n",
       "      <td>0.248768</td>\n",
       "      <td>0.696668</td>\n",
       "      <td>0.512106</td>\n",
       "    </tr>\n",
       "    <tr>\n",
       "      <th>2021-12-25</th>\n",
       "      <td>15</td>\n",
       "      <td>-3.36399</td>\n",
       "      <td>5.129517</td>\n",
       "      <td>141.879306</td>\n",
       "      <td>101521.406250</td>\n",
       "      <td>0.000000</td>\n",
       "      <td>5969.826077</td>\n",
       "      <td>29.892024</td>\n",
       "      <td>86.16</td>\n",
       "      <td>0.0</td>\n",
       "      <td>...</td>\n",
       "      <td>0.279215</td>\n",
       "      <td>0.252778</td>\n",
       "      <td>0.235035</td>\n",
       "      <td>0.228069</td>\n",
       "      <td>0.242708</td>\n",
       "      <td>0.266230</td>\n",
       "      <td>0.276891</td>\n",
       "      <td>0.289296</td>\n",
       "      <td>-0.132623</td>\n",
       "      <td>0.405119</td>\n",
       "    </tr>\n",
       "  </tbody>\n",
       "</table>\n",
       "<p>5273 rows × 29 columns</p>\n",
       "</div>"
      ],
      "text/plain": [
       "            Point-ID       BL         WS          WD       Pressure  \\\n",
       "datetime                                                              \n",
       "2021-01-15         1 -2.13499   3.078986   70.343639  102331.367188   \n",
       "2021-01-16         1 -2.13499   1.827750  134.078928  102059.250000   \n",
       "2021-01-17         1 -2.13499  11.758701    5.755885  102659.882812   \n",
       "2021-01-18         1 -2.13499   8.149099   35.014081  102889.382812   \n",
       "2021-01-19         1 -2.13499   3.945247   51.738076  102241.890625   \n",
       "...              ...      ...        ...         ...            ...   \n",
       "2021-12-21        15 -3.36399  16.066622  312.104881   99869.062500   \n",
       "2021-12-22        15 -3.36399   3.518531  298.984345  101159.875000   \n",
       "2021-12-23        15 -3.36399   7.641140  189.737193  101381.742188   \n",
       "2021-12-24        15 -3.36399   3.705823  354.191671  101795.640625   \n",
       "2021-12-25        15 -3.36399   5.129517  141.879306  101521.406250   \n",
       "\n",
       "            Precipitation  Miss.Discharge  DP.Discharge  GIWW.Discharge  \\\n",
       "datetime                                                                  \n",
       "2021-01-15       0.000000    21204.435547    106.174532           65.21   \n",
       "2021-01-16       0.000000    21428.725049    107.297591           46.89   \n",
       "2021-01-17       0.088685    21880.597095    109.560198           -3.99   \n",
       "2021-01-18       0.000000    22269.786499    111.508941           11.58   \n",
       "2021-01-19       0.000000    22614.328345    113.234126           61.17   \n",
       "...                   ...             ...           ...             ...   \n",
       "2021-12-21       0.985822     5961.406253     29.849864          128.40   \n",
       "2021-12-22       0.000000     6002.723193     30.056746          108.96   \n",
       "2021-12-23       0.000000     5994.835889     30.017252          104.85   \n",
       "2021-12-24       0.000000     5985.844324     29.972230          110.73   \n",
       "2021-12-25       0.000000     5969.826077     29.892024           86.16   \n",
       "\n",
       "            Naomi.Discharge  ...     WL.B1     WL.B2     WL.B3     WL.B4  \\\n",
       "datetime                     ...                                           \n",
       "2021-01-15              0.0  ...  0.328151  0.291461  0.266888  0.254763   \n",
       "2021-01-16              0.0  ...  0.224189  0.185741  0.159651  0.153709   \n",
       "2021-01-17              0.0  ...  0.260371  0.214557  0.198053  0.194387   \n",
       "2021-01-18              0.0  ...  0.156452  0.122808  0.100444  0.093979   \n",
       "2021-01-19              0.0  ...  0.133917  0.096222  0.068345  0.063333   \n",
       "...                     ...  ...       ...       ...       ...       ...   \n",
       "2021-12-21              0.0  ...  0.368924  0.355573  0.344280  0.343683   \n",
       "2021-12-22              0.0  ...  0.341696  0.312265  0.294518  0.290387   \n",
       "2021-12-23              0.0  ...  0.180455  0.162314  0.140737  0.139233   \n",
       "2021-12-24              0.0  ...  0.246449  0.226928  0.208421  0.200227   \n",
       "2021-12-25              0.0  ...  0.279215  0.252778  0.235035  0.228069   \n",
       "\n",
       "               WL.B5     WL.B6     WL.B7     WL.B8  Predicted WL  \\\n",
       "datetime                                                           \n",
       "2021-01-15  0.284714  0.328674  0.390222  0.398150      0.308607   \n",
       "2021-01-16  0.180247  0.225488  0.276044  0.260675      0.356864   \n",
       "2021-01-17  0.210225  0.263267  0.292401  0.197048     -0.324672   \n",
       "2021-01-18  0.125298  0.174769  0.224467  0.188580     -0.826411   \n",
       "2021-01-19  0.089244  0.138885  0.192607  0.193032     -0.708349   \n",
       "...              ...       ...       ...       ...           ...   \n",
       "2021-12-21  0.355893  0.370800  0.379315  0.354240      0.661384   \n",
       "2021-12-22  0.303415  0.317764  0.328882  0.344696      0.071631   \n",
       "2021-12-23  0.155783  0.164035  0.173614  0.204113     -1.473974   \n",
       "2021-12-24  0.215924  0.238371  0.240674  0.248768      0.696668   \n",
       "2021-12-25  0.242708  0.266230  0.276891  0.289296     -0.132623   \n",
       "\n",
       "            Transformed WL  \n",
       "datetime                    \n",
       "2021-01-15        0.462042  \n",
       "2021-01-16        0.468268  \n",
       "2021-01-17        0.380343  \n",
       "2021-01-18        0.315614  \n",
       "2021-01-19        0.330845  \n",
       "...                    ...  \n",
       "2021-12-21        0.507554  \n",
       "2021-12-22        0.431470  \n",
       "2021-12-23        0.232073  \n",
       "2021-12-24        0.512106  \n",
       "2021-12-25        0.405119  \n",
       "\n",
       "[5273 rows x 29 columns]"
      ]
     },
     "execution_count": 26,
     "metadata": {},
     "output_type": "execute_result"
    }
   ],
   "source": [
    "test_predicts"
   ]
  },
  {
   "cell_type": "code",
   "execution_count": 16,
   "id": "3fbc4ff4",
   "metadata": {
    "collapsed": false,
    "jupyter": {
     "outputs_hidden": false
    }
   },
   "outputs": [
    {
     "data": {
      "text/plain": [
       "<Axes: xlabel='datetime', ylabel='WL'>"
      ]
     },
     "execution_count": 16,
     "metadata": {},
     "output_type": "execute_result"
    },
    {
     "data": {
      "image/png": "[encoded data removed]",
      "text/plain": [
       "<Figure size 640x480 with 1 Axes>"
      ]
     },
     "metadata": {},
     "output_type": "display_data"
    }
   ],
   "source": [
    "import seaborn as sns\n",
    "#Plot for point 5\n",
    "point = 5\n",
    "\n",
    "sns.lineplot(test['WL'][test['Point-ID'] == point], errorbar= None)\n",
    "sns.lineplot(test_predicts['Transformed WL'][test_predicts['Point-ID'] == point].shift(7), errorbar= None)\n",
    "# shifting 7 to overlay due to inherent shifting from original formatting of the data.\n",
    "\n"
   ]
  },
  {
   "cell_type": "code",
   "execution_count": 17,
   "id": "a4c60ddd",
   "metadata": {
    "collapsed": false,
    "jupyter": {
     "outputs_hidden": false
    }
   },
   "outputs": [
    {
     "data": {
      "text/plain": [
       "0.0251860822531395"
      ]
     },
     "execution_count": 17,
     "metadata": {},
     "output_type": "execute_result"
    }
   ],
   "source": [
    "# MSE for all points.\n",
    "mean_squared_error(test[\"WL\"][:-7], test_predicts[\"Transformed WL\"])\n"
   ]
  },
  {
   "cell_type": "code",
   "execution_count": 5,
   "id": "1d0e2625-4f83-46e7-a22c-c5fc7cdf9620",
   "metadata": {},
   "outputs": [
    {
     "ename": "NameError",
     "evalue": "name 'test_predicts' is not defined",
     "output_type": "error",
     "traceback": [
      "\u001b[1;31m---------------------------------------------------------------------------\u001b[0m",
      "\u001b[1;31mNameError\u001b[0m                                 Traceback (most recent call last)",
      "Cell \u001b[1;32mIn[5], line 1\u001b[0m\n\u001b[1;32m----> 1\u001b[0m \u001b[43mtest_predicts\u001b[49m\n",
      "\u001b[1;31mNameError\u001b[0m: name 'test_predicts' is not defined"
     ]
    }
   ],
   "source": [
    "test_predicts"
   ]
  },
  {
   "cell_type": "code",
   "execution_count": null,
   "id": "65a488f1",
   "metadata": {
    "collapsed": false,
    "jupyter": {
     "outputs_hidden": false
    }
   },
   "outputs": [],
   "source": []
  }
 ],
 "metadata": {
  "kernelspec": {
   "display_name": "Python 3 (ipykernel)",
   "language": "python",
   "name": "python3"
  },
  "language_info": {
   "codemirror_mode": {
    "name": "ipython",
    "version": 3
   },
   "file_extension": ".py",
   "mimetype": "text/x-python",
   "name": "python",
   "nbconvert_exporter": "python",
   "pygments_lexer": "ipython3",
   "version": "3.9.16"
  }
 },
 "nbformat": 4,
 "nbformat_minor": 5
}
