{
 "cells": [
  {
   "cell_type": "markdown",
   "metadata": {},
   "source": [
    "# LSTM Lag test"
   ]
  },
  {
   "cell_type": "markdown",
   "metadata": {
    "jp-MarkdownHeadingCollapsed": true,
    "tags": []
   },
   "source": [
    "## 0. Imports"
   ]
  },
  {
   "cell_type": "code",
   "execution_count": 1,
   "metadata": {
    "collapsed": false,
    "jupyter": {
     "outputs_hidden": false
    }
   },
   "outputs": [],
   "source": [
    "import numpy as np\n",
    "import tensorflow as tf\n",
    "from keras.models import Sequential\n",
    "from keras.layers import LSTM\n",
    "from keras.layers import Dense, Dropout\n",
    "import pandas as pd\n",
    "from matplotlib import pyplot as plt\n",
    "from sklearn.preprocessing import StandardScaler\n",
    "import seaborn as sns"
   ]
  },
  {
   "cell_type": "markdown",
   "metadata": {},
   "source": [
    "## 1. Read and EDA"
   ]
  },
  {
   "cell_type": "code",
   "execution_count": 2,
   "metadata": {
    "collapsed": false,
    "jupyter": {
     "outputs_hidden": false
    }
   },
   "outputs": [
    {
     "name": "stdout",
     "output_type": "stream",
     "text": [
      "                           Discharge  Gage Height  Velocity\n",
      "datetime                                                   \n",
      "2017-01-01 00:00:00-06:00    20400.0        16.95      2.45\n",
      "2017-01-01 00:15:00-06:00    19800.0        16.96      2.37\n",
      "2017-01-01 00:30:00-06:00    20900.0        16.98      2.51\n",
      "2017-01-01 00:45:00-06:00    19300.0        16.95      2.32\n",
      "2017-01-01 01:00:00-06:00    20700.0        16.98      2.49\n"
     ]
    },
    {
     "name": "stderr",
     "output_type": "stream",
     "text": [
      "C:\\Users\\perso\\AppData\\Local\\Temp\\ipykernel_10228\\80301310.py:2: DtypeWarning: Columns (2,5,11,13,15,17,19,21,23,25) have mixed types. Specify dtype option on import or set low_memory=False.\n",
      "  df = pd.read_csv('henry_csv_17-23.csv')#, infer_datetime_format= True)\n"
     ]
    }
   ],
   "source": [
    "#Read the csv file\n",
    "df = pd.read_csv('henry_csv_17-23.csv')#, infer_datetime_format= True)\n",
    "renames = {'00065': 'Gage Height', '00060': 'Discharge', '72254': 'Velocity'}\n",
    "df = df.rename(columns = renames)\n",
    "\n",
    "df = df[['datetime', 'Discharge', 'Gage Height', 'Velocity']]\n",
    "df = df.set_index('datetime')\n",
    "df.dropna(axis = 0, inplace = True)\n",
    "\n",
    "print(df.head()) #3 columns"
   ]
  },
  {
   "cell_type": "code",
   "execution_count": 4,
   "metadata": {
    "collapsed": false,
    "jupyter": {
     "outputs_hidden": false
    }
   },
   "outputs": [
    {
     "name": "stdout",
     "output_type": "stream",
     "text": [
      "datetime\n",
      "2022-12-01 20:15:00-06:00    2022-12-01 20:15:00-06:00\n",
      "2022-12-01 20:30:00-06:00    2022-12-01 20:30:00-06:00\n",
      "2022-12-01 20:45:00-06:00    2022-12-01 20:45:00-06:00\n",
      "2022-12-01 21:00:00-06:00    2022-12-01 21:00:00-06:00\n",
      "2022-12-01 21:15:00-06:00    2022-12-01 21:15:00-06:00\n",
      "2022-12-01 21:30:00-06:00    2022-12-01 21:30:00-06:00\n",
      "2022-12-01 21:45:00-06:00    2022-12-01 21:45:00-06:00\n",
      "2022-12-01 22:00:00-06:00    2022-12-01 22:00:00-06:00\n",
      "2022-12-01 22:15:00-06:00    2022-12-01 22:15:00-06:00\n",
      "2022-12-01 22:30:00-06:00    2022-12-01 22:30:00-06:00\n",
      "2022-12-01 22:45:00-06:00    2022-12-01 22:45:00-06:00\n",
      "2022-12-01 23:00:00-06:00    2022-12-01 23:00:00-06:00\n",
      "2022-12-01 23:15:00-06:00    2022-12-01 23:15:00-06:00\n",
      "2022-12-01 23:30:00-06:00    2022-12-01 23:30:00-06:00\n",
      "2022-12-01 23:45:00-06:00    2022-12-01 23:45:00-06:00\n",
      "Name: datetime, dtype: object\n"
     ]
    }
   ],
   "source": [
    "#Separate dates for future plotting\n",
    "train_dates = df.index.to_series()\n",
    "print(train_dates.tail(15)) #Check last few dates."
   ]
  },
  {
   "cell_type": "code",
   "execution_count": 5,
   "metadata": {
    "collapsed": false,
    "jupyter": {
     "outputs_hidden": false
    }
   },
   "outputs": [],
   "source": [
    "# Subset the train/testing data\n",
    "# Train: 2017-2018, 2020\n",
    "# Test: 2019, 2021\n",
    "\n",
    "train = df['2020':'2021'] # 2020-2021\n",
    "test = df['2021':'2022'] # Year of 2022"
   ]
  },
  {
   "cell_type": "code",
   "execution_count": 6,
   "metadata": {
    "collapsed": false,
    "jupyter": {
     "outputs_hidden": false
    }
   },
   "outputs": [],
   "source": [
    "# We do not want to be training with the discharge we are attempting to replace\n",
    "trainx_prescale = train.drop(\"Discharge\", axis= 1) "
   ]
  },
  {
   "cell_type": "markdown",
   "metadata": {},
   "source": [
    "## Data manipulation"
   ]
  },
  {
   "cell_type": "code",
   "execution_count": 7,
   "metadata": {
    "collapsed": false,
    "jupyter": {
     "outputs_hidden": false
    }
   },
   "outputs": [],
   "source": [
    "# LSTM uses sigmoid and tanh that are sensitive to magnitude so values need to be normalized\n",
    "# Normalize the dataset\n",
    "\n",
    "scaler = StandardScaler()\n",
    "scaler = scaler.fit(train)\n",
    "train_scaled = scaler.transform(train)\n",
    "\n",
    "\n",
    "scaler_X = scaler.fit(trainx_prescale)\n",
    "trainx_prescale = scaler.transform(trainx_prescale)"
   ]
  },
  {
   "cell_type": "code",
   "execution_count": 8,
   "metadata": {
    "collapsed": false,
    "jupyter": {
     "outputs_hidden": false
    }
   },
   "outputs": [
    {
     "data": {
      "text/plain": [
       "array([[-0.01233026,  1.34950998],\n",
       "       [-0.02334606,  1.1214551 ],\n",
       "       [-0.01783816,  1.28435144],\n",
       "       ...,\n",
<<<<<<< Updated upstream
       "       [-0.75314321, -0.72470352],\n",
       "       [-0.73386555, -0.92017913],\n",
       "       [-0.74763531, -0.75728279]])"
=======
       "       [-0.75355472, -1.33758719],\n",
       "       [-0.75651935, -1.32698147],\n",
       "       [-0.75948399, -1.29516431]])"
      ]
     },
     "execution_count": 21,
     "metadata": {},
     "output_type": "execute_result"
    }
   ],
   "source": [
    "dfx_prescale "
   ]
  },
  {
   "cell_type": "code",
   "execution_count": 22,
   "metadata": {},
   "outputs": [
    {
     "name": "stdout",
     "output_type": "stream",
     "text": [
      "                           Discharge  Gage Height  Velocity\n",
      "datetime                                                   \n",
      "2017-01-01 00:00:00-06:00   0.209594    -0.139875  0.783557\n",
      "2017-01-01 00:15:00-06:00   0.166348    -0.136910  0.698711\n",
      "2017-01-01 00:30:00-06:00   0.245632    -0.130981  0.847191\n",
      "2017-01-01 00:45:00-06:00   0.130310    -0.139875  0.645682\n",
      "2017-01-01 01:00:00-06:00   0.231217    -0.130981  0.825980\n",
      "...                              ...          ...       ...\n",
      "2022-12-01 22:45:00-06:00  -0.935701    -0.768378 -1.178501\n",
      "2022-12-01 23:00:00-06:00  -0.986875    -0.756519 -1.284559\n",
      "2022-12-01 23:15:00-06:00  -1.012823    -0.753555 -1.337587\n",
      "2022-12-01 23:30:00-06:00  -1.007777    -0.756519 -1.326981\n",
      "2022-12-01 23:45:00-06:00  -0.992641    -0.759484 -1.295164\n",
      "\n",
      "[199343 rows x 3 columns]\n",
      "<class 'pandas.core.frame.DataFrame'>\n"
     ]
    }
   ],
   "source": [
    "# Convert from an array to dataframe\n",
    "df_scaled = pd.DataFrame(df_scaled, columns = ['Discharge','Gage Height','Velocity'], index=df.index)\n",
    "dfx_prescale = pd.DataFrame(dfx_prescale, columns = ['Gage Height','Velocity'], index=df.index)\n",
    "\n",
    "print(df_scaled)\n",
    "print(type(df_scaled))"
   ]
  },
  {
   "cell_type": "code",
   "execution_count": 23,
   "metadata": {
    "collapsed": false,
    "jupyter": {
     "outputs_hidden": false
    }
   },
   "outputs": [],
   "source": [
    "# Subset the train/testing data\n",
    "# Train: 2017-2018, 2020\n",
    "# Test: 2019, 2021\n",
    "\n",
    "train_scaled = df_scaled['2017':'2020'] # Years 2017, 2018 and 2019 (this includes training and validation data)\n",
    "test_scaled = df_scaled['2020':'2021'] # Year of 2020"
   ]
  },
  {
   "cell_type": "code",
   "execution_count": 24,
   "metadata": {},
   "outputs": [
    {
     "data": {
      "text/html": [
       "<div>\n",
       "<style scoped>\n",
       "    .dataframe tbody tr th:only-of-type {\n",
       "        vertical-align: middle;\n",
       "    }\n",
       "\n",
       "    .dataframe tbody tr th {\n",
       "        vertical-align: top;\n",
       "    }\n",
       "\n",
       "    .dataframe thead th {\n",
       "        text-align: right;\n",
       "    }\n",
       "</style>\n",
       "<table border=\"1\" class=\"dataframe\">\n",
       "  <thead>\n",
       "    <tr style=\"text-align: right;\">\n",
       "      <th></th>\n",
       "      <th>Discharge</th>\n",
       "      <th>Gage Height</th>\n",
       "      <th>Velocity</th>\n",
       "    </tr>\n",
       "    <tr>\n",
       "      <th>datetime</th>\n",
       "      <th></th>\n",
       "      <th></th>\n",
       "      <th></th>\n",
       "    </tr>\n",
       "  </thead>\n",
       "  <tbody>\n",
       "    <tr>\n",
       "      <th>2017-01-01 00:00:00-06:00</th>\n",
       "      <td>0.209594</td>\n",
       "      <td>-0.139875</td>\n",
       "      <td>0.783557</td>\n",
       "    </tr>\n",
       "    <tr>\n",
       "      <th>2017-01-01 00:15:00-06:00</th>\n",
       "      <td>0.166348</td>\n",
       "      <td>-0.136910</td>\n",
       "      <td>0.698711</td>\n",
       "    </tr>\n",
       "    <tr>\n",
       "      <th>2017-01-01 00:30:00-06:00</th>\n",
       "      <td>0.245632</td>\n",
       "      <td>-0.130981</td>\n",
       "      <td>0.847191</td>\n",
       "    </tr>\n",
       "    <tr>\n",
       "      <th>2017-01-01 00:45:00-06:00</th>\n",
       "      <td>0.130310</td>\n",
       "      <td>-0.139875</td>\n",
       "      <td>0.645682</td>\n",
       "    </tr>\n",
       "    <tr>\n",
       "      <th>2017-01-01 01:00:00-06:00</th>\n",
       "      <td>0.231217</td>\n",
       "      <td>-0.130981</td>\n",
       "      <td>0.825980</td>\n",
       "    </tr>\n",
       "    <tr>\n",
       "      <th>...</th>\n",
       "      <td>...</td>\n",
       "      <td>...</td>\n",
       "      <td>...</td>\n",
       "    </tr>\n",
       "    <tr>\n",
       "      <th>2019-12-31 22:45:00-06:00</th>\n",
       "      <td>0.447446</td>\n",
       "      <td>-0.003502</td>\n",
       "      <td>1.154757</td>\n",
       "    </tr>\n",
       "    <tr>\n",
       "      <th>2019-12-31 23:00:00-06:00</th>\n",
       "      <td>0.440238</td>\n",
       "      <td>-0.000537</td>\n",
       "      <td>1.144151</td>\n",
       "    </tr>\n",
       "    <tr>\n",
       "      <th>2019-12-31 23:15:00-06:00</th>\n",
       "      <td>0.433031</td>\n",
       "      <td>-0.000537</td>\n",
       "      <td>1.133546</td>\n",
       "    </tr>\n",
       "    <tr>\n",
       "      <th>2019-12-31 23:30:00-06:00</th>\n",
       "      <td>0.461861</td>\n",
       "      <td>0.002427</td>\n",
       "      <td>1.186574</td>\n",
       "    </tr>\n",
       "    <tr>\n",
       "      <th>2019-12-31 23:45:00-06:00</th>\n",
       "      <td>0.469069</td>\n",
       "      <td>0.005392</td>\n",
       "      <td>1.197180</td>\n",
       "    </tr>\n",
       "  </tbody>\n",
       "</table>\n",
       "<p>100908 rows × 3 columns</p>\n",
       "</div>"
      ],
      "text/plain": [
       "                           Discharge  Gage Height  Velocity\n",
       "datetime                                                   \n",
       "2017-01-01 00:00:00-06:00   0.209594    -0.139875  0.783557\n",
       "2017-01-01 00:15:00-06:00   0.166348    -0.136910  0.698711\n",
       "2017-01-01 00:30:00-06:00   0.245632    -0.130981  0.847191\n",
       "2017-01-01 00:45:00-06:00   0.130310    -0.139875  0.645682\n",
       "2017-01-01 01:00:00-06:00   0.231217    -0.130981  0.825980\n",
       "...                              ...          ...       ...\n",
       "2019-12-31 22:45:00-06:00   0.447446    -0.003502  1.154757\n",
       "2019-12-31 23:00:00-06:00   0.440238    -0.000537  1.144151\n",
       "2019-12-31 23:15:00-06:00   0.433031    -0.000537  1.133546\n",
       "2019-12-31 23:30:00-06:00   0.461861     0.002427  1.186574\n",
       "2019-12-31 23:45:00-06:00   0.469069     0.005392  1.197180\n",
       "\n",
       "[100908 rows x 3 columns]"
>>>>>>> Stashed changes
      ]
     },
     "execution_count": 8,
     "metadata": {},
     "output_type": "execute_result"
    }
   ],
   "source": [
    "trainx_prescale"
   ]
  },
  {
   "cell_type": "code",
   "execution_count": 9,
   "metadata": {
    "collapsed": false,
    "jupyter": {
     "outputs_hidden": false
    }
   },
   "outputs": [
    {
     "name": "stdout",
     "output_type": "stream",
     "text": [
      "trainX shape == (33705, 288, 2).\n",
      "trainY shape == (33705, 1).\n"
     ]
    }
   ],
   "source": [
    "#As required for LSTM networks, we require to reshape an input data into n_samples x timesteps x n_features.\n",
    "#In this example, the n_features is 3. We will make timesteps = 672 (past 7 days data used for training).\n",
    "\n",
    "#Empty lists to be populated using formatted training data\n",
    "trainX = []\n",
    "trainY = []\n",
    "\n",
    "time_to_hr = 4 # 4 timesteps per hour\n",
    "time_to_day = time_to_hr * 24 # 24hrs in a day\n",
    "\n",
    "n_future = 12 # Number of timesteps we want to look into the future based on the past timesteps. 4 * 3hrs = 12\n",
    "n_past = 3 * time_to_day # Number of past timesteps we want to use to predict the future. 7 days x 24hrs x 4 timesteps/hr = 672\n",
    "\n",
    "#Reformat input data into a shape: (n_samples x timesteps x n_features)\n",
    "\n",
    "for i in range(n_past, len(train_scaled) - n_future +1):\n",
    "    trainX.append(trainx_prescale[i - n_past : i, 0:train_scaled.shape[1]])\n",
    "    \n",
    "    trainY.append(train_scaled[i + n_future - 1:i + n_future, 0]) #0 = Discharge\n",
    "\n",
    "trainX, trainY = np.array(trainX), np.array(trainY)\n",
    "\n",
    "\n",
    "print('trainX shape == {}.'.format(trainX.shape))\n",
    "print('trainY shape == {}.'.format(trainY.shape))"
   ]
  },
  {
   "cell_type": "markdown",
   "metadata": {},
   "source": [
    "## Model Dev"
   ]
  },
  {
   "cell_type": "code",
   "execution_count": 13,
   "metadata": {
    "collapsed": false,
    "jupyter": {
     "outputs_hidden": false
    }
   },
   "outputs": [
    {
     "name": "stdout",
     "output_type": "stream",
     "text": [
      "Model: \"sequential_5\"\n",
      "_________________________________________________________________\n",
      " Layer (type)                Output Shape              Param #   \n",
      "=================================================================\n",
      " lstm_10 (LSTM)              (None, 672, 64)           17408     \n",
      "                                                                 \n",
      " lstm_11 (LSTM)              (None, 32)                12416     \n",
      "                                                                 \n",
      " dropout_5 (Dropout)         (None, 32)                0         \n",
      "                                                                 \n",
      " dense_5 (Dense)             (None, 1)                 33        \n",
      "                                                                 \n",
      "=================================================================\n",
      "Total params: 29,857\n",
      "Trainable params: 29,857\n",
      "Non-trainable params: 0\n",
      "_________________________________________________________________\n"
     ]
    }
   ],
   "source": [
    "# Don't retrain unless necessary\n",
    "\n",
    "# Verify the shape aligns with the training data shape above!\n",
    "# If not, retrain!\n",
    "'''\n",
    "model_lstm = tf.keras.models.load_model('./saved_model/LSTM_Saved_Barataria_WL_2020_2021')\n",
    "model_lstm.summary()\n",
    "'''\n",
    "\n"
   ]
  },
  {
   "cell_type": "code",
   "execution_count": 18,
   "metadata": {
    "collapsed": false,
    "jupyter": {
     "outputs_hidden": false
    }
   },
   "outputs": [
    {
     "name": "stdout",
     "output_type": "stream",
     "text": [
      "Model: \"sequential_2\"\n",
      "_________________________________________________________________\n",
      " Layer (type)                Output Shape              Param #   \n",
      "=================================================================\n",
      " lstm_2 (LSTM)               (None, 125)               64000     \n",
      "                                                                 \n",
      " dense_2 (Dense)             (None, 1)                 126       \n",
      "                                                                 \n",
      "=================================================================\n",
      "Total params: 64,126\n",
      "Trainable params: 64,126\n",
      "Non-trainable params: 0\n",
      "_________________________________________________________________\n",
      "Epoch 1/10\n",
      "2107/2107 [==============================] - 219s 103ms/step - loss: 0.0214\n",
      "Epoch 2/10\n",
      "2107/2107 [==============================] - 215s 102ms/step - loss: 0.0130\n",
      "Epoch 3/10\n",
      "2107/2107 [==============================] - 213s 101ms/step - loss: 0.0114\n",
      "Epoch 4/10\n",
      "2107/2107 [==============================] - 213s 101ms/step - loss: 0.0106\n",
      "Epoch 5/10\n",
      "2107/2107 [==============================] - 212s 101ms/step - loss: 0.0102\n",
      "Epoch 6/10\n",
      "2107/2107 [==============================] - 215s 102ms/step - loss: 0.0099\n",
      "Epoch 7/10\n",
      "2107/2107 [==============================] - 213s 101ms/step - loss: 0.0095\n",
      "Epoch 8/10\n",
      "2107/2107 [==============================] - 214s 102ms/step - loss: 0.0093\n",
      "Epoch 9/10\n",
      "2107/2107 [==============================] - 214s 102ms/step - loss: 0.0090\n",
      "Epoch 10/10\n",
      "2107/2107 [==============================] - 226s 107ms/step - loss: 0.0088\n"
     ]
    },
    {
     "data": {
      "text/plain": [
       "<keras.callbacks.History at 0x1bd4fec6160>"
      ]
     },
     "execution_count": 18,
     "metadata": {},
     "output_type": "execute_result"
    }
   ],
   "source": [
    "\n",
    "#In my case, trainX has a shape (100301, 672, 3).\n",
    "\n",
    "#100301 because we are looking back 672 timesteps ##(12823 - 14 = 12809).\n",
    "#Remember that we cannot look back 12 timesteps until we get to the 13th timesteps.\n",
    "\n",
    "#Also, trainY has a shape (100301, 1). Our model only predicts a single value, but\n",
    "#it needs multiple variables (5 in my example) to make this prediction.\n",
    "#This is why we can only predict a single day after our training, the day after where our data ends.\n",
    "#To predict more days in future, we need all the 5 variables which we do not have.\n",
    "#We need to predict all variables if we want to do that.\n",
    "\n",
    "# define the Autoencoder model\n",
    "\n",
    "'''\n",
    "# The LSTM architecture -- Basic RNN | one layer then dense\n",
    "model_lstm = Sequential()\n",
    "model_lstm.add(LSTM(units=125, activation=\"tanh\", input_shape=(trainX.shape[1], trainX.shape[2])))\n",
    "model_lstm.add(Dense(units=1))\n",
    "# Compiling the model\n",
    "model_lstm.compile(optimizer=\"RMSprop\", loss=\"mse\")\n",
    "\n",
    "model_lstm.summary()\n",
    "\n",
    "batch_size = 16\n",
    "model_lstm.fit(trainX, trainY, epochs=10, batch_size=batch_size, verbose=1)\n",
    "'''"
   ]
  },
  {
   "cell_type": "code",
   "execution_count": 19,
   "metadata": {},
   "outputs": [
    {
     "name": "stderr",
     "output_type": "stream",
     "text": [
      "WARNING:absl:Found untraced functions such as lstm_cell_6_layer_call_fn, lstm_cell_6_layer_call_and_return_conditional_losses while saving (showing 2 of 2). These functions will not be directly callable after loading.\n"
     ]
    },
    {
     "name": "stdout",
     "output_type": "stream",
     "text": [
      "INFO:tensorflow:Assets written to: saved_model/LSTM_Saved_Barataria_WL_2020_2021\\assets\n"
     ]
    },
    {
     "name": "stderr",
     "output_type": "stream",
     "text": [
      "INFO:tensorflow:Assets written to: saved_model/LSTM_Saved_Barataria_WL_2020_2021\\assets\n"
     ]
    }
   ],
   "source": [
    "import os\n",
    "if not \"saved_model\" in os.listdir(): #If the saved model directory doesn't exist, make it    \n",
    "    !mkdir -p saved_model\n",
    "    \n",
    "model_lstm.save('saved_model/LSTM_Saved_Barataria_WL_2020_2021')\n"
   ]
  },
  {
   "cell_type": "markdown",
   "metadata": {
    "jupyter": {
     "outputs_hidden": false
    },
    "tags": []
   },
   "source": [
    "### Other models\n"
   ]
  },
  {
   "cell_type": "code",
   "execution_count": null,
   "metadata": {},
   "outputs": [],
   "source": []
  },
  {
   "cell_type": "code",
   "execution_count": null,
   "metadata": {
    "collapsed": false,
    "jupyter": {
     "outputs_hidden": false
    },
    "pycharm": {
     "is_executing": true
    }
   },
   "outputs": [
    {
     "name": "stdout",
     "output_type": "stream",
     "text": [
      "Model: \"sequential_1\"\n",
      "_________________________________________________________________\n",
      " Layer (type)                Output Shape              Param #   \n",
      "=================================================================\n",
      " lstm (LSTM)                 (None, 672, 64)           17408     \n",
      "                                                                 \n",
      " lstm_1 (LSTM)               (None, 32)                12416     \n",
      "                                                                 \n",
      " dropout (Dropout)           (None, 32)                0         \n",
      "                                                                 \n",
      " dense (Dense)               (None, 1)                 33        \n",
      "                                                                 \n",
      "=================================================================\n",
      "Total params: 29,857\n",
      "Trainable params: 29,857\n",
      "Non-trainable params: 0\n",
      "_________________________________________________________________\n"
     ]
    },
    {
     "name": "stderr",
     "output_type": "stream",
     "text": [
      "Exception ignored in: <function UniquePtr.__del__ at 0x000002664CBCB8B0>\n",
      "Traceback (most recent call last):\n",
      "  File \"C:\\Users\\perso\\anaconda3\\lib\\site-packages\\tensorflow\\python\\framework\\c_api_util.py\", line 71, in __del__\n",
      "    obj = self._obj\n",
      "KeyboardInterrupt: \n"
     ]
    },
    {
     "name": "stdout",
     "output_type": "stream",
     "text": [
      "1046/7551 [===>..........................] - ETA: 1:18:09 - loss: nan"
     ]
    }
   ],
   "source": [
    "'''\n",
    "model = Sequential()\n",
    "model.add(LSTM(64, activation='relu', input_shape=(trainX.shape[1], trainX.shape[2]), return_sequences=True))\n",
    "model.add(LSTM(32, activation='relu', return_sequences=False))\n",
    "model.add(Dropout(0.2))\n",
    "model.add(Dense(trainY.shape[1]))\n",
    "\n",
    "model.compile(optimizer='adam', loss='mse')\n",
    "model.summary()\n",
    "\n",
    "# fit the model\n",
    "history = model.fit(trainX, trainY, epochs=1, batch_size=16, validation_split=0.1, verbose=1)\n",
    "'''\n",
    "\"\"\" plt.plot(history.history['loss'], label='Training loss')\n",
    "plt.plot(history.history['val_loss'], label='Validation loss')\n",
    "plt.legend()\"\"\"\n",
    "'''\n",
    "#Save the entire model as a SavedModel.\n",
    "!mkdir -p saved_model\n",
    "model.save('saved_model/LSTM_Saved_Mikey_1')\n",
    "#'''\n",
    "## Predictions"
   ]
  },
  {
   "cell_type": "code",
   "execution_count": 13,
   "metadata": {
    "collapsed": false,
    "jupyter": {
     "outputs_hidden": false
    }
   },
   "outputs": [],
   "source": []
  },
  {
   "cell_type": "markdown",
   "metadata": {},
   "source": [
    "### Transform the test data"
   ]
  },
  {
   "cell_type": "code",
   "execution_count": 24,
   "metadata": {},
   "outputs": [
    {
     "name": "stdout",
     "output_type": "stream",
     "text": [
      "Model: \"sequential_2\"\n",
      "_________________________________________________________________\n",
      " Layer (type)                Output Shape              Param #   \n",
      "=================================================================\n",
      " lstm_2 (LSTM)               (None, 125)               64000     \n",
      "                                                                 \n",
      " dense_2 (Dense)             (None, 1)                 126       \n",
      "                                                                 \n",
      "=================================================================\n",
      "Total params: 64,126\n",
      "Trainable params: 64,126\n",
      "Non-trainable params: 0\n",
      "_________________________________________________________________\n"
     ]
    }
   ],
   "source": [
    "model_lstm.summary()"
   ]
  },
  {
   "cell_type": "code",
   "execution_count": 29,
   "metadata": {},
   "outputs": [],
   "source": [
    "testX = []\n",
    "testY = []\n",
    "\n",
    "n_future = 12 # Number of timesteps we want to look into the future based on the past timesteps. 4 * 3hrs = 12\n",
    "n_past = 3 * time_to_day\n",
    "\n",
    "scaler2 = StandardScaler()\n",
    "scaler2 = scaler2.fit(test)\n",
    "test_scaled = scaler2.transform(test)"
   ]
  },
  {
   "cell_type": "code",
   "execution_count": 30,
   "metadata": {
    "collapsed": false,
    "jupyter": {
     "outputs_hidden": false
    }
   },
   "outputs": [],
   "source": [
    "for i in range(n_past, len(test_scaled) - n_future +1):\n",
    "    testX.append(test_scaled[i - n_past:i, 1 : test_scaled.shape[1]]) # Start at [1]: (excludes discharge)\n",
    "    testY.append(test_scaled[i + n_future - 1 : i + n_future, 0]) # 0 = Discharge\n",
    "\n",
    "testX, testY = np.array(testX), np.array(testY)"
   ]
  },
  {
   "cell_type": "code",
   "execution_count": 31,
   "metadata": {},
   "outputs": [
    {
     "data": {
      "text/plain": [
       "(33726, 288, 2)"
      ]
     },
     "execution_count": 31,
     "metadata": {},
     "output_type": "execute_result"
    }
   ],
   "source": [
    "testX.shape # (Only velocity and WL)"
   ]
  },
  {
   "cell_type": "code",
   "execution_count": 32,
   "metadata": {
    "collapsed": false,
    "jupyter": {
     "outputs_hidden": false
    }
   },
   "outputs": [
    {
     "name": "stdout",
     "output_type": "stream",
     "text": [
      "1054/1054 [==============================] - 47s 45ms/step\n"
     ]
    }
   ],
   "source": [
    "#Make prediction\n",
    "# Will only use the last 7 days of the training data to predict X number of days into the testing data\n",
    "prediction = model_lstm.predict(testX, verbose = 1)"
   ]
  },
  {
   "cell_type": "code",
   "execution_count": 33,
   "metadata": {
    "collapsed": false,
    "jupyter": {
     "outputs_hidden": false
    }
   },
   "outputs": [
    {
     "data": {
      "text/html": [
       "<div>\n",
       "<style scoped>\n",
       "    .dataframe tbody tr th:only-of-type {\n",
       "        vertical-align: middle;\n",
       "    }\n",
       "\n",
       "    .dataframe tbody tr th {\n",
       "        vertical-align: top;\n",
       "    }\n",
       "\n",
       "    .dataframe thead th {\n",
       "        text-align: right;\n",
       "    }\n",
       "</style>\n",
       "<table border=\"1\" class=\"dataframe\">\n",
       "  <thead>\n",
       "    <tr style=\"text-align: right;\">\n",
       "      <th></th>\n",
       "      <th>Discharge</th>\n",
       "      <th>Gage Height</th>\n",
       "      <th>Velocity</th>\n",
       "      <th>Predicted Discharge</th>\n",
       "    </tr>\n",
       "    <tr>\n",
       "      <th>datetime</th>\n",
       "      <th></th>\n",
       "      <th></th>\n",
       "      <th></th>\n",
       "      <th></th>\n",
       "    </tr>\n",
       "  </thead>\n",
       "  <tbody>\n",
       "    <tr>\n",
       "      <th>2021-01-01 00:00:00-06:00</th>\n",
       "      <td>6430.0</td>\n",
       "      <td>14.79</td>\n",
       "      <td>0.87</td>\n",
       "      <td>8870.737305</td>\n",
       "    </tr>\n",
       "    <tr>\n",
       "      <th>2021-01-01 00:15:00-06:00</th>\n",
       "      <td>6350.0</td>\n",
       "      <td>14.78</td>\n",
       "      <td>0.86</td>\n",
       "      <td>8966.583984</td>\n",
       "    </tr>\n",
       "    <tr>\n",
       "      <th>2021-01-01 00:30:00-06:00</th>\n",
       "      <td>6350.0</td>\n",
       "      <td>14.78</td>\n",
       "      <td>0.86</td>\n",
       "      <td>8996.984375</td>\n",
       "    </tr>\n",
       "    <tr>\n",
       "      <th>2021-01-01 00:45:00-06:00</th>\n",
       "      <td>6150.0</td>\n",
       "      <td>14.80</td>\n",
       "      <td>0.83</td>\n",
       "      <td>9032.520508</td>\n",
       "    </tr>\n",
       "    <tr>\n",
       "      <th>2021-01-01 01:00:00-06:00</th>\n",
       "      <td>6360.0</td>\n",
       "      <td>14.79</td>\n",
       "      <td>0.86</td>\n",
       "      <td>9047.590820</td>\n",
       "    </tr>\n",
       "    <tr>\n",
       "      <th>...</th>\n",
       "      <td>...</td>\n",
       "      <td>...</td>\n",
       "      <td>...</td>\n",
       "      <td>...</td>\n",
       "    </tr>\n",
       "    <tr>\n",
       "      <th>2021-12-28 16:00:00-06:00</th>\n",
       "      <td>11600.0</td>\n",
       "      <td>15.15</td>\n",
       "      <td>1.55</td>\n",
       "      <td>15081.366211</td>\n",
       "    </tr>\n",
       "    <tr>\n",
       "      <th>2021-12-28 16:15:00-06:00</th>\n",
       "      <td>9610.0</td>\n",
       "      <td>15.20</td>\n",
       "      <td>1.27</td>\n",
       "      <td>14901.342773</td>\n",
       "    </tr>\n",
       "    <tr>\n",
       "      <th>2021-12-28 16:30:00-06:00</th>\n",
       "      <td>10000.0</td>\n",
       "      <td>15.18</td>\n",
       "      <td>1.33</td>\n",
       "      <td>14893.982422</td>\n",
       "    </tr>\n",
       "    <tr>\n",
       "      <th>2021-12-28 16:45:00-06:00</th>\n",
       "      <td>9890.0</td>\n",
       "      <td>15.18</td>\n",
       "      <td>1.31</td>\n",
       "      <td>14636.166016</td>\n",
       "    </tr>\n",
       "    <tr>\n",
       "      <th>2021-12-28 17:00:00-06:00</th>\n",
       "      <td>10900.0</td>\n",
       "      <td>15.20</td>\n",
       "      <td>1.45</td>\n",
       "      <td>14629.306641</td>\n",
       "    </tr>\n",
       "  </tbody>\n",
       "</table>\n",
       "<p>33726 rows × 4 columns</p>\n",
       "</div>"
      ],
      "text/plain": [
       "                           Discharge  Gage Height  Velocity  \\\n",
       "datetime                                                      \n",
       "2021-01-01 00:00:00-06:00     6430.0        14.79      0.87   \n",
       "2021-01-01 00:15:00-06:00     6350.0        14.78      0.86   \n",
       "2021-01-01 00:30:00-06:00     6350.0        14.78      0.86   \n",
       "2021-01-01 00:45:00-06:00     6150.0        14.80      0.83   \n",
       "2021-01-01 01:00:00-06:00     6360.0        14.79      0.86   \n",
       "...                              ...          ...       ...   \n",
       "2021-12-28 16:00:00-06:00    11600.0        15.15      1.55   \n",
       "2021-12-28 16:15:00-06:00     9610.0        15.20      1.27   \n",
       "2021-12-28 16:30:00-06:00    10000.0        15.18      1.33   \n",
       "2021-12-28 16:45:00-06:00     9890.0        15.18      1.31   \n",
       "2021-12-28 17:00:00-06:00    10900.0        15.20      1.45   \n",
       "\n",
       "                           Predicted Discharge  \n",
       "datetime                                        \n",
       "2021-01-01 00:00:00-06:00          8870.737305  \n",
       "2021-01-01 00:15:00-06:00          8966.583984  \n",
       "2021-01-01 00:30:00-06:00          8996.984375  \n",
       "2021-01-01 00:45:00-06:00          9032.520508  \n",
       "2021-01-01 01:00:00-06:00          9047.590820  \n",
       "...                                        ...  \n",
       "2021-12-28 16:00:00-06:00         15081.366211  \n",
       "2021-12-28 16:15:00-06:00         14901.342773  \n",
       "2021-12-28 16:30:00-06:00         14893.982422  \n",
       "2021-12-28 16:45:00-06:00         14636.166016  \n",
       "2021-12-28 17:00:00-06:00         14629.306641  \n",
       "\n",
       "[33726 rows x 4 columns]"
      ]
     },
     "execution_count": 33,
     "metadata": {},
     "output_type": "execute_result"
    }
   ],
   "source": [
    "\n",
    "#Perform inverse transformation to rescale back to original range\n",
    "#Since we used 5 variables for transform, the inverse expects same dimensions\n",
    "#Therefore, let us copy our values 5 times and discard them after inverse transform\n",
    "\n",
    "\n",
    "prediction_copies = np.repeat(prediction, test.shape[1], axis=-1)\n",
    "y_pred = scaler2.inverse_transform(prediction_copies)[:, 0]  # Location of Discharge in columns\n",
    "\n",
    "test_predicts = test[:-n_past -11].copy()\n",
    "test_predicts[\"Predicted Discharge\"] = y_pred\n",
    "test_predicts.rename(columns= {-1 : \"Predicted Discharge\"})\n",
    "#test_predicts = test_predicts.drop(\"Dis\", axis=1)"
   ]
  },
  {
   "cell_type": "code",
   "execution_count": 41,
   "metadata": {
    "collapsed": false,
    "jupyter": {
     "outputs_hidden": false
    }
   },
   "outputs": [
    {
     "data": {
      "text/plain": [
       "<matplotlib.legend.Legend at 0x1bd4a804790>"
      ]
     },
     "execution_count": 41,
     "metadata": {},
     "output_type": "execute_result"
    },
    {
     "data": {
      "image/png": "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\n",
      "text/plain": [
       "<Figure size 640x480 with 1 Axes>"
      ]
     },
     "metadata": {},
     "output_type": "display_data"
    }
   ],
   "source": [
    "\n",
    "import seaborn as sns\n",
    "tstart = '2021-06-15'\n",
    "tend = '2021-07-20'\n",
    "\n",
    "sns.lineplot(test['Discharge'][tstart : tend], errorbar= None)\n",
    "sns.lineplot(test_predicts[\"Predicted Discharge\"][tstart : tend].shift(n_past), errorbar= None)\n",
    "# shifting 7 to overlay due to inherent shifting from original formatting of the data.\n",
    "\n",
    "\n",
    "plt.legend(labels=[\"Actual Discharge\",\"Predicted Discharge\"])\n"
   ]
  },
  {
   "cell_type": "code",
   "execution_count": 35,
   "metadata": {
    "collapsed": false,
    "jupyter": {
     "outputs_hidden": false
    }
   },
   "outputs": [
    {
     "data": {
      "text/plain": [
       "<Axes: xlabel='datetime', ylabel='Discharge'>"
      ]
     },
     "execution_count": 35,
     "metadata": {},
     "output_type": "execute_result"
    },
    {
     "data": {
      "image/png": "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\n",
      "text/plain": [
       "<Figure size 640x480 with 1 Axes>"
      ]
     },
     "metadata": {},
     "output_type": "display_data"
    }
   ],
   "source": [
    "\n",
    "sns.lineplot(test['Discharge'], errorbar= None)\n",
    "sns.lineplot(test_predicts[\"Predicted Discharge\"].shift(n_past), errorbar= None)\n",
    "# shifting 7 to overlay due to inherent shifting from original formatting of the data.\n"
   ]
  },
  {
   "cell_type": "code",
   "execution_count": 36,
   "metadata": {
    "collapsed": false,
    "jupyter": {
     "outputs_hidden": false
    }
   },
   "outputs": [
    {
     "data": {
      "text/html": [
       "<div>\n",
       "<style scoped>\n",
       "    .dataframe tbody tr th:only-of-type {\n",
       "        vertical-align: middle;\n",
       "    }\n",
       "\n",
       "    .dataframe tbody tr th {\n",
       "        vertical-align: top;\n",
       "    }\n",
       "\n",
       "    .dataframe thead th {\n",
       "        text-align: right;\n",
       "    }\n",
       "</style>\n",
       "<table border=\"1\" class=\"dataframe\">\n",
       "  <thead>\n",
       "    <tr style=\"text-align: right;\">\n",
       "      <th></th>\n",
       "      <th>Discharge</th>\n",
       "      <th>Gage Height</th>\n",
       "      <th>Velocity</th>\n",
       "      <th>Predicted Discharge</th>\n",
       "    </tr>\n",
       "    <tr>\n",
       "      <th>datetime</th>\n",
       "      <th></th>\n",
       "      <th></th>\n",
       "      <th></th>\n",
       "      <th></th>\n",
       "    </tr>\n",
       "  </thead>\n",
       "  <tbody>\n",
       "    <tr>\n",
       "      <th>2021-01-01 00:00:00-06:00</th>\n",
       "      <td>6430.0</td>\n",
       "      <td>14.79</td>\n",
       "      <td>0.87</td>\n",
       "      <td>8870.737305</td>\n",
       "    </tr>\n",
       "    <tr>\n",
       "      <th>2021-01-01 00:15:00-06:00</th>\n",
       "      <td>6350.0</td>\n",
       "      <td>14.78</td>\n",
       "      <td>0.86</td>\n",
       "      <td>8966.583984</td>\n",
       "    </tr>\n",
       "    <tr>\n",
       "      <th>2021-01-01 00:30:00-06:00</th>\n",
       "      <td>6350.0</td>\n",
       "      <td>14.78</td>\n",
       "      <td>0.86</td>\n",
       "      <td>8996.984375</td>\n",
       "    </tr>\n",
       "    <tr>\n",
       "      <th>2021-01-01 00:45:00-06:00</th>\n",
       "      <td>6150.0</td>\n",
       "      <td>14.80</td>\n",
       "      <td>0.83</td>\n",
       "      <td>9032.520508</td>\n",
       "    </tr>\n",
       "    <tr>\n",
       "      <th>2021-01-01 01:00:00-06:00</th>\n",
       "      <td>6360.0</td>\n",
       "      <td>14.79</td>\n",
       "      <td>0.86</td>\n",
       "      <td>9047.590820</td>\n",
       "    </tr>\n",
       "    <tr>\n",
       "      <th>...</th>\n",
       "      <td>...</td>\n",
       "      <td>...</td>\n",
       "      <td>...</td>\n",
       "      <td>...</td>\n",
       "    </tr>\n",
       "    <tr>\n",
       "      <th>2021-12-28 16:00:00-06:00</th>\n",
       "      <td>11600.0</td>\n",
       "      <td>15.15</td>\n",
       "      <td>1.55</td>\n",
       "      <td>15081.366211</td>\n",
       "    </tr>\n",
       "    <tr>\n",
       "      <th>2021-12-28 16:15:00-06:00</th>\n",
       "      <td>9610.0</td>\n",
       "      <td>15.20</td>\n",
       "      <td>1.27</td>\n",
       "      <td>14901.342773</td>\n",
       "    </tr>\n",
       "    <tr>\n",
       "      <th>2021-12-28 16:30:00-06:00</th>\n",
       "      <td>10000.0</td>\n",
       "      <td>15.18</td>\n",
       "      <td>1.33</td>\n",
       "      <td>14893.982422</td>\n",
       "    </tr>\n",
       "    <tr>\n",
       "      <th>2021-12-28 16:45:00-06:00</th>\n",
       "      <td>9890.0</td>\n",
       "      <td>15.18</td>\n",
       "      <td>1.31</td>\n",
       "      <td>14636.166016</td>\n",
       "    </tr>\n",
       "    <tr>\n",
       "      <th>2021-12-28 17:00:00-06:00</th>\n",
       "      <td>10900.0</td>\n",
       "      <td>15.20</td>\n",
       "      <td>1.45</td>\n",
       "      <td>14629.306641</td>\n",
       "    </tr>\n",
       "  </tbody>\n",
       "</table>\n",
       "<p>33726 rows × 4 columns</p>\n",
       "</div>"
      ],
      "text/plain": [
       "                           Discharge  Gage Height  Velocity  \\\n",
       "datetime                                                      \n",
       "2021-01-01 00:00:00-06:00     6430.0        14.79      0.87   \n",
       "2021-01-01 00:15:00-06:00     6350.0        14.78      0.86   \n",
       "2021-01-01 00:30:00-06:00     6350.0        14.78      0.86   \n",
       "2021-01-01 00:45:00-06:00     6150.0        14.80      0.83   \n",
       "2021-01-01 01:00:00-06:00     6360.0        14.79      0.86   \n",
       "...                              ...          ...       ...   \n",
       "2021-12-28 16:00:00-06:00    11600.0        15.15      1.55   \n",
       "2021-12-28 16:15:00-06:00     9610.0        15.20      1.27   \n",
       "2021-12-28 16:30:00-06:00    10000.0        15.18      1.33   \n",
       "2021-12-28 16:45:00-06:00     9890.0        15.18      1.31   \n",
       "2021-12-28 17:00:00-06:00    10900.0        15.20      1.45   \n",
       "\n",
       "                           Predicted Discharge  \n",
       "datetime                                        \n",
       "2021-01-01 00:00:00-06:00          8870.737305  \n",
       "2021-01-01 00:15:00-06:00          8966.583984  \n",
       "2021-01-01 00:30:00-06:00          8996.984375  \n",
       "2021-01-01 00:45:00-06:00          9032.520508  \n",
       "2021-01-01 01:00:00-06:00          9047.590820  \n",
       "...                                        ...  \n",
       "2021-12-28 16:00:00-06:00         15081.366211  \n",
       "2021-12-28 16:15:00-06:00         14901.342773  \n",
       "2021-12-28 16:30:00-06:00         14893.982422  \n",
       "2021-12-28 16:45:00-06:00         14636.166016  \n",
       "2021-12-28 17:00:00-06:00         14629.306641  \n",
       "\n",
       "[33726 rows x 4 columns]"
      ]
     },
     "execution_count": 36,
     "metadata": {},
     "output_type": "execute_result"
    }
   ],
   "source": [
    "test_predicts"
   ]
  },
  {
   "cell_type": "code",
   "execution_count": 37,
   "metadata": {
    "collapsed": false,
    "jupyter": {
     "outputs_hidden": false
    }
   },
   "outputs": [],
   "source": [
    "from sklearn.metrics import mean_squared_error, r2_score, mean_squared_log_error\n"
   ]
  },
  {
   "cell_type": "code",
   "execution_count": 38,
   "metadata": {
    "collapsed": false,
    "jupyter": {
     "outputs_hidden": false
    }
   },
   "outputs": [
    {
     "data": {
      "text/plain": [
       "0.19530253592387936"
      ]
     },
     "execution_count": 38,
     "metadata": {},
     "output_type": "execute_result"
    }
   ],
   "source": [
    "mean_squared_log_error(test['Discharge'][:-n_past-11], test_predicts[\"Predicted Discharge\"])\n"
   ]
  },
  {
   "cell_type": "code",
   "execution_count": 39,
   "metadata": {
    "collapsed": false,
    "jupyter": {
     "outputs_hidden": false
    }
   },
   "outputs": [
    {
     "data": {
      "text/plain": [
       "45501050.54324499"
      ]
     },
     "execution_count": 39,
     "metadata": {},
     "output_type": "execute_result"
    }
   ],
   "source": [
    "mean_squared_error(test['Discharge'][:-n_past-11], test_predicts[\"Predicted Discharge\"])\n"
   ]
  },
  {
   "cell_type": "code",
   "execution_count": 40,
   "metadata": {
    "collapsed": false,
    "jupyter": {
     "outputs_hidden": false
    }
   },
   "outputs": [
    {
     "data": {
      "text/plain": [
       "0.5715767395492048"
      ]
     },
     "execution_count": 40,
     "metadata": {},
     "output_type": "execute_result"
    }
   ],
   "source": [
    "r2_score(test['Discharge'][:-n_past-11], test_predicts[\"Predicted Discharge\"])\n"
   ]
  },
  {
   "cell_type": "markdown",
   "metadata": {},
   "source": [
    "## Future Predictions\n"
   ]
  },
  {
   "cell_type": "code",
   "execution_count": 110,
   "metadata": {
    "collapsed": false,
    "jupyter": {
     "outputs_hidden": false
    }
   },
   "outputs": [
    {
     "name": "stdout",
     "output_type": "stream",
     "text": [
      "1/1 [==============================] - 0s 56ms/step\n"
     ]
    }
   ],
   "source": [
    "# Run test\n",
    "# Prediction\n",
    "#pred_WL = model_lstm.predict(testX)\n",
    "n_future_pred = 3 * time_to_hr\n",
    "overlap = 1\n",
    "pred_dis = model_lstm.predict(testX[-n_future_pred - overlap:])\n",
    "\n",
    "\n",
    "pred_dis = np.repeat(pred_dis, test.shape[1], axis=-1)\n",
    "future_dis = scaler2.inverse_transform(pred_dis)[:, 0]  # Location of Discharge in columns\n"
   ]
  },
  {
   "cell_type": "code",
   "execution_count": 111,
   "metadata": {
    "collapsed": false,
    "jupyter": {
     "outputs_hidden": false
    }
   },
   "outputs": [
    {
     "data": {
      "text/plain": [
       "array([Timestamp('2021-12-31 23:45:00-0600', tz='pytz.FixedOffset(-360)', freq='15T'),\n",
       "       Timestamp('2022-01-01 00:00:00-0600', tz='pytz.FixedOffset(-360)', freq='15T'),\n",
       "       Timestamp('2022-01-01 00:15:00-0600', tz='pytz.FixedOffset(-360)', freq='15T'),\n",
       "       Timestamp('2022-01-01 00:30:00-0600', tz='pytz.FixedOffset(-360)', freq='15T'),\n",
       "       Timestamp('2022-01-01 00:45:00-0600', tz='pytz.FixedOffset(-360)', freq='15T'),\n",
       "       Timestamp('2022-01-01 01:00:00-0600', tz='pytz.FixedOffset(-360)', freq='15T'),\n",
       "       Timestamp('2022-01-01 01:15:00-0600', tz='pytz.FixedOffset(-360)', freq='15T'),\n",
       "       Timestamp('2022-01-01 01:30:00-0600', tz='pytz.FixedOffset(-360)', freq='15T'),\n",
       "       Timestamp('2022-01-01 01:45:00-0600', tz='pytz.FixedOffset(-360)', freq='15T'),\n",
       "       Timestamp('2022-01-01 02:00:00-0600', tz='pytz.FixedOffset(-360)', freq='15T'),\n",
       "       Timestamp('2022-01-01 02:15:00-0600', tz='pytz.FixedOffset(-360)', freq='15T'),\n",
       "       Timestamp('2022-01-01 02:30:00-0600', tz='pytz.FixedOffset(-360)', freq='15T'),\n",
       "       Timestamp('2022-01-01 02:45:00-0600', tz='pytz.FixedOffset(-360)', freq='15T')],\n",
       "      dtype=object)"
      ]
     },
     "execution_count": 111,
     "metadata": {},
     "output_type": "execute_result"
    }
   ],
   "source": [
    "predict_period_dates = pd.date_range(list(test.index)[-(overlap)],periods=n_future_pred + overlap, freq='15min').to_numpy()\n",
    "predict_period_dates"
   ]
  },
  {
   "cell_type": "code",
   "execution_count": 112,
   "metadata": {
    "collapsed": false,
    "jupyter": {
     "outputs_hidden": false
    }
   },
   "outputs": [
    {
     "data": {
      "text/plain": [
       "(13,)"
      ]
     },
     "execution_count": 112,
     "metadata": {},
     "output_type": "execute_result"
    }
   ],
   "source": [
    "predict_period_dates.shape"
   ]
  },
  {
   "cell_type": "code",
   "execution_count": 113,
   "metadata": {
    "collapsed": false,
    "jupyter": {
     "outputs_hidden": false
    }
   },
   "outputs": [],
   "source": [
    "future_dis = np.reshape(future_dis, (len(future_dis),))"
   ]
  },
  {
   "cell_type": "code",
   "execution_count": 115,
   "metadata": {
    "collapsed": false,
    "jupyter": {
     "outputs_hidden": false
    }
   },
   "outputs": [],
   "source": [
    "'''\n",
    "# Convert timestamp to date\n",
    "forecast_dates = []\n",
    "for time_i in predict_period_dates:\n",
    "    forecast_dates.append(time_i.date())\n",
    "len(y_pred_future)\n",
    "'''\n",
    "df_forecast = pd.DataFrame({'Date': pd.to_datetime(predict_period_dates),\n",
    "                            'Discharge':future_dis})"
   ]
  },
  {
   "cell_type": "code",
   "execution_count": 116,
   "metadata": {
    "collapsed": false,
    "jupyter": {
     "outputs_hidden": false
    }
   },
   "outputs": [],
   "source": [
    "df_forecast.set_index('Date', inplace= True)"
   ]
  },
  {
   "cell_type": "code",
   "execution_count": 117,
   "metadata": {
    "collapsed": false,
    "jupyter": {
     "outputs_hidden": false
    }
   },
   "outputs": [],
   "source": [
    "original = df[['Discharge']]\n",
    "original = original.loc['2021-12-25': '2022']"
   ]
  },
  {
   "cell_type": "code",
   "execution_count": 118,
   "metadata": {},
   "outputs": [],
   "source": [
    "joint_df = pd.concat([original, df_forecast])"
   ]
  },
  {
   "cell_type": "code",
   "execution_count": null,
   "metadata": {},
   "outputs": [],
   "source": []
  },
  {
   "cell_type": "code",
   "execution_count": 136,
   "metadata": {},
   "outputs": [
    {
     "name": "stdout",
     "output_type": "stream",
     "text": [
      "                           Discharge\n",
      "datetime                            \n",
      "2021-12-31 23:45:00-06:00    16800.0\n"
     ]
    },
    {
     "data": {
      "image/png": "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\n",
      "text/plain": [
       "<Figure size 640x480 with 1 Axes>"
      ]
     },
     "metadata": {},
     "output_type": "display_data"
    }
   ],
   "source": [
    "sns.lineplot(original[-15:], errorbar= None)\n",
    "print(original[-1:])"
   ]
  },
  {
   "cell_type": "code",
   "execution_count": 139,
   "metadata": {
    "collapsed": false,
    "jupyter": {
     "outputs_hidden": false
    }
   },
   "outputs": [
    {
     "data": {
      "text/html": [
       "<div>\n",
       "<style scoped>\n",
       "    .dataframe tbody tr th:only-of-type {\n",
       "        vertical-align: middle;\n",
       "    }\n",
       "\n",
       "    .dataframe tbody tr th {\n",
       "        vertical-align: top;\n",
       "    }\n",
       "\n",
       "    .dataframe thead th {\n",
       "        text-align: right;\n",
       "    }\n",
       "</style>\n",
       "<table border=\"1\" class=\"dataframe\">\n",
       "  <thead>\n",
       "    <tr style=\"text-align: right;\">\n",
       "      <th></th>\n",
       "      <th>Discharge</th>\n",
       "    </tr>\n",
       "    <tr>\n",
       "      <th>Date</th>\n",
       "      <th></th>\n",
       "    </tr>\n",
       "  </thead>\n",
       "  <tbody>\n",
       "    <tr>\n",
       "      <th>2021-12-31 23:45:00-06:00</th>\n",
       "      <td>15411.088867</td>\n",
       "    </tr>\n",
       "  </tbody>\n",
       "</table>\n",
       "</div>"
      ],
      "text/plain": [
       "                              Discharge\n",
       "Date                                   \n",
       "2021-12-31 23:45:00-06:00  15411.088867"
      ]
     },
     "execution_count": 139,
     "metadata": {},
     "output_type": "execute_result"
    },
    {
     "data": {
      "image/png": "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\n",
      "text/plain": [
       "<Figure size 640x480 with 1 Axes>"
      ]
     },
     "metadata": {},
     "output_type": "display_data"
    }
   ],
   "source": [
    "sns.lineplot(df_forecast, x= \"Date\", y= \"Discharge\", errorbar= None)\n",
    "df_forecast[:1]"
   ]
  },
  {
   "cell_type": "code",
   "execution_count": 93,
   "metadata": {
    "collapsed": false,
    "jupyter": {
     "outputs_hidden": false
    }
   },
   "outputs": [
    {
     "data": {
      "text/html": [
       "<div>\n",
       "<style scoped>\n",
       "    .dataframe tbody tr th:only-of-type {\n",
       "        vertical-align: middle;\n",
       "    }\n",
       "\n",
       "    .dataframe tbody tr th {\n",
       "        vertical-align: top;\n",
       "    }\n",
       "\n",
       "    .dataframe thead th {\n",
       "        text-align: right;\n",
       "    }\n",
       "</style>\n",
       "<table border=\"1\" class=\"dataframe\">\n",
       "  <thead>\n",
       "    <tr style=\"text-align: right;\">\n",
       "      <th></th>\n",
       "      <th>Gage Height</th>\n",
       "    </tr>\n",
       "    <tr>\n",
       "      <th>Date</th>\n",
       "      <th></th>\n",
       "    </tr>\n",
       "  </thead>\n",
       "  <tbody>\n",
       "    <tr>\n",
       "      <th>2022-12-01 00:00:00-06:00</th>\n",
       "      <td>0.959061</td>\n",
       "    </tr>\n",
       "    <tr>\n",
       "      <th>2022-12-01 00:15:00-06:00</th>\n",
       "      <td>0.948979</td>\n",
       "    </tr>\n",
       "    <tr>\n",
       "      <th>2022-12-01 00:30:00-06:00</th>\n",
       "      <td>0.939894</td>\n",
       "    </tr>\n",
       "    <tr>\n",
       "      <th>2022-12-01 00:45:00-06:00</th>\n",
       "      <td>0.954180</td>\n",
       "    </tr>\n",
       "    <tr>\n",
       "      <th>2022-12-01 01:00:00-06:00</th>\n",
       "      <td>0.956698</td>\n",
       "    </tr>\n",
       "    <tr>\n",
       "      <th>2022-12-01 01:15:00-06:00</th>\n",
       "      <td>0.951986</td>\n",
       "    </tr>\n",
       "    <tr>\n",
       "      <th>2022-12-01 01:30:00-06:00</th>\n",
       "      <td>0.951351</td>\n",
       "    </tr>\n",
       "    <tr>\n",
       "      <th>2022-12-01 01:45:00-06:00</th>\n",
       "      <td>0.944818</td>\n",
       "    </tr>\n",
       "    <tr>\n",
       "      <th>2022-12-01 02:00:00-06:00</th>\n",
       "      <td>0.943667</td>\n",
       "    </tr>\n",
       "    <tr>\n",
       "      <th>2022-12-01 02:15:00-06:00</th>\n",
       "      <td>0.950522</td>\n",
       "    </tr>\n",
       "    <tr>\n",
       "      <th>2022-12-01 02:30:00-06:00</th>\n",
       "      <td>0.939742</td>\n",
       "    </tr>\n",
       "    <tr>\n",
       "      <th>2022-12-01 02:45:00-06:00</th>\n",
       "      <td>0.935389</td>\n",
       "    </tr>\n",
       "    <tr>\n",
       "      <th>2022-12-01 03:00:00-06:00</th>\n",
       "      <td>0.938183</td>\n",
       "    </tr>\n",
       "  </tbody>\n",
       "</table>\n",
       "</div>"
      ],
      "text/plain": [
       "                           Gage Height\n",
       "Date                                  \n",
       "2022-12-01 00:00:00-06:00     0.959061\n",
       "2022-12-01 00:15:00-06:00     0.948979\n",
       "2022-12-01 00:30:00-06:00     0.939894\n",
       "2022-12-01 00:45:00-06:00     0.954180\n",
       "2022-12-01 01:00:00-06:00     0.956698\n",
       "2022-12-01 01:15:00-06:00     0.951986\n",
       "2022-12-01 01:30:00-06:00     0.951351\n",
       "2022-12-01 01:45:00-06:00     0.944818\n",
       "2022-12-01 02:00:00-06:00     0.943667\n",
       "2022-12-01 02:15:00-06:00     0.950522\n",
       "2022-12-01 02:30:00-06:00     0.939742\n",
       "2022-12-01 02:45:00-06:00     0.935389\n",
       "2022-12-01 03:00:00-06:00     0.938183"
      ]
     },
     "execution_count": 93,
     "metadata": {},
     "output_type": "execute_result"
    }
   ],
   "source": []
  },
  {
   "cell_type": "code",
   "execution_count": null,
   "metadata": {
    "collapsed": false,
    "jupyter": {
     "outputs_hidden": false
    }
   },
   "outputs": [],
   "source": [
    "\n",
    "# Convert timestamp to date\n",
    "forecast_dates = []\n",
    "for time_i in predict_period_dates:\n",
    "    forecast_dates.append(time_i.date())\n",
    "\n",
    "df_forecast = pd.DataFrame({'Date':np.array(forecast_dates), 'Open':y_pred_future})\n",
    "df_forecast['Date']=pd.to_datetime(df_forecast['Date'])\n",
    "\n",
    "\n",
    "original = df[['Date', 'Open']]\n",
    "original['Date']=pd.to_datetime(original['Date'])\n",
    "original = original.loc[original['Date'] >= '2020-5-1']\n",
    "\n",
    "sns.lineplot(original['Date'], original['Open'])\n",
    "sns.lineplot(df_forecast['Date'], df_forecast['Open'])\n"
   ]
  },
  {
   "cell_type": "code",
   "execution_count": null,
   "metadata": {
    "collapsed": false,
    "jupyter": {
     "outputs_hidden": false
    }
   },
   "outputs": [],
   "source": []
  }
 ],
 "metadata": {
  "kernelspec": {
   "display_name": "Python 3 (ipykernel)",
   "language": "python",
   "name": "python3"
  },
  "language_info": {
   "codemirror_mode": {
    "name": "ipython",
    "version": 3
   },
   "file_extension": ".py",
   "mimetype": "text/x-python",
   "name": "python",
   "nbconvert_exporter": "python",
   "pygments_lexer": "ipython3",
   "version": "3.9.16"
  }
 },
 "nbformat": 4,
 "nbformat_minor": 4
}