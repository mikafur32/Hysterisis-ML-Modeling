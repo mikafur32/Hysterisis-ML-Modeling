{
 "cells": [
  {
   "cell_type": "code",
   "execution_count": null,
   "metadata": {
    "collapsed": true
   },
   "outputs": [],
   "source": []
  },
  {
   "cell_type": "code",
   "execution_count": 3,
   "outputs": [],
   "source": [
    "\n",
    "import numpy as np\n",
    "import tensorflow as tf\n",
    "from keras.models import Sequential\n",
    "from keras.layers import LSTM\n",
    "from keras.layers import Dense, Dropout\n",
    "import pandas as pd\n",
    "from matplotlib import pyplot as plt\n",
    "from sklearn.preprocessing import StandardScaler\n",
    "import seaborn as sns"
   ],
   "metadata": {
    "collapsed": false
   }
  },
  {
   "cell_type": "markdown",
   "source": [
    "## Read in and EDA"
   ],
   "metadata": {
    "collapsed": false
   }
  },
  {
   "cell_type": "code",
   "execution_count": 4,
   "outputs": [
    {
     "name": "stdout",
     "output_type": "stream",
     "text": [
      "                           Discharge  Gage Height  Velocity\n",
      "datetime                                                   \n",
      "2017-01-01 00:00:00-06:00    20400.0        16.95      2.45\n",
      "2017-01-01 00:15:00-06:00    19800.0        16.96      2.37\n",
      "2017-01-01 00:30:00-06:00    20900.0        16.98      2.51\n",
      "2017-01-01 00:45:00-06:00    19300.0        16.95      2.32\n",
      "2017-01-01 01:00:00-06:00    20700.0        16.98      2.49\n"
     ]
    },
    {
     "name": "stderr",
     "output_type": "stream",
     "text": [
      "C:\\Users\\perso\\AppData\\Local\\Temp\\ipykernel_8420\\3248726592.py:2: DtypeWarning: Columns (2,5,11,13,15,17,19,21,23,25) have mixed types. Specify dtype option on import or set low_memory=False.\n",
      "  df = pd.read_csv('henry_csv_17-23.csv')#, infer_datetime_format= True)\n"
     ]
    }
   ],
   "source": [
    "\n",
    "#Read the csv file\n",
    "df = pd.read_csv('henry_csv_17-23.csv')#, infer_datetime_format= True)\n",
    "renames = {'00065': 'Gage Height', '00060': 'Discharge', '72254': 'Velocity'}\n",
    "df = df.rename(columns = renames)\n",
    "\n",
    "df = df[['datetime', 'Discharge', 'Gage Height', 'Velocity']]\n",
    "df = df.set_index('datetime')\n",
    "df.dropna(axis = 0, inplace = True)\n",
    "\n",
    "print(df.head()) #3 columns"
   ],
   "metadata": {
    "collapsed": false
   }
  },
  {
   "cell_type": "code",
   "execution_count": 5,
   "outputs": [
    {
     "name": "stdout",
     "output_type": "stream",
     "text": [
      "datetime\n",
      "2022-12-01 20:15:00-06:00    2022-12-01 20:15:00-06:00\n",
      "2022-12-01 20:30:00-06:00    2022-12-01 20:30:00-06:00\n",
      "2022-12-01 20:45:00-06:00    2022-12-01 20:45:00-06:00\n",
      "2022-12-01 21:00:00-06:00    2022-12-01 21:00:00-06:00\n",
      "2022-12-01 21:15:00-06:00    2022-12-01 21:15:00-06:00\n",
      "2022-12-01 21:30:00-06:00    2022-12-01 21:30:00-06:00\n",
      "2022-12-01 21:45:00-06:00    2022-12-01 21:45:00-06:00\n",
      "2022-12-01 22:00:00-06:00    2022-12-01 22:00:00-06:00\n",
      "2022-12-01 22:15:00-06:00    2022-12-01 22:15:00-06:00\n",
      "2022-12-01 22:30:00-06:00    2022-12-01 22:30:00-06:00\n",
      "2022-12-01 22:45:00-06:00    2022-12-01 22:45:00-06:00\n",
      "2022-12-01 23:00:00-06:00    2022-12-01 23:00:00-06:00\n",
      "2022-12-01 23:15:00-06:00    2022-12-01 23:15:00-06:00\n",
      "2022-12-01 23:30:00-06:00    2022-12-01 23:30:00-06:00\n",
      "2022-12-01 23:45:00-06:00    2022-12-01 23:45:00-06:00\n",
      "Name: datetime, dtype: object\n"
     ]
    }
   ],
   "source": [
    "#Separate dates for future plotting\n",
    "train_dates = df.index.to_series()\n",
    "print(train_dates.tail(15)) #Check last few dates."
   ],
   "metadata": {
    "collapsed": false
   }
  },
  {
   "cell_type": "code",
   "execution_count": 6,
   "outputs": [],
   "source": [
    "# Subset the train/testing data\n",
    "# Train: 2017-2018, 2020\n",
    "# Test: 2019, 2021\n",
    "\n",
    "train = df['2020':'2021'] # 2020-2021\n",
    "test = df['2021':'2022'] # Year of 2022"
   ],
   "metadata": {
    "collapsed": false
   }
  },
  {
   "cell_type": "code",
   "execution_count": 6,
   "outputs": [],
   "source": [],
   "metadata": {
    "collapsed": false
   }
  },
  {
   "cell_type": "code",
   "execution_count": 7,
   "outputs": [],
   "source": [
    "trainx_prescale = train.drop(\"Discharge\", axis= 1)"
   ],
   "metadata": {
    "collapsed": false
   }
  },
  {
   "cell_type": "markdown",
   "source": [
    "## Data manipulation"
   ],
   "metadata": {
    "collapsed": false
   }
  },
  {
   "cell_type": "code",
   "execution_count": 8,
   "outputs": [],
   "source": [
    "# LSTM uses sigmoid and tanh that are sensitive to magnitude so values need to be normalized\n",
    "# normalize the dataset\n",
    "\n",
    "scaler = StandardScaler()\n",
    "scaler = scaler.fit(train)\n",
    "train_scaled = scaler.transform(train)\n",
    "\n",
    "\n",
    "scaler_X = scaler.fit(trainx_prescale)\n",
    "trainx_prescale = scaler.transform(trainx_prescale)"
   ],
   "metadata": {
    "collapsed": false
   }
  },
  {
   "cell_type": "code",
   "execution_count": 9,
   "outputs": [
    {
     "data": {
      "text/plain": "array([[-0.01233026,  1.34950998],\n       [-0.02334606,  1.1214551 ],\n       [-0.01783816,  1.28435144],\n       ...,\n       [-0.75314321, -0.72470352],\n       [-0.73386555, -0.92017913],\n       [-0.74763531, -0.75728279]])"
     },
     "execution_count": 9,
     "metadata": {},
     "output_type": "execute_result"
    }
   ],
   "source": [
    "trainx_prescale"
   ],
   "metadata": {
    "collapsed": false
   }
  },
  {
   "cell_type": "code",
   "execution_count": 10,
   "outputs": [
    {
     "name": "stdout",
     "output_type": "stream",
     "text": [
      "trainX shape == (33705, 288, 2).\n",
      "trainY shape == (33705, 1).\n"
     ]
    }
   ],
   "source": [
    "#As required for LSTM networks, we require to reshape an input data into n_samples x timesteps x n_features.\n",
    "#In this example, the n_features is 3. We will make timesteps = 672 (past 7 days data used for training).\n",
    "\n",
    "#Empty lists to be populated using formatted training data\n",
    "trainX = []\n",
    "trainY = []\n",
    "\n",
    "time_to_hr = 4 # 4 timesteps per hour\n",
    "time_to_day = time_to_hr * 24 # 24hrs in a day\n",
    "\n",
    "n_future = 12 # Number of timesteps we want to look into the future based on the past timesteps. 4 * 3hrs = 12\n",
    "n_past = 3 * time_to_day # Number of past timesteps we want to use to predict the future. 7 days x 24hrs x 4 timesteps/hr = 672\n",
    "\n",
    "#Reformat input data into a shape: (n_samples x timesteps x n_features)\n",
    "#In my example, my df_for_training_scaled has a shape (12823, 5)\n",
    "#12823 refers to the number of data points and 5 refers to the columns (multi-variables).\n",
    "\n",
    "for i in range(n_past, len(train_scaled) - n_future +1):\n",
    "    trainX.append(trainx_prescale[i - n_past:i, 0:train_scaled.shape[1]])\n",
    "    trainY.append(train_scaled[i + n_future - 1:i + n_future, 0]) # 0 = Discharge\n",
    "\n",
    "trainX, trainY = np.array(trainX), np.array(trainY)\n",
    "\n",
    "\n",
    "print('trainX shape == {}.'.format(trainX.shape))\n",
    "print('trainY shape == {}.'.format(trainY.shape))"
   ],
   "metadata": {
    "collapsed": false
   }
  },
  {
   "cell_type": "markdown",
   "source": [
    "## Model Dev"
   ],
   "metadata": {
    "collapsed": false
   }
  },
  {
   "cell_type": "code",
   "execution_count": 239,
   "outputs": [
    {
     "name": "stdout",
     "output_type": "stream",
     "text": [
      "Model: \"sequential_4\"\n",
      "_________________________________________________________________\n",
      " Layer (type)                Output Shape              Param #   \n",
      "=================================================================\n",
      " lstm_4 (LSTM)               (None, 125)               64000     \n",
      "                                                                 \n",
      " dense_4 (Dense)             (None, 1)                 126       \n",
      "                                                                 \n",
      "=================================================================\n",
      "Total params: 64,126\n",
      "Trainable params: 64,126\n",
      "Non-trainable params: 0\n",
      "_________________________________________________________________\n"
     ]
    }
   ],
   "source": [
    "# If possible, try to load the model, if it doesn't work, retrain\n",
    "\"\"\"try:\n",
    "    model_lstm = tf.keras.models.load_model('./saved_model/LSTM_Saved_Mikey_1')\n",
    "except:\"\"\"\n",
    "\n",
    "    #In my case, trainX has a shape (100301, 672, 3).\n",
    "\n",
    "    #100301 because we are looking back 672 timesteps ##(12823 - 14 = 12809).\n",
    "    #Remember that we cannot look back 12 timesteps until we get to the 13th timesteps.\n",
    "\n",
    "    #Also, trainY has a shape (100301, 1). Our model only predicts a single value, but\n",
    "    #it needs multiple variables (5 in my example) to make this prediction.\n",
    "    #This is why we can only predict a single day after our training, the day after where our data ends.\n",
    "    #To predict more days in future, we need all the 5 variables which we do not have.\n",
    "    #We need to predict all variables if we want to do that.\n",
    "\n",
    "    # define the Autoencoder model\n",
    "\n",
    "#'''\n",
    "# The LSTM architecture -- Basic RNN | one layer then dense\n",
    "model_lstm = Sequential()\n",
    "model_lstm.add(LSTM(units=125, activation=\"tanh\", input_shape=(trainX.shape[1], trainX.shape[2])))\n",
    "model_lstm.add(Dense(units=1))\n",
    "# Compiling the model\n",
    "model_lstm.compile(optimizer=\"RMSprop\", loss=\"mse\")\n",
    "\n",
    "model_lstm.summary()"
   ],
   "metadata": {
    "collapsed": false
   }
  },
  {
   "cell_type": "code",
   "execution_count": 240,
   "outputs": [
    {
     "name": "stdout",
     "output_type": "stream",
     "text": [
      "Epoch 1/10\n",
      "2107/2107 [==============================] - 244s 114ms/step - loss: 0.0200\n",
      "Epoch 2/10\n",
      "2107/2107 [==============================] - 316s 150ms/step - loss: 0.0125\n",
      "Epoch 3/10\n",
      "2107/2107 [==============================] - 270s 128ms/step - loss: 0.0116\n",
      "Epoch 4/10\n",
      "2107/2107 [==============================] - 244s 116ms/step - loss: 0.0107\n",
      "Epoch 5/10\n",
      "2107/2107 [==============================] - 287s 136ms/step - loss: 0.0098\n",
      "Epoch 6/10\n",
      "2107/2107 [==============================] - 263s 125ms/step - loss: 0.0096\n",
      "Epoch 7/10\n",
      "2107/2107 [==============================] - 232s 110ms/step - loss: 0.0093\n",
      "Epoch 8/10\n",
      "2107/2107 [==============================] - 256s 122ms/step - loss: 0.0091\n",
      "Epoch 9/10\n",
      "2107/2107 [==============================] - 237s 112ms/step - loss: 0.0088\n",
      "Epoch 10/10\n",
      "2107/2107 [==============================] - 226s 107ms/step - loss: 0.0086\n"
     ]
    },
    {
     "data": {
      "text/plain": "<keras.callbacks.History at 0x11fe70fb2b0>"
     },
     "execution_count": 240,
     "metadata": {},
     "output_type": "execute_result"
    }
   ],
   "source": [
    "batch_size = 16\n",
    "\n",
    "model_lstm.fit(trainX, trainY, epochs=5, batch_size=batch_size, verbose=1)\n"
   ],
   "metadata": {
    "collapsed": false
   }
  },
  {
   "cell_type": "code",
   "execution_count": null,
   "outputs": [
    {
     "name": "stdout",
     "output_type": "stream",
     "text": [
      "Model: \"sequential_1\"\n",
      "_________________________________________________________________\n",
      " Layer (type)                Output Shape              Param #   \n",
      "=================================================================\n",
      " lstm (LSTM)                 (None, 672, 64)           17408     \n",
      "                                                                 \n",
      " lstm_1 (LSTM)               (None, 32)                12416     \n",
      "                                                                 \n",
      " dropout (Dropout)           (None, 32)                0         \n",
      "                                                                 \n",
      " dense (Dense)               (None, 1)                 33        \n",
      "                                                                 \n",
      "=================================================================\n",
      "Total params: 29,857\n",
      "Trainable params: 29,857\n",
      "Non-trainable params: 0\n",
      "_________________________________________________________________\n"
     ]
    },
    {
     "name": "stderr",
     "output_type": "stream",
     "text": [
      "Exception ignored in: <function UniquePtr.__del__ at 0x000002664CBCB8B0>\n",
      "Traceback (most recent call last):\n",
      "  File \"C:\\Users\\perso\\anaconda3\\lib\\site-packages\\tensorflow\\python\\framework\\c_api_util.py\", line 71, in __del__\n",
      "    obj = self._obj\n",
      "KeyboardInterrupt: \n"
     ]
    },
    {
     "name": "stdout",
     "output_type": "stream",
     "text": [
      "1046/7551 [===>..........................] - ETA: 1:18:09 - loss: nan"
     ]
    }
   ],
   "source": [
    "'''\n",
    "model = Sequential()\n",
    "model.add(LSTM(64, activation='relu', input_shape=(trainX.shape[1], trainX.shape[2]), return_sequences=True))\n",
    "model.add(LSTM(32, activation='relu', return_sequences=False))\n",
    "model.add(Dropout(0.2))\n",
    "model.add(Dense(trainY.shape[1]))\n",
    "\n",
    "model.compile(optimizer='adam', loss='mse')\n",
    "model.summary()\n",
    "\n",
    "# fit the model\n",
    "history = model.fit(trainX, trainY, epochs=1, batch_size=16, validation_split=0.1, verbose=1)\n",
    "'''\n",
    "\"\"\" plt.plot(history.history['loss'], label='Training loss')\n",
    "plt.plot(history.history['val_loss'], label='Validation loss')\n",
    "plt.legend()\"\"\"\n",
    "'''\n",
    "#Save the entire model as a SavedModel.\n",
    "!mkdir -p saved_model\n",
    "model.save('saved_model/LSTM_Saved_Mikey_1')\n",
    "#'''\n",
    "## Predictions"
   ],
   "metadata": {
    "collapsed": false,
    "pycharm": {
     "is_executing": true
    }
   }
  },
  {
   "cell_type": "code",
   "execution_count": 13,
   "outputs": [],
   "source": [
    "model_lstm = tf.keras.models.load_model('./saved_model/LSTM_Saved_Mikey_1')\n"
   ],
   "metadata": {
    "collapsed": false
   }
  },
  {
   "cell_type": "markdown",
   "source": [
    "### Transform the test data"
   ],
   "metadata": {
    "collapsed": false
   }
  },
  {
   "cell_type": "code",
   "execution_count": 14,
   "outputs": [
    {
     "ename": "ValueError",
     "evalue": "in user code:\n\n    File \"C:\\Users\\perso\\anaconda3\\envs\\MeselheResearch\\lib\\site-packages\\keras\\engine\\training.py\", line 2041, in predict_function  *\n        return step_function(self, iterator)\n    File \"C:\\Users\\perso\\anaconda3\\envs\\MeselheResearch\\lib\\site-packages\\keras\\engine\\training.py\", line 2027, in step_function  **\n        outputs = model.distribute_strategy.run(run_step, args=(data,))\n    File \"C:\\Users\\perso\\anaconda3\\envs\\MeselheResearch\\lib\\site-packages\\keras\\engine\\training.py\", line 2015, in run_step  **\n        outputs = model.predict_step(data)\n    File \"C:\\Users\\perso\\anaconda3\\envs\\MeselheResearch\\lib\\site-packages\\keras\\engine\\training.py\", line 1983, in predict_step\n        return self(x, training=False)\n    File \"C:\\Users\\perso\\anaconda3\\envs\\MeselheResearch\\lib\\site-packages\\keras\\utils\\traceback_utils.py\", line 70, in error_handler\n        raise e.with_traceback(filtered_tb) from None\n    File \"C:\\Users\\perso\\anaconda3\\envs\\MeselheResearch\\lib\\site-packages\\keras\\engine\\input_spec.py\", line 295, in assert_input_compatibility\n        raise ValueError(\n\n    ValueError: Input 0 of layer \"sequential_5\" is incompatible with the layer: expected shape=(None, 672, 3), found shape=(None, 288, 3)\n",
     "output_type": "error",
     "traceback": [
      "\u001B[1;31m---------------------------------------------------------------------------\u001B[0m",
      "\u001B[1;31mValueError\u001B[0m                                Traceback (most recent call last)",
      "Cell \u001B[1;32mIn[14], line 19\u001B[0m\n\u001B[0;32m     15\u001B[0m testX, testY \u001B[38;5;241m=\u001B[39m np\u001B[38;5;241m.\u001B[39marray(testX), np\u001B[38;5;241m.\u001B[39marray(testY)\n\u001B[0;32m     17\u001B[0m \u001B[38;5;66;03m#Make prediction\u001B[39;00m\n\u001B[0;32m     18\u001B[0m \u001B[38;5;66;03m# Will only use the last 7 days of the training data to predict X number of days into the testing data\u001B[39;00m\n\u001B[1;32m---> 19\u001B[0m prediction \u001B[38;5;241m=\u001B[39m \u001B[43mmodel_lstm\u001B[49m\u001B[38;5;241;43m.\u001B[39;49m\u001B[43mpredict\u001B[49m\u001B[43m(\u001B[49m\u001B[43mtestX\u001B[49m\u001B[43m,\u001B[49m\u001B[43m \u001B[49m\u001B[43mverbose\u001B[49m\u001B[43m \u001B[49m\u001B[38;5;241;43m=\u001B[39;49m\u001B[43m \u001B[49m\u001B[38;5;241;43m1\u001B[39;49m\u001B[43m)\u001B[49m\n",
      "File \u001B[1;32m~\\anaconda3\\envs\\MeselheResearch\\lib\\site-packages\\keras\\utils\\traceback_utils.py:70\u001B[0m, in \u001B[0;36mfilter_traceback.<locals>.error_handler\u001B[1;34m(*args, **kwargs)\u001B[0m\n\u001B[0;32m     67\u001B[0m     filtered_tb \u001B[38;5;241m=\u001B[39m _process_traceback_frames(e\u001B[38;5;241m.\u001B[39m__traceback__)\n\u001B[0;32m     68\u001B[0m     \u001B[38;5;66;03m# To get the full stack trace, call:\u001B[39;00m\n\u001B[0;32m     69\u001B[0m     \u001B[38;5;66;03m# `tf.debugging.disable_traceback_filtering()`\u001B[39;00m\n\u001B[1;32m---> 70\u001B[0m     \u001B[38;5;28;01mraise\u001B[39;00m e\u001B[38;5;241m.\u001B[39mwith_traceback(filtered_tb) \u001B[38;5;28;01mfrom\u001B[39;00m \u001B[38;5;28mNone\u001B[39m\n\u001B[0;32m     71\u001B[0m \u001B[38;5;28;01mfinally\u001B[39;00m:\n\u001B[0;32m     72\u001B[0m     \u001B[38;5;28;01mdel\u001B[39;00m filtered_tb\n",
      "File \u001B[1;32m~\\AppData\\Local\\Temp\\__autograph_generated_file66wagp_2.py:15\u001B[0m, in \u001B[0;36mouter_factory.<locals>.inner_factory.<locals>.tf__predict_function\u001B[1;34m(iterator)\u001B[0m\n\u001B[0;32m     13\u001B[0m \u001B[38;5;28;01mtry\u001B[39;00m:\n\u001B[0;32m     14\u001B[0m     do_return \u001B[38;5;241m=\u001B[39m \u001B[38;5;28;01mTrue\u001B[39;00m\n\u001B[1;32m---> 15\u001B[0m     retval_ \u001B[38;5;241m=\u001B[39m ag__\u001B[38;5;241m.\u001B[39mconverted_call(ag__\u001B[38;5;241m.\u001B[39mld(step_function), (ag__\u001B[38;5;241m.\u001B[39mld(\u001B[38;5;28mself\u001B[39m), ag__\u001B[38;5;241m.\u001B[39mld(iterator)), \u001B[38;5;28;01mNone\u001B[39;00m, fscope)\n\u001B[0;32m     16\u001B[0m \u001B[38;5;28;01mexcept\u001B[39;00m:\n\u001B[0;32m     17\u001B[0m     do_return \u001B[38;5;241m=\u001B[39m \u001B[38;5;28;01mFalse\u001B[39;00m\n",
      "\u001B[1;31mValueError\u001B[0m: in user code:\n\n    File \"C:\\Users\\perso\\anaconda3\\envs\\MeselheResearch\\lib\\site-packages\\keras\\engine\\training.py\", line 2041, in predict_function  *\n        return step_function(self, iterator)\n    File \"C:\\Users\\perso\\anaconda3\\envs\\MeselheResearch\\lib\\site-packages\\keras\\engine\\training.py\", line 2027, in step_function  **\n        outputs = model.distribute_strategy.run(run_step, args=(data,))\n    File \"C:\\Users\\perso\\anaconda3\\envs\\MeselheResearch\\lib\\site-packages\\keras\\engine\\training.py\", line 2015, in run_step  **\n        outputs = model.predict_step(data)\n    File \"C:\\Users\\perso\\anaconda3\\envs\\MeselheResearch\\lib\\site-packages\\keras\\engine\\training.py\", line 1983, in predict_step\n        return self(x, training=False)\n    File \"C:\\Users\\perso\\anaconda3\\envs\\MeselheResearch\\lib\\site-packages\\keras\\utils\\traceback_utils.py\", line 70, in error_handler\n        raise e.with_traceback(filtered_tb) from None\n    File \"C:\\Users\\perso\\anaconda3\\envs\\MeselheResearch\\lib\\site-packages\\keras\\engine\\input_spec.py\", line 295, in assert_input_compatibility\n        raise ValueError(\n\n    ValueError: Input 0 of layer \"sequential_5\" is incompatible with the layer: expected shape=(None, 672, 3), found shape=(None, 288, 3)\n"
     ]
    }
   ],
   "source": [
    "testX = []\n",
    "testY = []\n",
    "\n",
    "n_future = 12 # Number of timesteps we want to look into the future based on the past timesteps. 4 * 3hrs = 12\n",
    "n_past = 3 * time_to_day\n",
    "\n",
    "scaler2 = StandardScaler()\n",
    "scaler2 = scaler2.fit(test)\n",
    "test_scaled = scaler2.transform(test)\n",
    "\n",
    "for i in range(n_past, len(test_scaled) - n_future +1):\n",
    "    testX.append(test_scaled[i - n_past:i, 0:test_scaled.shape[1]])\n",
    "    testY.append(test_scaled[i + n_future - 1:i + n_future, 0]) # 0 = Discharge\n",
    "\n",
    "testX, testY = np.array(testX), np.array(testY)\n",
    "\n",
    "#Make prediction\n",
    "# Will only use the last 7 days of the training data to predict X number of days into the testing data\n",
    "prediction = model_lstm.predict(testX, verbose = 1)\n"
   ],
   "metadata": {
    "collapsed": false
   }
  },
  {
   "cell_type": "code",
   "execution_count": null,
   "outputs": [],
   "source": [
    "\n",
    "#Perform inverse transformation to rescale back to original range\n",
    "#Since we used 5 variables for transform, the inverse expects same dimensions\n",
    "#Therefore, let us copy our values 5 times and discard them after inverse transform\n",
    "\n",
    "\n",
    "prediction_copies = np.repeat(prediction, test.shape[1], axis=-1)\n",
    "y_pred = scaler2.inverse_transform(prediction_copies)[:, 0]  # Location of Discharge in columns\n",
    "\n",
    "test_predicts = test[:-n_past -11].copy()\n",
    "test_predicts[\"Predicted Discharge\"] = y_pred\n",
    "test_predicts.rename(columns= {-1 : \"Predicted Discharge\"})\n",
    "#test_predicts = test_predicts.drop(\"Dis\", axis=1)"
   ],
   "metadata": {
    "collapsed": false
   }
  },
  {
   "cell_type": "code",
   "execution_count": 15,
   "outputs": [
    {
     "ename": "NameError",
     "evalue": "name 'test_predicts' is not defined",
     "output_type": "error",
     "traceback": [
      "\u001B[1;31m---------------------------------------------------------------------------\u001B[0m",
      "\u001B[1;31mNameError\u001B[0m                                 Traceback (most recent call last)",
      "Cell \u001B[1;32mIn[15], line 6\u001B[0m\n\u001B[0;32m      3\u001B[0m tend \u001B[38;5;241m=\u001B[39m \u001B[38;5;124m'\u001B[39m\u001B[38;5;124m2021-07-20\u001B[39m\u001B[38;5;124m'\u001B[39m\n\u001B[0;32m      5\u001B[0m sns\u001B[38;5;241m.\u001B[39mlineplot(test[\u001B[38;5;124m'\u001B[39m\u001B[38;5;124mDischarge\u001B[39m\u001B[38;5;124m'\u001B[39m][tstart : tend], errorbar\u001B[38;5;241m=\u001B[39m \u001B[38;5;28;01mNone\u001B[39;00m)\n\u001B[1;32m----> 6\u001B[0m sns\u001B[38;5;241m.\u001B[39mlineplot(\u001B[43mtest_predicts\u001B[49m[\u001B[38;5;124m\"\u001B[39m\u001B[38;5;124mPredicted Discharge\u001B[39m\u001B[38;5;124m\"\u001B[39m][tstart : tend]\u001B[38;5;241m.\u001B[39mshift(n_past), errorbar\u001B[38;5;241m=\u001B[39m \u001B[38;5;28;01mNone\u001B[39;00m)\n",
      "\u001B[1;31mNameError\u001B[0m: name 'test_predicts' is not defined"
     ]
    },
    {
     "data": {
      "text/plain": "<Figure size 640x480 with 1 Axes>",
      "image/png": "[encoded data removed]"
     },
     "metadata": {},
     "output_type": "display_data"
    }
   ],
   "source": [
    "\n",
    "import seaborn as sns\n",
    "tstart = '2021-06-15'\n",
    "tend = '2021-07-20'\n",
    "\n",
    "sns.lineplot(test['Discharge'][tstart : tend], errorbar= None)\n",
    "sns.lineplot(test_predicts[\"Predicted Discharge\"][tstart : tend].shift(n_past), errorbar= None)\n",
    "# shifting 7 to overlay due to inherent shifting from original formatting of the data.\n",
    "\n"
   ],
   "metadata": {
    "collapsed": false
   }
  },
  {
   "cell_type": "code",
   "execution_count": null,
   "outputs": [],
   "source": [
    "\n",
    "sns.lineplot(test['Discharge'], errorbar= None)\n",
    "sns.lineplot(test_predicts[\"Predicted Discharge\"].shift(n_past), errorbar= None)\n",
    "# shifting 7 to overlay due to inherent shifting from original formatting of the data.\n"
   ],
   "metadata": {
    "collapsed": false
   }
  },
  {
   "cell_type": "code",
   "execution_count": null,
   "outputs": [],
   "source": [
    "test_predicts"
   ],
   "metadata": {
    "collapsed": false
   }
  },
  {
   "cell_type": "code",
   "execution_count": null,
   "outputs": [],
   "source": [
    "from sklearn.metrics import mean_squared_error, r2_score, mean_squared_log_error\n"
   ],
   "metadata": {
    "collapsed": false
   }
  },
  {
   "cell_type": "code",
   "execution_count": null,
   "outputs": [],
   "source": [
    "mean_squared_log_error(test['Discharge'][:-n_past-11], test_predicts[\"Predicted Discharge\"])\n"
   ],
   "metadata": {
    "collapsed": false
   }
  },
  {
   "cell_type": "code",
   "execution_count": 208,
   "outputs": [
    {
     "data": {
      "text/plain": "43040621.407637045"
     },
     "execution_count": 208,
     "metadata": {},
     "output_type": "execute_result"
    }
   ],
   "source": [
    "mean_squared_error(test['Discharge'][:-n_past-11], test_predicts[\"Predicted Discharge\"])\n"
   ],
   "metadata": {
    "collapsed": false
   }
  },
  {
   "cell_type": "code",
   "execution_count": 209,
   "outputs": [
    {
     "data": {
      "text/plain": "0.5947433491065697"
     },
     "execution_count": 209,
     "metadata": {},
     "output_type": "execute_result"
    }
   ],
   "source": [
    "r2_score(test['Discharge'][:-n_past-11], test_predicts[\"Predicted Discharge\"])\n"
   ],
   "metadata": {
    "collapsed": false
   }
  },
  {
   "cell_type": "markdown",
   "source": [
    "## Future Predictions\n"
   ],
   "metadata": {
    "collapsed": false
   }
  },
  {
   "cell_type": "code",
   "execution_count": 148,
   "outputs": [
    {
     "name": "stdout",
     "output_type": "stream",
     "text": [
      "1/1 [==============================] - 0s 79ms/step\n"
     ]
    }
   ],
   "source": [
    "# Run test\n",
    "# Prediction\n",
    "#pred_WL = model_lstm.predict(testX)\n",
    "n_future_pred = 3 * time_to_hr\n",
    "overlap = 1\n",
    "pred_WL = model_lstm.predict(testX[-n_future_pred - overlap:])\n",
    "\n",
    "predict_period_dates = pd.date_range(list(test.index)[-(overlap)],periods=n_future_pred + overlap, freq='15min').tolist()"
   ],
   "metadata": {
    "collapsed": false
   }
  },
  {
   "cell_type": "code",
   "execution_count": 149,
   "outputs": [],
   "source": [],
   "metadata": {
    "collapsed": false
   }
  },
  {
   "cell_type": "code",
   "execution_count": 150,
   "outputs": [
    {
     "data": {
      "text/plain": "array([[-0.1602038 ],\n       [-0.15829103],\n       [-0.1553822 ],\n       [-0.15555653],\n       [-0.15500872],\n       [-0.1539407 ],\n       [-0.14966014],\n       [-0.15071718],\n       [-0.1513566 ],\n       [-0.15544336],\n       [-0.15271717],\n       [-0.15169932],\n       [-0.14429007]], dtype=float32)"
     },
     "execution_count": 150,
     "metadata": {},
     "output_type": "execute_result"
    }
   ],
   "source": [
    "pred_WL"
   ],
   "metadata": {
    "collapsed": false
   }
  },
  {
   "cell_type": "code",
   "execution_count": 146,
   "outputs": [
    {
     "ename": "ValueError",
     "evalue": "Per-column arrays must each be 1-dimensional",
     "output_type": "error",
     "traceback": [
      "\u001B[1;31m---------------------------------------------------------------------------\u001B[0m",
      "\u001B[1;31mValueError\u001B[0m                                Traceback (most recent call last)",
      "Cell \u001B[1;32mIn[146], line 8\u001B[0m\n\u001B[0;32m      1\u001B[0m \u001B[38;5;124;03m'''\u001B[39;00m\n\u001B[0;32m      2\u001B[0m \u001B[38;5;124;03m# Convert timestamp to date\u001B[39;00m\n\u001B[0;32m      3\u001B[0m \u001B[38;5;124;03mforecast_dates = []\u001B[39;00m\n\u001B[1;32m   (...)\u001B[0m\n\u001B[0;32m      6\u001B[0m \u001B[38;5;124;03mlen(y_pred_future)\u001B[39;00m\n\u001B[0;32m      7\u001B[0m \u001B[38;5;124;03m'''\u001B[39;00m\n\u001B[1;32m----> 8\u001B[0m df_forecast \u001B[38;5;241m=\u001B[39m \u001B[43mpd\u001B[49m\u001B[38;5;241;43m.\u001B[39;49m\u001B[43mDataFrame\u001B[49m\u001B[43m(\u001B[49m\u001B[43m{\u001B[49m\u001B[38;5;124;43m'\u001B[39;49m\u001B[38;5;124;43mDate\u001B[39;49m\u001B[38;5;124;43m'\u001B[39;49m\u001B[43m:\u001B[49m\u001B[43m \u001B[49m\u001B[43mpd\u001B[49m\u001B[38;5;241;43m.\u001B[39;49m\u001B[43mto_datetime\u001B[49m\u001B[43m(\u001B[49m\u001B[43mpredict_period_dates\u001B[49m\u001B[43m)\u001B[49m\u001B[43m,\u001B[49m\n\u001B[0;32m      9\u001B[0m \u001B[43m                            \u001B[49m\u001B[38;5;124;43m'\u001B[39;49m\u001B[38;5;124;43mGage Height\u001B[39;49m\u001B[38;5;124;43m'\u001B[39;49m\u001B[43m:\u001B[49m\u001B[43mpred_WL\u001B[49m\u001B[43m}\u001B[49m\u001B[43m)\u001B[49m\n",
      "File \u001B[1;32m~\\anaconda3\\envs\\MeselheResearch\\lib\\site-packages\\pandas\\core\\frame.py:664\u001B[0m, in \u001B[0;36mDataFrame.__init__\u001B[1;34m(self, data, index, columns, dtype, copy)\u001B[0m\n\u001B[0;32m    658\u001B[0m     mgr \u001B[38;5;241m=\u001B[39m \u001B[38;5;28mself\u001B[39m\u001B[38;5;241m.\u001B[39m_init_mgr(\n\u001B[0;32m    659\u001B[0m         data, axes\u001B[38;5;241m=\u001B[39m{\u001B[38;5;124m\"\u001B[39m\u001B[38;5;124mindex\u001B[39m\u001B[38;5;124m\"\u001B[39m: index, \u001B[38;5;124m\"\u001B[39m\u001B[38;5;124mcolumns\u001B[39m\u001B[38;5;124m\"\u001B[39m: columns}, dtype\u001B[38;5;241m=\u001B[39mdtype, copy\u001B[38;5;241m=\u001B[39mcopy\n\u001B[0;32m    660\u001B[0m     )\n\u001B[0;32m    662\u001B[0m \u001B[38;5;28;01melif\u001B[39;00m \u001B[38;5;28misinstance\u001B[39m(data, \u001B[38;5;28mdict\u001B[39m):\n\u001B[0;32m    663\u001B[0m     \u001B[38;5;66;03m# GH#38939 de facto copy defaults to False only in non-dict cases\u001B[39;00m\n\u001B[1;32m--> 664\u001B[0m     mgr \u001B[38;5;241m=\u001B[39m \u001B[43mdict_to_mgr\u001B[49m\u001B[43m(\u001B[49m\u001B[43mdata\u001B[49m\u001B[43m,\u001B[49m\u001B[43m \u001B[49m\u001B[43mindex\u001B[49m\u001B[43m,\u001B[49m\u001B[43m \u001B[49m\u001B[43mcolumns\u001B[49m\u001B[43m,\u001B[49m\u001B[43m \u001B[49m\u001B[43mdtype\u001B[49m\u001B[38;5;241;43m=\u001B[39;49m\u001B[43mdtype\u001B[49m\u001B[43m,\u001B[49m\u001B[43m \u001B[49m\u001B[43mcopy\u001B[49m\u001B[38;5;241;43m=\u001B[39;49m\u001B[43mcopy\u001B[49m\u001B[43m,\u001B[49m\u001B[43m \u001B[49m\u001B[43mtyp\u001B[49m\u001B[38;5;241;43m=\u001B[39;49m\u001B[43mmanager\u001B[49m\u001B[43m)\u001B[49m\n\u001B[0;32m    665\u001B[0m \u001B[38;5;28;01melif\u001B[39;00m \u001B[38;5;28misinstance\u001B[39m(data, ma\u001B[38;5;241m.\u001B[39mMaskedArray):\n\u001B[0;32m    666\u001B[0m     \u001B[38;5;28;01mimport\u001B[39;00m \u001B[38;5;21;01mnumpy\u001B[39;00m\u001B[38;5;21;01m.\u001B[39;00m\u001B[38;5;21;01mma\u001B[39;00m\u001B[38;5;21;01m.\u001B[39;00m\u001B[38;5;21;01mmrecords\u001B[39;00m \u001B[38;5;28;01mas\u001B[39;00m \u001B[38;5;21;01mmrecords\u001B[39;00m\n",
      "File \u001B[1;32m~\\anaconda3\\envs\\MeselheResearch\\lib\\site-packages\\pandas\\core\\internals\\construction.py:493\u001B[0m, in \u001B[0;36mdict_to_mgr\u001B[1;34m(data, index, columns, dtype, typ, copy)\u001B[0m\n\u001B[0;32m    489\u001B[0m     \u001B[38;5;28;01melse\u001B[39;00m:\n\u001B[0;32m    490\u001B[0m         \u001B[38;5;66;03m# dtype check to exclude e.g. range objects, scalars\u001B[39;00m\n\u001B[0;32m    491\u001B[0m         arrays \u001B[38;5;241m=\u001B[39m [x\u001B[38;5;241m.\u001B[39mcopy() \u001B[38;5;28;01mif\u001B[39;00m \u001B[38;5;28mhasattr\u001B[39m(x, \u001B[38;5;124m\"\u001B[39m\u001B[38;5;124mdtype\u001B[39m\u001B[38;5;124m\"\u001B[39m) \u001B[38;5;28;01melse\u001B[39;00m x \u001B[38;5;28;01mfor\u001B[39;00m x \u001B[38;5;129;01min\u001B[39;00m arrays]\n\u001B[1;32m--> 493\u001B[0m \u001B[38;5;28;01mreturn\u001B[39;00m \u001B[43marrays_to_mgr\u001B[49m\u001B[43m(\u001B[49m\u001B[43marrays\u001B[49m\u001B[43m,\u001B[49m\u001B[43m \u001B[49m\u001B[43mcolumns\u001B[49m\u001B[43m,\u001B[49m\u001B[43m \u001B[49m\u001B[43mindex\u001B[49m\u001B[43m,\u001B[49m\u001B[43m \u001B[49m\u001B[43mdtype\u001B[49m\u001B[38;5;241;43m=\u001B[39;49m\u001B[43mdtype\u001B[49m\u001B[43m,\u001B[49m\u001B[43m \u001B[49m\u001B[43mtyp\u001B[49m\u001B[38;5;241;43m=\u001B[39;49m\u001B[43mtyp\u001B[49m\u001B[43m,\u001B[49m\u001B[43m \u001B[49m\u001B[43mconsolidate\u001B[49m\u001B[38;5;241;43m=\u001B[39;49m\u001B[43mcopy\u001B[49m\u001B[43m)\u001B[49m\n",
      "File \u001B[1;32m~\\anaconda3\\envs\\MeselheResearch\\lib\\site-packages\\pandas\\core\\internals\\construction.py:118\u001B[0m, in \u001B[0;36marrays_to_mgr\u001B[1;34m(arrays, columns, index, dtype, verify_integrity, typ, consolidate)\u001B[0m\n\u001B[0;32m    115\u001B[0m \u001B[38;5;28;01mif\u001B[39;00m verify_integrity:\n\u001B[0;32m    116\u001B[0m     \u001B[38;5;66;03m# figure out the index, if necessary\u001B[39;00m\n\u001B[0;32m    117\u001B[0m     \u001B[38;5;28;01mif\u001B[39;00m index \u001B[38;5;129;01mis\u001B[39;00m \u001B[38;5;28;01mNone\u001B[39;00m:\n\u001B[1;32m--> 118\u001B[0m         index \u001B[38;5;241m=\u001B[39m \u001B[43m_extract_index\u001B[49m\u001B[43m(\u001B[49m\u001B[43marrays\u001B[49m\u001B[43m)\u001B[49m\n\u001B[0;32m    119\u001B[0m     \u001B[38;5;28;01melse\u001B[39;00m:\n\u001B[0;32m    120\u001B[0m         index \u001B[38;5;241m=\u001B[39m ensure_index(index)\n",
      "File \u001B[1;32m~\\anaconda3\\envs\\MeselheResearch\\lib\\site-packages\\pandas\\core\\internals\\construction.py:653\u001B[0m, in \u001B[0;36m_extract_index\u001B[1;34m(data)\u001B[0m\n\u001B[0;32m    651\u001B[0m         raw_lengths\u001B[38;5;241m.\u001B[39mappend(\u001B[38;5;28mlen\u001B[39m(val))\n\u001B[0;32m    652\u001B[0m     \u001B[38;5;28;01melif\u001B[39;00m \u001B[38;5;28misinstance\u001B[39m(val, np\u001B[38;5;241m.\u001B[39mndarray) \u001B[38;5;129;01mand\u001B[39;00m val\u001B[38;5;241m.\u001B[39mndim \u001B[38;5;241m>\u001B[39m \u001B[38;5;241m1\u001B[39m:\n\u001B[1;32m--> 653\u001B[0m         \u001B[38;5;28;01mraise\u001B[39;00m \u001B[38;5;167;01mValueError\u001B[39;00m(\u001B[38;5;124m\"\u001B[39m\u001B[38;5;124mPer-column arrays must each be 1-dimensional\u001B[39m\u001B[38;5;124m\"\u001B[39m)\n\u001B[0;32m    655\u001B[0m \u001B[38;5;28;01mif\u001B[39;00m \u001B[38;5;129;01mnot\u001B[39;00m indexes \u001B[38;5;129;01mand\u001B[39;00m \u001B[38;5;129;01mnot\u001B[39;00m raw_lengths:\n\u001B[0;32m    656\u001B[0m     \u001B[38;5;28;01mraise\u001B[39;00m \u001B[38;5;167;01mValueError\u001B[39;00m(\u001B[38;5;124m\"\u001B[39m\u001B[38;5;124mIf using all scalar values, you must pass an index\u001B[39m\u001B[38;5;124m\"\u001B[39m)\n",
      "\u001B[1;31mValueError\u001B[0m: Per-column arrays must each be 1-dimensional"
     ]
    }
   ],
   "source": [
    "'''\n",
    "# Convert timestamp to date\n",
    "forecast_dates = []\n",
    "for time_i in predict_period_dates:\n",
    "    forecast_dates.append(time_i.date())\n",
    "len(y_pred_future)\n",
    "'''\n",
    "df_forecast = pd.DataFrame({'Date': pd.to_datetime(predict_period_dates),\n",
    "                            'Gage Height':pred_WL})"
   ],
   "metadata": {
    "collapsed": false
   }
  },
  {
   "cell_type": "code",
   "execution_count": 88,
   "outputs": [],
   "source": [
    "df_forecast.set_index('Date', inplace= True)"
   ],
   "metadata": {
    "collapsed": false
   }
  },
  {
   "cell_type": "code",
   "execution_count": 89,
   "outputs": [],
   "source": [
    "original = df[['Gage Height']]\n",
    "original = original.loc['2021-12-25': '2022']"
   ],
   "metadata": {
    "collapsed": false
   }
  },
  {
   "cell_type": "code",
   "execution_count": 90,
   "outputs": [
    {
     "data": {
      "text/plain": "                           Gage Height\ndatetime                              \n2021-12-25 00:00:00-06:00        15.47\n2021-12-25 00:15:00-06:00        15.49\n2021-12-25 00:30:00-06:00        15.50\n2021-12-25 00:45:00-06:00        15.46\n2021-12-25 01:00:00-06:00        15.51\n...                                ...\n2021-12-31 22:45:00-06:00        16.00\n2021-12-31 23:00:00-06:00        16.01\n2021-12-31 23:15:00-06:00        16.01\n2021-12-31 23:30:00-06:00        16.02\n2021-12-31 23:45:00-06:00        16.02\n\n[648 rows x 1 columns]",
      "text/html": "<div>\n<style scoped>\n    .dataframe tbody tr th:only-of-type {\n        vertical-align: middle;\n    }\n\n    .dataframe tbody tr th {\n        vertical-align: top;\n    }\n\n    .dataframe thead th {\n        text-align: right;\n    }\n</style>\n<table border=\"1\" class=\"dataframe\">\n  <thead>\n    <tr style=\"text-align: right;\">\n      <th></th>\n      <th>Gage Height</th>\n    </tr>\n    <tr>\n      <th>datetime</th>\n      <th></th>\n    </tr>\n  </thead>\n  <tbody>\n    <tr>\n      <th>2021-12-25 00:00:00-06:00</th>\n      <td>15.47</td>\n    </tr>\n    <tr>\n      <th>2021-12-25 00:15:00-06:00</th>\n      <td>15.49</td>\n    </tr>\n    <tr>\n      <th>2021-12-25 00:30:00-06:00</th>\n      <td>15.50</td>\n    </tr>\n    <tr>\n      <th>2021-12-25 00:45:00-06:00</th>\n      <td>15.46</td>\n    </tr>\n    <tr>\n      <th>2021-12-25 01:00:00-06:00</th>\n      <td>15.51</td>\n    </tr>\n    <tr>\n      <th>...</th>\n      <td>...</td>\n    </tr>\n    <tr>\n      <th>2021-12-31 22:45:00-06:00</th>\n      <td>16.00</td>\n    </tr>\n    <tr>\n      <th>2021-12-31 23:00:00-06:00</th>\n      <td>16.01</td>\n    </tr>\n    <tr>\n      <th>2021-12-31 23:15:00-06:00</th>\n      <td>16.01</td>\n    </tr>\n    <tr>\n      <th>2021-12-31 23:30:00-06:00</th>\n      <td>16.02</td>\n    </tr>\n    <tr>\n      <th>2021-12-31 23:45:00-06:00</th>\n      <td>16.02</td>\n    </tr>\n  </tbody>\n</table>\n<p>648 rows × 1 columns</p>\n</div>"
     },
     "execution_count": 90,
     "metadata": {},
     "output_type": "execute_result"
    }
   ],
   "source": [
    "original"
   ],
   "metadata": {
    "collapsed": false
   }
  },
  {
   "cell_type": "code",
   "execution_count": 91,
   "outputs": [
    {
     "data": {
      "text/plain": "<Axes: xlabel='datetime'>"
     },
     "execution_count": 91,
     "metadata": {},
     "output_type": "execute_result"
    },
    {
     "data": {
      "text/plain": "<Figure size 640x480 with 1 Axes>",
      "image/png": "[encoded data removed]"
     },
     "metadata": {},
     "output_type": "display_data"
    }
   ],
   "source": [
    "sns.lineplot(original, errorbar= None)"
   ],
   "metadata": {
    "collapsed": false
   }
  },
  {
   "cell_type": "code",
   "execution_count": 92,
   "outputs": [
    {
     "data": {
      "text/plain": "<Axes: xlabel='Date'>"
     },
     "execution_count": 92,
     "metadata": {},
     "output_type": "execute_result"
    },
    {
     "data": {
      "text/plain": "<Figure size 640x480 with 1 Axes>",
      "image/png": "[encoded data removed]"
     },
     "metadata": {},
     "output_type": "display_data"
    }
   ],
   "source": [
    "sns.lineplot(df_forecast,errorbar= None)\n"
   ],
   "metadata": {
    "collapsed": false
   }
  },
  {
   "cell_type": "code",
   "execution_count": 93,
   "outputs": [
    {
     "data": {
      "text/plain": "                           Gage Height\nDate                                  \n2022-12-01 00:00:00-06:00     0.959061\n2022-12-01 00:15:00-06:00     0.948979\n2022-12-01 00:30:00-06:00     0.939894\n2022-12-01 00:45:00-06:00     0.954180\n2022-12-01 01:00:00-06:00     0.956698\n2022-12-01 01:15:00-06:00     0.951986\n2022-12-01 01:30:00-06:00     0.951351\n2022-12-01 01:45:00-06:00     0.944818\n2022-12-01 02:00:00-06:00     0.943667\n2022-12-01 02:15:00-06:00     0.950522\n2022-12-01 02:30:00-06:00     0.939742\n2022-12-01 02:45:00-06:00     0.935389\n2022-12-01 03:00:00-06:00     0.938183",
      "text/html": "<div>\n<style scoped>\n    .dataframe tbody tr th:only-of-type {\n        vertical-align: middle;\n    }\n\n    .dataframe tbody tr th {\n        vertical-align: top;\n    }\n\n    .dataframe thead th {\n        text-align: right;\n    }\n</style>\n<table border=\"1\" class=\"dataframe\">\n  <thead>\n    <tr style=\"text-align: right;\">\n      <th></th>\n      <th>Gage Height</th>\n    </tr>\n    <tr>\n      <th>Date</th>\n      <th></th>\n    </tr>\n  </thead>\n  <tbody>\n    <tr>\n      <th>2022-12-01 00:00:00-06:00</th>\n      <td>0.959061</td>\n    </tr>\n    <tr>\n      <th>2022-12-01 00:15:00-06:00</th>\n      <td>0.948979</td>\n    </tr>\n    <tr>\n      <th>2022-12-01 00:30:00-06:00</th>\n      <td>0.939894</td>\n    </tr>\n    <tr>\n      <th>2022-12-01 00:45:00-06:00</th>\n      <td>0.954180</td>\n    </tr>\n    <tr>\n      <th>2022-12-01 01:00:00-06:00</th>\n      <td>0.956698</td>\n    </tr>\n    <tr>\n      <th>2022-12-01 01:15:00-06:00</th>\n      <td>0.951986</td>\n    </tr>\n    <tr>\n      <th>2022-12-01 01:30:00-06:00</th>\n      <td>0.951351</td>\n    </tr>\n    <tr>\n      <th>2022-12-01 01:45:00-06:00</th>\n      <td>0.944818</td>\n    </tr>\n    <tr>\n      <th>2022-12-01 02:00:00-06:00</th>\n      <td>0.943667</td>\n    </tr>\n    <tr>\n      <th>2022-12-01 02:15:00-06:00</th>\n      <td>0.950522</td>\n    </tr>\n    <tr>\n      <th>2022-12-01 02:30:00-06:00</th>\n      <td>0.939742</td>\n    </tr>\n    <tr>\n      <th>2022-12-01 02:45:00-06:00</th>\n      <td>0.935389</td>\n    </tr>\n    <tr>\n      <th>2022-12-01 03:00:00-06:00</th>\n      <td>0.938183</td>\n    </tr>\n  </tbody>\n</table>\n</div>"
     },
     "execution_count": 93,
     "metadata": {},
     "output_type": "execute_result"
    }
   ],
   "source": [
    "df_forecast"
   ],
   "metadata": {
    "collapsed": false
   }
  },
  {
   "cell_type": "code",
   "execution_count": null,
   "outputs": [],
   "source": [
    "\n",
    "# Convert timestamp to date\n",
    "forecast_dates = []\n",
    "for time_i in predict_period_dates:\n",
    "    forecast_dates.append(time_i.date())\n",
    "\n",
    "df_forecast = pd.DataFrame({'Date':np.array(forecast_dates), 'Open':y_pred_future})\n",
    "df_forecast['Date']=pd.to_datetime(df_forecast['Date'])\n",
    "\n",
    "\n",
    "original = df[['Date', 'Open']]\n",
    "original['Date']=pd.to_datetime(original['Date'])\n",
    "original = original.loc[original['Date'] >= '2020-5-1']\n",
    "\n",
    "sns.lineplot(original['Date'], original['Open'])\n",
    "sns.lineplot(df_forecast['Date'], df_forecast['Open'])\n"
   ],
   "metadata": {
    "collapsed": false
   }
  },
  {
   "cell_type": "code",
   "execution_count": null,
   "outputs": [],
   "source": [],
   "metadata": {
    "collapsed": false
   }
  }
 ],
 "metadata": {
  "kernelspec": {
   "display_name": "Python 3",
   "language": "python",
   "name": "python3"
  },
  "language_info": {
   "codemirror_mode": {
    "name": "ipython",
    "version": 2
   },
   "file_extension": ".py",
   "mimetype": "text/x-python",
   "name": "python",
   "nbconvert_exporter": "python",
   "pygments_lexer": "ipython2",
   "version": "2.7.6"
  }
 },
 "nbformat": 4,
 "nbformat_minor": 0
}
