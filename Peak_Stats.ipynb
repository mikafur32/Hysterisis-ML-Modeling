{
  "nbformat": 4,
  "nbformat_minor": 0,
  "metadata": {
    "colab": {
      "provenance": []
    },
    "kernelspec": {
      "name": "python3",
      "display_name": "Python 3"
    },
    "language_info": {
      "name": "python"
    }
  },
  "cells": [
    {
      "cell_type": "markdown",
      "source": [
        "**Calculating Peak Statistics for Observed and Predicted Streamflow Datasets**"
      ],
      "metadata": {
        "id": "Rtcr6XXrMZ4n"
      }
    },
    {
      "cell_type": "code",
      "execution_count": null,
      "metadata": {
        "id": "3yeFgevwMPd5"
      },
      "outputs": [],
      "source": [
        "# Load required packages\n",
        "import numpy as np\n",
        "import pandas as pd"
      ]
    },
    {
      "cell_type": "code",
      "source": [
        "# Write a function to identify peaks\n",
        "# Probably need to modify this to look in a wider window\n",
        "def find_peaks(series):\n",
        "    \"\"\"Find peaks in a given time series\"\"\"\n",
        "    peaks = []\n",
        "    for i in range(1, len(series)-1):\n",
        "        if series[i] > series[i-1] and series[i] > series[i+1]:\n",
        "            peaks.append(i)\n",
        "    return peaks"
      ],
      "metadata": {
        "id": "ZOrB01e0MrFP"
      },
      "execution_count": null,
      "outputs": []
    },
    {
      "cell_type": "code",
      "source": [
        "# Write a function to calculate metrics on peak matches\n",
        "def calculate_metrics(observed, modeled, observed_peaks, modeled_peaks):\n",
        "    \"\"\"Calculate peak matching metrics\"\"\"\n",
        "    metrics = []\n",
        "    for obs_peak in observed_peaks:\n",
        "        best_match = None\n",
        "        best_match_difference = np.inf\n",
        "        for mod_peak in modeled_peaks:\n",
        "            difference = abs(observed[obs_peak] - modeled[mod_peak])\n",
        "            if difference < best_match_difference:\n",
        "                best_match = mod_peak\n",
        "                best_match_difference = difference\n",
        "        if best_match is not None:\n",
        "            obs_val = observed[obs_peak]\n",
        "            mod_val = modeled[best_match]\n",
        "            timing_diff = best_match - obs_peak\n",
        "            magnitude_diff = mod_val - obs_val\n",
        "            peak_ratio = mod_val / obs_val\n",
        "            metrics.append((timing_diff, magnitude_diff, peak_ratio))\n",
        "\n",
        "    return metrics"
      ],
      "metadata": {
        "id": "M2_wR7vXMvTQ"
      },
      "execution_count": null,
      "outputs": []
    },
    {
      "cell_type": "code",
      "source": [
        "# Write a function to calculate RMSE for peaks\n",
        "def calculate_rmse(observed, modeled, observed_peaks, modeled_peaks):\n",
        "    \"\"\"Calculate Root Mean Squared Error (RMSE)\"\"\"\n",
        "    squared_errors = []\n",
        "    for obs_peak in observed_peaks:\n",
        "        best_match = None\n",
        "        best_match_difference = np.inf\n",
        "        for mod_peak in modeled_peaks:\n",
        "            difference = abs(observed[obs_peak] - modeled[mod_peak])\n",
        "            if difference < best_match_difference:\n",
        "                best_match = mod_peak\n",
        "                best_match_difference = difference\n",
        "        if best_match is not None:\n",
        "            squared_errors.append((observed[obs_peak] - modeled[best_match]) ** 2)\n",
        "\n",
        "    rmse = np.sqrt(np.mean(squared_errors))\n",
        "    return rmse"
      ],
      "metadata": {
        "id": "xXno61EwM9w-"
      },
      "execution_count": null,
      "outputs": []
    },
    {
      "cell_type": "markdown",
      "source": [
        "**Later fill the following in with your model output & observation data**"
      ],
      "metadata": {
        "id": "InQcM2UpNM3f"
      }
    },
    {
      "cell_type": "code",
      "source": [
        "# Find peaks\n",
        "observed_peaks = find_peaks(observed_data)\n",
        "modeled_peaks = find_peaks(modeled_data)"
      ],
      "metadata": {
        "id": "j33BiE4hNGYO"
      },
      "execution_count": null,
      "outputs": []
    },
    {
      "cell_type": "code",
      "source": [
        "# Calculate metrics and rmse for the peaks\n",
        "metrics = calculate_metrics(observed_data, modeled_data, observed_peaks, modeled_peaks)\n",
        "rmse = calculate_rmse(observed_data, modeled_data, observed_peaks, modeled_peaks)"
      ],
      "metadata": {
        "id": "2ZduNbxrNWj3"
      },
      "execution_count": null,
      "outputs": []
    },
    {
      "cell_type": "code",
      "source": [
        "# Print the results\n",
        "print(\"Peak Matching Metrics:\")\n",
        "for timing_diff, magnitude_diff, peak_ratio in metrics:\n",
        "    print(\"Timing Difference:\", timing_diff)\n",
        "    print(\"Magnitude Difference:\", magnitude_diff)\n",
        "    print(\"Peak Ratio:\", peak_ratio)\n",
        "    print(\"-----\")\n",
        "print(\"RMSE:\", rmse)"
      ],
      "metadata": {
        "id": "wQOX5EFJNdoX"
      },
      "execution_count": null,
      "outputs": []
    },
    {
      "cell_type": "markdown",
      "source": [
        "**Plotting the data and peaks**"
      ],
      "metadata": {
        "id": "NCVeOJfpN2Gf"
      }
    },
    {
      "cell_type": "code",
      "source": [
        "# Plotting the time series data and peaks\n",
        "plt.figure(figsize=(8, 6))\n",
        "plt.plot(observed_data, label='Observed')\n",
        "plt.plot(modeled_data, label='Modeled')\n",
        "\n",
        "# Plot observed peaks\n",
        "plt.scatter(observed_peaks, observed_data[observed_peaks], color='red', marker='o', label='Observed Peaks')\n",
        "\n",
        "# Plot modeled peaks\n",
        "plt.scatter(modeled_peaks, modeled_data[modeled_peaks], color='green', marker='o', label='Modeled Peaks')\n",
        "\n",
        "# Set x-axis and y-axis labels\n",
        "plt.xlabel('Time')\n",
        "plt.ylabel('Magnitude')\n",
        "\n",
        "# Set plot title\n",
        "plt.title('Observed and Modeled Time Series and Event Peaks')\n",
        "\n",
        "# Add legend\n",
        "plt.legend()\n",
        "\n",
        "# Show the plot\n",
        "plt.show()"
      ],
      "metadata": {
        "id": "A5-VP1T5N6CP"
      },
      "execution_count": null,
      "outputs": []
    },
    {
      "cell_type": "code",
      "source": [
        "# Plotting the peaks obs-sim plot (looking for 1:1 fit)\n",
        "# Combine the data frames\n",
        "combined_df <- rbind(observed_data, modeled_data)\n",
        "\n",
        "# Plot the observed and modeled peaks\n",
        "ggplot(combined_df, aes(x = Time, y = Magnitude, color = Type)) +\n",
        "  geom_point() +\n",
        "  labs(title = \"Observed and Modeled Peaks\", x = \"Observed\", y = \"Modeled\") +\n",
        "  theme_minimal()"
      ],
      "metadata": {
        "id": "5KR5R4YxONsP"
      },
      "execution_count": null,
      "outputs": []
    }
  ]
}