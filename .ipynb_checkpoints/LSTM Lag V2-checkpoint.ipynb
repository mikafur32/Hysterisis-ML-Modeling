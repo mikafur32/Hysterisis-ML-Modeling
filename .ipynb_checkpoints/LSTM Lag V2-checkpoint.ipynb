{
 "cells": [
  {
   "cell_type": "markdown",
   "metadata": {},
   "source": [
    "# LSTM Lag test"
   ]
  },
  {
   "cell_type": "markdown",
   "metadata": {
    "jp-MarkdownHeadingCollapsed": true,
    "tags": []
   },
   "source": [
    "## 0. Imports"
   ]
  },
  {
   "cell_type": "code",
   "execution_count": 1,
   "metadata": {
    "jupyter": {
     "outputs_hidden": false
    }
   },
   "outputs": [],
   "source": [
    "import numpy as np\n",
    "import tensorflow as tf\n",
    "from keras.models import Sequential\n",
    "from keras.layers import LSTM\n",
    "from keras.layers import Dense, Dropout\n",
    "import pandas as pd\n",
    "from matplotlib import pyplot as plt\n",
    "from sklearn.preprocessing import StandardScaler\n",
    "import seaborn as sns"
   ]
  },
  {
   "cell_type": "markdown",
   "metadata": {},
   "source": [
    "## 1. Read and EDA"
   ]
  },
  {
   "cell_type": "code",
   "execution_count": 2,
   "metadata": {
    "jupyter": {
     "outputs_hidden": false
    }
   },
   "outputs": [
    {
     "name": "stdout",
     "output_type": "stream",
     "text": [
      "                           Discharge  Gage Height  Velocity\n",
      "datetime                                                   \n",
      "2017-01-01 00:00:00-06:00    20400.0        16.95      2.45\n",
      "2017-01-01 00:15:00-06:00    19800.0        16.96      2.37\n",
      "2017-01-01 00:30:00-06:00    20900.0        16.98      2.51\n",
      "2017-01-01 00:45:00-06:00    19300.0        16.95      2.32\n",
      "2017-01-01 01:00:00-06:00    20700.0        16.98      2.49\n"
     ]
    },
    {
     "name": "stderr",
     "output_type": "stream",
     "text": [
      "C:\\Users\\emmac\\AppData\\Local\\Temp\\ipykernel_9988\\80301310.py:2: DtypeWarning: Columns (2,5,11,13,15,17,19,21,23,25) have mixed types. Specify dtype option on import or set low_memory=False.\n",
      "  df = pd.read_csv('henry_csv_17-23.csv')#, infer_datetime_format= True)\n"
     ]
    }
   ],
   "source": [
    "#Read the csv file\n",
    "df = pd.read_csv('henry_csv_17-23.csv')#, infer_datetime_format= True)\n",
    "renames = {'00065': 'Gage Height', '00060': 'Discharge', '72254': 'Velocity'}\n",
    "df = df.rename(columns = renames)\n",
    "\n",
    "df = df[['datetime', 'Discharge', 'Gage Height', 'Velocity']]\n",
    "df = df.set_index('datetime')\n",
    "df.dropna(axis = 0, inplace = True)\n",
    "\n",
    "print(df.head()) #3 columns"
   ]
  },
  {
   "cell_type": "code",
   "execution_count": 3,
   "metadata": {
    "jupyter": {
     "outputs_hidden": false
    }
   },
   "outputs": [
    {
     "name": "stdout",
     "output_type": "stream",
     "text": [
      "datetime\n",
      "2022-12-01 20:15:00-06:00    2022-12-01 20:15:00-06:00\n",
      "2022-12-01 20:30:00-06:00    2022-12-01 20:30:00-06:00\n",
      "2022-12-01 20:45:00-06:00    2022-12-01 20:45:00-06:00\n",
      "2022-12-01 21:00:00-06:00    2022-12-01 21:00:00-06:00\n",
      "2022-12-01 21:15:00-06:00    2022-12-01 21:15:00-06:00\n",
      "2022-12-01 21:30:00-06:00    2022-12-01 21:30:00-06:00\n",
      "2022-12-01 21:45:00-06:00    2022-12-01 21:45:00-06:00\n",
      "2022-12-01 22:00:00-06:00    2022-12-01 22:00:00-06:00\n",
      "2022-12-01 22:15:00-06:00    2022-12-01 22:15:00-06:00\n",
      "2022-12-01 22:30:00-06:00    2022-12-01 22:30:00-06:00\n",
      "2022-12-01 22:45:00-06:00    2022-12-01 22:45:00-06:00\n",
      "2022-12-01 23:00:00-06:00    2022-12-01 23:00:00-06:00\n",
      "2022-12-01 23:15:00-06:00    2022-12-01 23:15:00-06:00\n",
      "2022-12-01 23:30:00-06:00    2022-12-01 23:30:00-06:00\n",
      "2022-12-01 23:45:00-06:00    2022-12-01 23:45:00-06:00\n",
      "Name: datetime, dtype: object\n"
     ]
    }
   ],
   "source": [
    "# Separate dates for future plotting\n",
    "train_dates = df.index.to_series()\n",
    "print(train_dates.tail(15)) #Check last few dates."
   ]
  },
  {
   "cell_type": "code",
   "execution_count": 4,
   "metadata": {},
   "outputs": [
    {
     "data": {
      "text/html": [
       "<div>\n",
       "<style scoped>\n",
       "    .dataframe tbody tr th:only-of-type {\n",
       "        vertical-align: middle;\n",
       "    }\n",
       "\n",
       "    .dataframe tbody tr th {\n",
       "        vertical-align: top;\n",
       "    }\n",
       "\n",
       "    .dataframe thead th {\n",
       "        text-align: right;\n",
       "    }\n",
       "</style>\n",
       "<table border=\"1\" class=\"dataframe\">\n",
       "  <thead>\n",
       "    <tr style=\"text-align: right;\">\n",
       "      <th></th>\n",
       "      <th>Discharge</th>\n",
       "      <th>Gage Height</th>\n",
       "      <th>Velocity</th>\n",
       "    </tr>\n",
       "    <tr>\n",
       "      <th>datetime</th>\n",
       "      <th></th>\n",
       "      <th></th>\n",
       "      <th></th>\n",
       "    </tr>\n",
       "  </thead>\n",
       "  <tbody>\n",
       "    <tr>\n",
       "      <th>2017-01-01 00:00:00-06:00</th>\n",
       "      <td>20400.0</td>\n",
       "      <td>16.95</td>\n",
       "      <td>2.45</td>\n",
       "    </tr>\n",
       "    <tr>\n",
       "      <th>2017-01-01 00:15:00-06:00</th>\n",
       "      <td>19800.0</td>\n",
       "      <td>16.96</td>\n",
       "      <td>2.37</td>\n",
       "    </tr>\n",
       "    <tr>\n",
       "      <th>2017-01-01 00:30:00-06:00</th>\n",
       "      <td>20900.0</td>\n",
       "      <td>16.98</td>\n",
       "      <td>2.51</td>\n",
       "    </tr>\n",
       "    <tr>\n",
       "      <th>2017-01-01 00:45:00-06:00</th>\n",
       "      <td>19300.0</td>\n",
       "      <td>16.95</td>\n",
       "      <td>2.32</td>\n",
       "    </tr>\n",
       "    <tr>\n",
       "      <th>2017-01-01 01:00:00-06:00</th>\n",
       "      <td>20700.0</td>\n",
       "      <td>16.98</td>\n",
       "      <td>2.49</td>\n",
       "    </tr>\n",
       "    <tr>\n",
       "      <th>...</th>\n",
       "      <td>...</td>\n",
       "      <td>...</td>\n",
       "      <td>...</td>\n",
       "    </tr>\n",
       "    <tr>\n",
       "      <th>2022-12-01 22:45:00-06:00</th>\n",
       "      <td>4510.0</td>\n",
       "      <td>14.83</td>\n",
       "      <td>0.60</td>\n",
       "    </tr>\n",
       "    <tr>\n",
       "      <th>2022-12-01 23:00:00-06:00</th>\n",
       "      <td>3800.0</td>\n",
       "      <td>14.87</td>\n",
       "      <td>0.50</td>\n",
       "    </tr>\n",
       "    <tr>\n",
       "      <th>2022-12-01 23:15:00-06:00</th>\n",
       "      <td>3440.0</td>\n",
       "      <td>14.88</td>\n",
       "      <td>0.45</td>\n",
       "    </tr>\n",
       "    <tr>\n",
       "      <th>2022-12-01 23:30:00-06:00</th>\n",
       "      <td>3510.0</td>\n",
       "      <td>14.87</td>\n",
       "      <td>0.46</td>\n",
       "    </tr>\n",
       "    <tr>\n",
       "      <th>2022-12-01 23:45:00-06:00</th>\n",
       "      <td>3720.0</td>\n",
       "      <td>14.86</td>\n",
       "      <td>0.49</td>\n",
       "    </tr>\n",
       "  </tbody>\n",
       "</table>\n",
       "<p>199343 rows × 3 columns</p>\n",
       "</div>"
      ],
      "text/plain": [
       "                           Discharge  Gage Height  Velocity\n",
       "datetime                                                   \n",
       "2017-01-01 00:00:00-06:00    20400.0        16.95      2.45\n",
       "2017-01-01 00:15:00-06:00    19800.0        16.96      2.37\n",
       "2017-01-01 00:30:00-06:00    20900.0        16.98      2.51\n",
       "2017-01-01 00:45:00-06:00    19300.0        16.95      2.32\n",
       "2017-01-01 01:00:00-06:00    20700.0        16.98      2.49\n",
       "...                              ...          ...       ...\n",
       "2022-12-01 22:45:00-06:00     4510.0        14.83      0.60\n",
       "2022-12-01 23:00:00-06:00     3800.0        14.87      0.50\n",
       "2022-12-01 23:15:00-06:00     3440.0        14.88      0.45\n",
       "2022-12-01 23:30:00-06:00     3510.0        14.87      0.46\n",
       "2022-12-01 23:45:00-06:00     3720.0        14.86      0.49\n",
       "\n",
       "[199343 rows x 3 columns]"
      ]
     },
     "execution_count": 4,
     "metadata": {},
     "output_type": "execute_result"
    }
   ],
   "source": [
    "# Check out the dataset\n",
    "df"
   ]
  },
  {
   "cell_type": "markdown",
   "metadata": {},
   "source": [
    "## Data manipulation"
   ]
  },
  {
   "cell_type": "code",
   "execution_count": 5,
   "metadata": {
    "jupyter": {
     "outputs_hidden": false
    }
   },
   "outputs": [],
   "source": [
    "# We do not want to be training with the discharge we are attempting to replace\n",
    "dfx_prescale = df.drop(\"Discharge\", axis= 1) "
   ]
  },
  {
   "cell_type": "code",
   "execution_count": 20,
   "metadata": {
    "jupyter": {
     "outputs_hidden": false
    }
   },
   "outputs": [],
   "source": [
    "# LSTM uses sigmoid and tanh that are sensitive to magnitude so values need to be normalized\n",
    "# Scale before splitting to scale the range of the whole dataset uniformally\n",
    "# Normalize the dataset\n",
    "\n",
    "scaler = StandardScaler()\n",
    "scaler = scaler.fit(df)\n",
    "df_scaled = scaler.transform(df)\n",
    "\n",
    "scaler_X = scaler.fit(dfx_prescale)\n",
    "dfx_prescale = scaler.transform(dfx_prescale) #? Why are we calling this prescale, and why are we scaling separately/again?\n",
    "\n",
    "# Old: from when we were scaling train and test separately\n",
    "#scaler = StandardScaler()\n",
    "#scaler = scaler.fit(train)\n",
    "#train_scaled = scaler.transform(train)\n",
    "\n",
    "#scaler_X = scaler.fit(trainx_prescale)\n",
    "#trainx_prescale = scaler.transform(trainx_prescale)"
   ]
  },
  {
   "cell_type": "code",
   "execution_count": 21,
   "metadata": {
    "jupyter": {
     "outputs_hidden": false
    }
   },
   "outputs": [
    {
     "data": {
      "text/plain": [
       "array([[-0.13987508,  0.78355675],\n",
       "       [-0.13691045,  0.69871099],\n",
       "       [-0.13098117,  0.84719107],\n",
       "       ...,\n",
       "       [-0.75355472, -1.33758719],\n",
       "       [-0.75651935, -1.32698147],\n",
       "       [-0.75948399, -1.29516431]])"
      ]
     },
     "execution_count": 21,
     "metadata": {},
     "output_type": "execute_result"
    }
   ],
   "source": [
    "dfx_prescale "
   ]
  },
  {
   "cell_type": "code",
   "execution_count": 22,
   "metadata": {},
   "outputs": [
    {
     "name": "stdout",
     "output_type": "stream",
     "text": [
      "                           Discharge  Gage Height  Velocity\n",
      "datetime                                                   \n",
      "2017-01-01 00:00:00-06:00   0.209594    -0.139875  0.783557\n",
      "2017-01-01 00:15:00-06:00   0.166348    -0.136910  0.698711\n",
      "2017-01-01 00:30:00-06:00   0.245632    -0.130981  0.847191\n",
      "2017-01-01 00:45:00-06:00   0.130310    -0.139875  0.645682\n",
      "2017-01-01 01:00:00-06:00   0.231217    -0.130981  0.825980\n",
      "...                              ...          ...       ...\n",
      "2022-12-01 22:45:00-06:00  -0.935701    -0.768378 -1.178501\n",
      "2022-12-01 23:00:00-06:00  -0.986875    -0.756519 -1.284559\n",
      "2022-12-01 23:15:00-06:00  -1.012823    -0.753555 -1.337587\n",
      "2022-12-01 23:30:00-06:00  -1.007777    -0.756519 -1.326981\n",
      "2022-12-01 23:45:00-06:00  -0.992641    -0.759484 -1.295164\n",
      "\n",
      "[199343 rows x 3 columns]\n",
      "<class 'pandas.core.frame.DataFrame'>\n"
     ]
    }
   ],
   "source": [
    "# Convert from an array to dataframe\n",
    "df_scaled = pd.DataFrame(df_scaled, columns = ['Discharge','Gage Height','Velocity'], index=df.index)\n",
    "dfx_prescale = pd.DataFrame(dfx_prescale, columns = ['Gage Height','Velocity'], index=df.index)\n",
    "\n",
    "print(df_scaled)\n",
    "print(type(df_scaled))"
   ]
  },
  {
   "cell_type": "code",
   "execution_count": 23,
   "metadata": {
    "jupyter": {
     "outputs_hidden": false
    }
   },
   "outputs": [],
   "source": [
    "# Subset the train/testing data\n",
    "# Train: 2017-2018, 2020\n",
    "# Test: 2019, 2021\n",
    "\n",
    "train_scaled = df_scaled['2017':'2020'] # Years 2017, 2018 and 2019 (this includes training and validation data)\n",
    "test_scaled = df_scaled['2020':'2021'] # Year of 2020"
   ]
  },
  {
   "cell_type": "code",
   "execution_count": 24,
   "metadata": {},
   "outputs": [
    {
     "data": {
      "text/html": [
       "<div>\n",
       "<style scoped>\n",
       "    .dataframe tbody tr th:only-of-type {\n",
       "        vertical-align: middle;\n",
       "    }\n",
       "\n",
       "    .dataframe tbody tr th {\n",
       "        vertical-align: top;\n",
       "    }\n",
       "\n",
       "    .dataframe thead th {\n",
       "        text-align: right;\n",
       "    }\n",
       "</style>\n",
       "<table border=\"1\" class=\"dataframe\">\n",
       "  <thead>\n",
       "    <tr style=\"text-align: right;\">\n",
       "      <th></th>\n",
       "      <th>Discharge</th>\n",
       "      <th>Gage Height</th>\n",
       "      <th>Velocity</th>\n",
       "    </tr>\n",
       "    <tr>\n",
       "      <th>datetime</th>\n",
       "      <th></th>\n",
       "      <th></th>\n",
       "      <th></th>\n",
       "    </tr>\n",
       "  </thead>\n",
       "  <tbody>\n",
       "    <tr>\n",
       "      <th>2017-01-01 00:00:00-06:00</th>\n",
       "      <td>0.209594</td>\n",
       "      <td>-0.139875</td>\n",
       "      <td>0.783557</td>\n",
       "    </tr>\n",
       "    <tr>\n",
       "      <th>2017-01-01 00:15:00-06:00</th>\n",
       "      <td>0.166348</td>\n",
       "      <td>-0.136910</td>\n",
       "      <td>0.698711</td>\n",
       "    </tr>\n",
       "    <tr>\n",
       "      <th>2017-01-01 00:30:00-06:00</th>\n",
       "      <td>0.245632</td>\n",
       "      <td>-0.130981</td>\n",
       "      <td>0.847191</td>\n",
       "    </tr>\n",
       "    <tr>\n",
       "      <th>2017-01-01 00:45:00-06:00</th>\n",
       "      <td>0.130310</td>\n",
       "      <td>-0.139875</td>\n",
       "      <td>0.645682</td>\n",
       "    </tr>\n",
       "    <tr>\n",
       "      <th>2017-01-01 01:00:00-06:00</th>\n",
       "      <td>0.231217</td>\n",
       "      <td>-0.130981</td>\n",
       "      <td>0.825980</td>\n",
       "    </tr>\n",
       "    <tr>\n",
       "      <th>...</th>\n",
       "      <td>...</td>\n",
       "      <td>...</td>\n",
       "      <td>...</td>\n",
       "    </tr>\n",
       "    <tr>\n",
       "      <th>2019-12-31 22:45:00-06:00</th>\n",
       "      <td>0.447446</td>\n",
       "      <td>-0.003502</td>\n",
       "      <td>1.154757</td>\n",
       "    </tr>\n",
       "    <tr>\n",
       "      <th>2019-12-31 23:00:00-06:00</th>\n",
       "      <td>0.440238</td>\n",
       "      <td>-0.000537</td>\n",
       "      <td>1.144151</td>\n",
       "    </tr>\n",
       "    <tr>\n",
       "      <th>2019-12-31 23:15:00-06:00</th>\n",
       "      <td>0.433031</td>\n",
       "      <td>-0.000537</td>\n",
       "      <td>1.133546</td>\n",
       "    </tr>\n",
       "    <tr>\n",
       "      <th>2019-12-31 23:30:00-06:00</th>\n",
       "      <td>0.461861</td>\n",
       "      <td>0.002427</td>\n",
       "      <td>1.186574</td>\n",
       "    </tr>\n",
       "    <tr>\n",
       "      <th>2019-12-31 23:45:00-06:00</th>\n",
       "      <td>0.469069</td>\n",
       "      <td>0.005392</td>\n",
       "      <td>1.197180</td>\n",
       "    </tr>\n",
       "  </tbody>\n",
       "</table>\n",
       "<p>100908 rows × 3 columns</p>\n",
       "</div>"
      ],
      "text/plain": [
       "                           Discharge  Gage Height  Velocity\n",
       "datetime                                                   \n",
       "2017-01-01 00:00:00-06:00   0.209594    -0.139875  0.783557\n",
       "2017-01-01 00:15:00-06:00   0.166348    -0.136910  0.698711\n",
       "2017-01-01 00:30:00-06:00   0.245632    -0.130981  0.847191\n",
       "2017-01-01 00:45:00-06:00   0.130310    -0.139875  0.645682\n",
       "2017-01-01 01:00:00-06:00   0.231217    -0.130981  0.825980\n",
       "...                              ...          ...       ...\n",
       "2019-12-31 22:45:00-06:00   0.447446    -0.003502  1.154757\n",
       "2019-12-31 23:00:00-06:00   0.440238    -0.000537  1.144151\n",
       "2019-12-31 23:15:00-06:00   0.433031    -0.000537  1.133546\n",
       "2019-12-31 23:30:00-06:00   0.461861     0.002427  1.186574\n",
       "2019-12-31 23:45:00-06:00   0.469069     0.005392  1.197180\n",
       "\n",
       "[100908 rows x 3 columns]"
      ]
     },
     "execution_count": 24,
     "metadata": {},
     "output_type": "execute_result"
    }
   ],
   "source": [
    "train_scaled"
   ]
  },
  {
   "cell_type": "markdown",
   "metadata": {},
   "source": [
    "## LSTM"
   ]
  },
  {
   "cell_type": "code",
   "execution_count": 27,
   "metadata": {
    "jupyter": {
     "outputs_hidden": false
    }
   },
   "outputs": [
    {
     "ename": "InvalidIndexError",
     "evalue": "(slice(0, 288, None), slice(0, 3, None))",
     "output_type": "error",
     "traceback": [
      "\u001b[1;31m---------------------------------------------------------------------------\u001b[0m",
      "\u001b[1;31mTypeError\u001b[0m                                 Traceback (most recent call last)",
      "File \u001b[1;32m~\\anaconda3\\envs\\Hysteresis-Project\\lib\\site-packages\\pandas\\core\\indexes\\base.py:3802\u001b[0m, in \u001b[0;36mIndex.get_loc\u001b[1;34m(self, key, method, tolerance)\u001b[0m\n\u001b[0;32m   3801\u001b[0m \u001b[38;5;28;01mtry\u001b[39;00m:\n\u001b[1;32m-> 3802\u001b[0m     \u001b[38;5;28;01mreturn\u001b[39;00m \u001b[38;5;28;43mself\u001b[39;49m\u001b[38;5;241;43m.\u001b[39;49m\u001b[43m_engine\u001b[49m\u001b[38;5;241;43m.\u001b[39;49m\u001b[43mget_loc\u001b[49m\u001b[43m(\u001b[49m\u001b[43mcasted_key\u001b[49m\u001b[43m)\u001b[49m\n\u001b[0;32m   3803\u001b[0m \u001b[38;5;28;01mexcept\u001b[39;00m \u001b[38;5;167;01mKeyError\u001b[39;00m \u001b[38;5;28;01mas\u001b[39;00m err:\n",
      "File \u001b[1;32m~\\anaconda3\\envs\\Hysteresis-Project\\lib\\site-packages\\pandas\\_libs\\index.pyx:138\u001b[0m, in \u001b[0;36mpandas._libs.index.IndexEngine.get_loc\u001b[1;34m()\u001b[0m\n",
      "File \u001b[1;32m~\\anaconda3\\envs\\Hysteresis-Project\\lib\\site-packages\\pandas\\_libs\\index.pyx:144\u001b[0m, in \u001b[0;36mpandas._libs.index.IndexEngine.get_loc\u001b[1;34m()\u001b[0m\n",
      "\u001b[1;31mTypeError\u001b[0m: '(slice(0, 288, None), slice(0, 3, None))' is an invalid key",
      "\nDuring handling of the above exception, another exception occurred:\n",
      "\u001b[1;31mInvalidIndexError\u001b[0m                         Traceback (most recent call last)",
      "Cell \u001b[1;32mIn[27], line 30\u001b[0m\n\u001b[0;32m     14\u001b[0m \u001b[38;5;66;03m#Reformat input data into a shape: (n_samples x timesteps x n_features)\u001b[39;00m\n\u001b[0;32m     15\u001b[0m \n\u001b[0;32m     16\u001b[0m \u001b[38;5;66;03m# New\u001b[39;00m\n\u001b[1;32m   (...)\u001b[0m\n\u001b[0;32m     26\u001b[0m \n\u001b[0;32m     27\u001b[0m \u001b[38;5;66;03m# Old\u001b[39;00m\n\u001b[0;32m     29\u001b[0m \u001b[38;5;28;01mfor\u001b[39;00m i \u001b[38;5;129;01min\u001b[39;00m \u001b[38;5;28mrange\u001b[39m(n_past, \u001b[38;5;28mlen\u001b[39m(train_scaled) \u001b[38;5;241m-\u001b[39m n_future \u001b[38;5;241m+\u001b[39m\u001b[38;5;241m1\u001b[39m):\n\u001b[1;32m---> 30\u001b[0m     trainX\u001b[38;5;241m.\u001b[39mappend(\u001b[43mdfx_prescale\u001b[49m\u001b[43m[\u001b[49m\u001b[43mi\u001b[49m\u001b[43m \u001b[49m\u001b[38;5;241;43m-\u001b[39;49m\u001b[43m \u001b[49m\u001b[43mn_past\u001b[49m\u001b[43m \u001b[49m\u001b[43m:\u001b[49m\u001b[43m \u001b[49m\u001b[43mi\u001b[49m\u001b[43m,\u001b[49m\u001b[43m \u001b[49m\u001b[38;5;241;43m0\u001b[39;49m\u001b[43m:\u001b[49m\u001b[43mtrain_scaled\u001b[49m\u001b[38;5;241;43m.\u001b[39;49m\u001b[43mshape\u001b[49m\u001b[43m[\u001b[49m\u001b[38;5;241;43m1\u001b[39;49m\u001b[43m]\u001b[49m\u001b[43m]\u001b[49m)\n\u001b[0;32m     32\u001b[0m     trainY\u001b[38;5;241m.\u001b[39mappend(train_scaled[i \u001b[38;5;241m+\u001b[39m n_future \u001b[38;5;241m-\u001b[39m \u001b[38;5;241m1\u001b[39m:i \u001b[38;5;241m+\u001b[39m n_future, \u001b[38;5;241m0\u001b[39m]) \u001b[38;5;66;03m#0 = Discharge\u001b[39;00m\n\u001b[0;32m     34\u001b[0m trainX, trainY \u001b[38;5;241m=\u001b[39m np\u001b[38;5;241m.\u001b[39marray(trainX), np\u001b[38;5;241m.\u001b[39marray(trainY)\n",
      "File \u001b[1;32m~\\anaconda3\\envs\\Hysteresis-Project\\lib\\site-packages\\pandas\\core\\frame.py:3807\u001b[0m, in \u001b[0;36mDataFrame.__getitem__\u001b[1;34m(self, key)\u001b[0m\n\u001b[0;32m   3805\u001b[0m \u001b[38;5;28;01mif\u001b[39;00m \u001b[38;5;28mself\u001b[39m\u001b[38;5;241m.\u001b[39mcolumns\u001b[38;5;241m.\u001b[39mnlevels \u001b[38;5;241m>\u001b[39m \u001b[38;5;241m1\u001b[39m:\n\u001b[0;32m   3806\u001b[0m     \u001b[38;5;28;01mreturn\u001b[39;00m \u001b[38;5;28mself\u001b[39m\u001b[38;5;241m.\u001b[39m_getitem_multilevel(key)\n\u001b[1;32m-> 3807\u001b[0m indexer \u001b[38;5;241m=\u001b[39m \u001b[38;5;28;43mself\u001b[39;49m\u001b[38;5;241;43m.\u001b[39;49m\u001b[43mcolumns\u001b[49m\u001b[38;5;241;43m.\u001b[39;49m\u001b[43mget_loc\u001b[49m\u001b[43m(\u001b[49m\u001b[43mkey\u001b[49m\u001b[43m)\u001b[49m\n\u001b[0;32m   3808\u001b[0m \u001b[38;5;28;01mif\u001b[39;00m is_integer(indexer):\n\u001b[0;32m   3809\u001b[0m     indexer \u001b[38;5;241m=\u001b[39m [indexer]\n",
      "File \u001b[1;32m~\\anaconda3\\envs\\Hysteresis-Project\\lib\\site-packages\\pandas\\core\\indexes\\base.py:3809\u001b[0m, in \u001b[0;36mIndex.get_loc\u001b[1;34m(self, key, method, tolerance)\u001b[0m\n\u001b[0;32m   3804\u001b[0m         \u001b[38;5;28;01mraise\u001b[39;00m \u001b[38;5;167;01mKeyError\u001b[39;00m(key) \u001b[38;5;28;01mfrom\u001b[39;00m \u001b[38;5;21;01merr\u001b[39;00m\n\u001b[0;32m   3805\u001b[0m     \u001b[38;5;28;01mexcept\u001b[39;00m \u001b[38;5;167;01mTypeError\u001b[39;00m:\n\u001b[0;32m   3806\u001b[0m         \u001b[38;5;66;03m# If we have a listlike key, _check_indexing_error will raise\u001b[39;00m\n\u001b[0;32m   3807\u001b[0m         \u001b[38;5;66;03m#  InvalidIndexError. Otherwise we fall through and re-raise\u001b[39;00m\n\u001b[0;32m   3808\u001b[0m         \u001b[38;5;66;03m#  the TypeError.\u001b[39;00m\n\u001b[1;32m-> 3809\u001b[0m         \u001b[38;5;28;43mself\u001b[39;49m\u001b[38;5;241;43m.\u001b[39;49m\u001b[43m_check_indexing_error\u001b[49m\u001b[43m(\u001b[49m\u001b[43mkey\u001b[49m\u001b[43m)\u001b[49m\n\u001b[0;32m   3810\u001b[0m         \u001b[38;5;28;01mraise\u001b[39;00m\n\u001b[0;32m   3812\u001b[0m \u001b[38;5;66;03m# GH#42269\u001b[39;00m\n",
      "File \u001b[1;32m~\\anaconda3\\envs\\Hysteresis-Project\\lib\\site-packages\\pandas\\core\\indexes\\base.py:5925\u001b[0m, in \u001b[0;36mIndex._check_indexing_error\u001b[1;34m(self, key)\u001b[0m\n\u001b[0;32m   5921\u001b[0m \u001b[38;5;28;01mdef\u001b[39;00m \u001b[38;5;21m_check_indexing_error\u001b[39m(\u001b[38;5;28mself\u001b[39m, key):\n\u001b[0;32m   5922\u001b[0m     \u001b[38;5;28;01mif\u001b[39;00m \u001b[38;5;129;01mnot\u001b[39;00m is_scalar(key):\n\u001b[0;32m   5923\u001b[0m         \u001b[38;5;66;03m# if key is not a scalar, directly raise an error (the code below\u001b[39;00m\n\u001b[0;32m   5924\u001b[0m         \u001b[38;5;66;03m# would convert to numpy arrays and raise later any way) - GH29926\u001b[39;00m\n\u001b[1;32m-> 5925\u001b[0m         \u001b[38;5;28;01mraise\u001b[39;00m InvalidIndexError(key)\n",
      "\u001b[1;31mInvalidIndexError\u001b[0m: (slice(0, 288, None), slice(0, 3, None))"
     ]
    }
   ],
   "source": [
    "#As required for LSTM networks, we require to reshape an input data into n_samples x timesteps x n_features.\n",
    "#In this example, the n_features is 3. We will make timesteps = 672 (past 7 days data used for training).\n",
    "\n",
    "#Empty lists to be populated using formatted training data\n",
    "trainX = []\n",
    "trainY = []\n",
    "\n",
    "time_to_hr = 4 # 4 timesteps per hour\n",
    "time_to_day = time_to_hr * 24 # 24hrs in a day\n",
    "\n",
    "n_future = 12 # Number of timesteps we want to look into the future based on the past timesteps. 4 * 3hrs = 12\n",
    "n_past = 3 * time_to_day # Number of past timesteps we want to use to predict the future. 7 days x 24hrs x 4 timesteps/hr = 672\n",
    "\n",
    "#Reformat input data into a shape: (n_samples x timesteps x n_features)\n",
    "\n",
    "for i in range(n_past, len(train_scaled) - n_future +1):\n",
    "    trainX.append(dfx_prescale[i - n_past : i, 0:train_scaled.shape[1]])\n",
    "    \n",
    "    trainY.append(train_scaled[i + n_future - 1:i + n_future, 0]) #0 = Discharge\n",
    "\n",
    "trainX, trainY = np.array(trainX), np.array(trainY)\n",
    "\n",
    "\n",
    "print('trainX shape == {}.'.format(trainX.shape))\n",
    "print('trainY shape == {}.'.format(trainY.shape))"
   ]
  },
  {
   "cell_type": "code",
   "execution_count": 29,
   "metadata": {},
   "outputs": [
    {
     "name": "stdout",
     "output_type": "stream",
     "text": [
      "Valid index range.\n"
     ]
    }
   ],
   "source": [
    "# Check that the index range is valid\n",
    "\n",
    "# Define the desired index range\n",
    "start_index = train_scaled.index[0]  # Start index of the desired range\n",
    "end_index = train_scaled.index[-1]  # End index of the desired range\n",
    "\n",
    "# Check if the desired range is within the DataFrame's index\n",
    "if start_index <= end_index and start_index in train_scaled.index and end_index in train_scaled.index:\n",
    "    # Perform your operations using the desired index range\n",
    "    trainX = train_scaled.loc[start_index:end_index, train_scaled.columns[0:train_scaled.shape[1]]]\n",
    "    # Additional code...\n",
    "    print('Valid index range.')\n",
    "else:\n",
    "    print('Invalid index range.')"
   ]
  },
  {
   "cell_type": "code",
   "execution_count": 32,
   "metadata": {},
   "outputs": [
    {
     "name": "stdout",
     "output_type": "stream",
     "text": [
      "Index data type: object\n"
     ]
    }
   ],
   "source": [
    "\n",
    "# Check the data type of the index\n",
    "index_data_type = train_scaled.index.dtype\n",
    "\n",
    "print('Index data type: {}'.format(index_data_type))"
   ]
  },
  {
   "cell_type": "markdown",
   "metadata": {},
   "source": [
    "## Model Dev"
   ]
  },
  {
   "cell_type": "code",
   "execution_count": 14,
   "metadata": {},
   "outputs": [
    {
     "data": {
      "text/plain": [
       "'C:\\\\Users\\\\emmac\\\\Documents\\\\GitHub\\\\Hysterisis-ML-Modeling'"
      ]
     },
     "execution_count": 14,
     "metadata": {},
     "output_type": "execute_result"
    }
   ],
   "source": [
    "import os\n",
    "\n",
    "os.getcwd()"
   ]
  },
  {
   "cell_type": "code",
   "execution_count": 41,
   "metadata": {
    "jupyter": {
     "outputs_hidden": false
    }
   },
   "outputs": [
    {
     "name": "stdout",
     "output_type": "stream",
     "text": [
      "Model: \"sequential\"\n",
      "_________________________________________________________________\n",
      " Layer (type)                Output Shape              Param #   \n",
      "=================================================================\n",
      " lstm (LSTM)                 (None, 125)               64000     \n",
      "                                                                 \n",
      " dense (Dense)               (None, 1)                 126       \n",
      "                                                                 \n",
      "=================================================================\n",
      "Total params: 64,126\n",
      "Trainable params: 64,126\n",
      "Non-trainable params: 0\n",
      "_________________________________________________________________\n"
     ]
    }
   ],
   "source": [
    "# Don't retrain unless necessary\n",
    "\n",
    "# Verify the shape aligns with the training data shape above!\n",
    "# If not, retrain!\n",
    "\n",
    "model_lstm = tf.keras.models.load_model('./saved_model/LSTM_Saved_Henry_2020_2021')  ##! Loading the model is giving me issues\n",
    "model_lstm.summary()\n"
   ]
  },
  {
   "cell_type": "code",
   "execution_count": 24,
   "metadata": {
    "jupyter": {
     "outputs_hidden": false
    }
   },
   "outputs": [
    {
     "name": "stdout",
     "output_type": "stream",
     "text": [
      "Model: \"sequential\"\n",
      "_________________________________________________________________\n",
      " Layer (type)                Output Shape              Param #   \n",
      "=================================================================\n",
      " lstm (LSTM)                 (None, 125)               64000     \n",
      "                                                                 \n",
      " dense (Dense)               (None, 1)                 126       \n",
      "                                                                 \n",
      "=================================================================\n",
      "Total params: 64,126\n",
      "Trainable params: 64,126\n",
      "Non-trainable params: 0\n",
      "_________________________________________________________________\n",
      "Epoch 1/10\n",
      "2107/2107 [==============================] - 234s 110ms/step - loss: 0.0196\n",
      "Epoch 2/10\n",
      "2107/2107 [==============================] - 264s 125ms/step - loss: 0.0123\n",
      "Epoch 3/10\n",
      "2107/2107 [==============================] - 270s 128ms/step - loss: 0.0111\n",
      "Epoch 4/10\n",
      "2107/2107 [==============================] - 274s 130ms/step - loss: 0.0106\n",
      "Epoch 5/10\n",
      "2107/2107 [==============================] - 275s 131ms/step - loss: 0.0101\n",
      "Epoch 6/10\n",
      "2107/2107 [==============================] - 273s 129ms/step - loss: 0.0097\n",
      "Epoch 7/10\n",
      "2107/2107 [==============================] - 275s 131ms/step - loss: 0.0097\n",
      "Epoch 8/10\n",
      "2107/2107 [==============================] - 434s 206ms/step - loss: 0.0093\n",
      "Epoch 9/10\n",
      "2107/2107 [==============================] - 506s 240ms/step - loss: 0.0091\n",
      "Epoch 10/10\n",
      "2107/2107 [==============================] - 593s 282ms/step - loss: 0.0090\n"
     ]
    },
    {
     "data": {
      "text/plain": [
       "<keras.callbacks.History at 0x1b012903df0>"
      ]
     },
     "execution_count": 24,
     "metadata": {},
     "output_type": "execute_result"
    }
   ],
   "source": [
    "\n",
    "#In my case, trainX has a shape (100301, 672, 3).\n",
    "\n",
    "#100301 because we are looking back 672 timesteps ##(12823 - 14 = 12809).\n",
    "#Remember that we cannot look back 12 timesteps until we get to the 13th timesteps.\n",
    "\n",
    "#Also, trainY has a shape (100301, 1). Our model only predicts a single value, but\n",
    "#it needs multiple variables (5 in my example) to make this prediction.\n",
    "#This is why we can only predict a single day after our training, the day after where our data ends.\n",
    "#To predict more days in future, we need all the 5 variables which we do not have.\n",
    "#We need to predict all variables if we want to do that.\n",
    "\n",
    "# define the Autoencoder model\n",
    "\n",
    "#'''\n",
    "# The LSTM architecture -- Basic RNN | one layer then dense\n",
    "model_lstm = Sequential()\n",
    "model_lstm.add(LSTM(units=125, activation=\"tanh\", input_shape=(trainX.shape[1], trainX.shape[2])))\n",
    "model_lstm.add(Dense(units=1))\n",
    "# Compiling the model\n",
    "model_lstm.compile(optimizer=\"RMSprop\", loss=\"mse\")\n",
    "\n",
    "model_lstm.summary()\n",
    "\n",
    "batch_size = 16\n",
    "model_lstm.fit(trainX, trainY, epochs=10, batch_size=batch_size, verbose=1)\n",
    "#'''"
   ]
  },
  {
   "cell_type": "code",
   "execution_count": 27,
   "metadata": {},
   "outputs": [
    {
     "name": "stderr",
     "output_type": "stream",
     "text": [
      "WARNING:absl:Found untraced functions such as lstm_cell_layer_call_fn, lstm_cell_layer_call_and_return_conditional_losses while saving (showing 2 of 2). These functions will not be directly callable after loading.\n"
     ]
    },
    {
     "name": "stdout",
     "output_type": "stream",
     "text": [
      "INFO:tensorflow:Assets written to: saved_model/LSTM_Saved_Henry_2020_2021\\assets\n"
     ]
    },
    {
     "name": "stderr",
     "output_type": "stream",
     "text": [
      "INFO:tensorflow:Assets written to: saved_model/LSTM_Saved_Henry_2020_2021\\assets\n"
     ]
    }
   ],
   "source": [
    "# Save the entire model as a SavedModel\n",
    "import os\n",
    "if not \"saved_model\" in os.listdir(): #If the saved model directory doesn't exist, make it    \n",
    "    !mkdir -p saved_model\n",
    "    \n",
    "model_lstm.save('saved_model/LSTM_Saved_Henry_2020_2021')\n"
   ]
  },
  {
   "cell_type": "markdown",
   "metadata": {
    "jupyter": {
     "outputs_hidden": false
    },
    "tags": []
   },
   "source": [
    "### Other models\n"
   ]
  },
  {
   "cell_type": "code",
   "execution_count": null,
   "metadata": {},
   "outputs": [],
   "source": []
  },
  {
   "cell_type": "code",
   "execution_count": null,
   "metadata": {
    "jupyter": {
     "outputs_hidden": false
    },
    "pycharm": {
     "is_executing": true
    }
   },
   "outputs": [
    {
     "name": "stdout",
     "output_type": "stream",
     "text": [
      "Model: \"sequential_1\"\n",
      "_________________________________________________________________\n",
      " Layer (type)                Output Shape              Param #   \n",
      "=================================================================\n",
      " lstm (LSTM)                 (None, 672, 64)           17408     \n",
      "                                                                 \n",
      " lstm_1 (LSTM)               (None, 32)                12416     \n",
      "                                                                 \n",
      " dropout (Dropout)           (None, 32)                0         \n",
      "                                                                 \n",
      " dense (Dense)               (None, 1)                 33        \n",
      "                                                                 \n",
      "=================================================================\n",
      "Total params: 29,857\n",
      "Trainable params: 29,857\n",
      "Non-trainable params: 0\n",
      "_________________________________________________________________\n"
     ]
    },
    {
     "name": "stderr",
     "output_type": "stream",
     "text": [
      "Exception ignored in: <function UniquePtr.__del__ at 0x000002664CBCB8B0>\n",
      "Traceback (most recent call last):\n",
      "  File \"C:\\Users\\perso\\anaconda3\\lib\\site-packages\\tensorflow\\python\\framework\\c_api_util.py\", line 71, in __del__\n",
      "    obj = self._obj\n",
      "KeyboardInterrupt: \n"
     ]
    },
    {
     "name": "stdout",
     "output_type": "stream",
     "text": [
      "1046/7551 [===>..........................] - ETA: 1:18:09 - loss: nan"
     ]
    }
   ],
   "source": [
    "'''\n",
    "model = Sequential()\n",
    "model.add(LSTM(64, activation='relu', input_shape=(trainX.shape[1], trainX.shape[2]), return_sequences=True))\n",
    "model.add(LSTM(32, activation='relu', return_sequences=False))\n",
    "model.add(Dropout(0.2))\n",
    "model.add(Dense(trainY.shape[1]))\n",
    "\n",
    "model.compile(optimizer='adam', loss='mse')\n",
    "model.summary()\n",
    "\n",
    "# fit the model\n",
    "history = model.fit(trainX, trainY, epochs=1, batch_size=16, validation_split=0.1, verbose=1)\n",
    "'''\n",
    "\"\"\" plt.plot(history.history['loss'], label='Training loss')\n",
    "plt.plot(history.history['val_loss'], label='Validation loss')\n",
    "plt.legend()\"\"\"\n",
    "'''\n",
    "#Save the entire model as a SavedModel.\n",
    "!mkdir -p saved_model\n",
    "model.save('saved_model/LSTM_Saved_Mikey_1')\n",
    "#'''\n",
    "## Predictions"
   ]
  },
  {
   "cell_type": "code",
   "execution_count": 13,
   "metadata": {
    "jupyter": {
     "outputs_hidden": false
    }
   },
   "outputs": [],
   "source": []
  },
  {
   "cell_type": "markdown",
   "metadata": {},
   "source": [
    "### Transform the test data"
   ]
  },
  {
   "cell_type": "code",
   "execution_count": 28,
   "metadata": {},
   "outputs": [
    {
     "name": "stdout",
     "output_type": "stream",
     "text": [
      "Model: \"sequential\"\n",
      "_________________________________________________________________\n",
      " Layer (type)                Output Shape              Param #   \n",
      "=================================================================\n",
      " lstm (LSTM)                 (None, 125)               64000     \n",
      "                                                                 \n",
      " dense (Dense)               (None, 1)                 126       \n",
      "                                                                 \n",
      "=================================================================\n",
      "Total params: 64,126\n",
      "Trainable params: 64,126\n",
      "Non-trainable params: 0\n",
      "_________________________________________________________________\n"
     ]
    }
   ],
   "source": [
    "model_lstm.summary()"
   ]
  },
  {
   "cell_type": "code",
   "execution_count": 29,
   "metadata": {},
   "outputs": [],
   "source": [
    "testX = []\n",
    "testY = []\n",
    "\n",
    "n_future = 12 # Number of timesteps we want to look into the future based on the past timesteps. 4 * 3hrs = 12\n",
    "n_past = 3 * time_to_day\n",
    "\n",
    "scaler2 = StandardScaler()\n",
    "scaler2 = scaler2.fit(test)\n",
    "test_scaled = scaler2.transform(test)"
   ]
  },
  {
   "cell_type": "code",
   "execution_count": 30,
   "metadata": {
    "jupyter": {
     "outputs_hidden": false
    }
   },
   "outputs": [],
   "source": [
    "for i in range(n_past, len(test_scaled) - n_future +1):\n",
    "    testX.append(test_scaled[i - n_past:i, 1 : test_scaled.shape[1]]) # Start at [1]: (excludes discharge)\n",
    "    testY.append(test_scaled[i + n_future - 1 : i + n_future, 0]) # 0 = Discharge\n",
    "\n",
    "testX, testY = np.array(testX), np.array(testY)"
   ]
  },
  {
   "cell_type": "code",
   "execution_count": 31,
   "metadata": {},
   "outputs": [
    {
     "data": {
      "text/plain": [
       "(33726, 288, 2)"
      ]
     },
     "execution_count": 31,
     "metadata": {},
     "output_type": "execute_result"
    }
   ],
   "source": [
    "testX.shape # (Only velocity and WL)"
   ]
  },
  {
   "cell_type": "code",
   "execution_count": 32,
   "metadata": {
    "jupyter": {
     "outputs_hidden": false
    }
   },
   "outputs": [
    {
     "name": "stdout",
     "output_type": "stream",
     "text": [
      "1054/1054 [==============================] - 101s 95ms/step\n"
     ]
    }
   ],
   "source": [
    "#Make prediction\n",
    "# Will only use the last 7 days of the training data to predict X number of days into the testing data\n",
    "prediction = model_lstm.predict(testX, verbose = 1)"
   ]
  },
  {
   "cell_type": "code",
   "execution_count": 33,
   "metadata": {
    "jupyter": {
     "outputs_hidden": false
    }
   },
   "outputs": [
    {
     "data": {
      "text/html": [
       "<div>\n",
       "<style scoped>\n",
       "    .dataframe tbody tr th:only-of-type {\n",
       "        vertical-align: middle;\n",
       "    }\n",
       "\n",
       "    .dataframe tbody tr th {\n",
       "        vertical-align: top;\n",
       "    }\n",
       "\n",
       "    .dataframe thead th {\n",
       "        text-align: right;\n",
       "    }\n",
       "</style>\n",
       "<table border=\"1\" class=\"dataframe\">\n",
       "  <thead>\n",
       "    <tr style=\"text-align: right;\">\n",
       "      <th></th>\n",
       "      <th>Discharge</th>\n",
       "      <th>Gage Height</th>\n",
       "      <th>Velocity</th>\n",
       "      <th>Predicted Discharge</th>\n",
       "    </tr>\n",
       "    <tr>\n",
       "      <th>datetime</th>\n",
       "      <th></th>\n",
       "      <th></th>\n",
       "      <th></th>\n",
       "      <th></th>\n",
       "    </tr>\n",
       "  </thead>\n",
       "  <tbody>\n",
       "    <tr>\n",
       "      <th>2021-01-01 00:00:00-06:00</th>\n",
       "      <td>6430.0</td>\n",
       "      <td>14.79</td>\n",
       "      <td>0.87</td>\n",
       "      <td>8734.588867</td>\n",
       "    </tr>\n",
       "    <tr>\n",
       "      <th>2021-01-01 00:15:00-06:00</th>\n",
       "      <td>6350.0</td>\n",
       "      <td>14.78</td>\n",
       "      <td>0.86</td>\n",
       "      <td>8841.984375</td>\n",
       "    </tr>\n",
       "    <tr>\n",
       "      <th>2021-01-01 00:30:00-06:00</th>\n",
       "      <td>6350.0</td>\n",
       "      <td>14.78</td>\n",
       "      <td>0.86</td>\n",
       "      <td>8872.700195</td>\n",
       "    </tr>\n",
       "    <tr>\n",
       "      <th>2021-01-01 00:45:00-06:00</th>\n",
       "      <td>6150.0</td>\n",
       "      <td>14.80</td>\n",
       "      <td>0.83</td>\n",
       "      <td>8909.343750</td>\n",
       "    </tr>\n",
       "    <tr>\n",
       "      <th>2021-01-01 01:00:00-06:00</th>\n",
       "      <td>6360.0</td>\n",
       "      <td>14.79</td>\n",
       "      <td>0.86</td>\n",
       "      <td>8925.500000</td>\n",
       "    </tr>\n",
       "    <tr>\n",
       "      <th>...</th>\n",
       "      <td>...</td>\n",
       "      <td>...</td>\n",
       "      <td>...</td>\n",
       "      <td>...</td>\n",
       "    </tr>\n",
       "    <tr>\n",
       "      <th>2021-12-28 16:00:00-06:00</th>\n",
       "      <td>11600.0</td>\n",
       "      <td>15.15</td>\n",
       "      <td>1.55</td>\n",
       "      <td>15124.246094</td>\n",
       "    </tr>\n",
       "    <tr>\n",
       "      <th>2021-12-28 16:15:00-06:00</th>\n",
       "      <td>9610.0</td>\n",
       "      <td>15.20</td>\n",
       "      <td>1.27</td>\n",
       "      <td>14987.659180</td>\n",
       "    </tr>\n",
       "    <tr>\n",
       "      <th>2021-12-28 16:30:00-06:00</th>\n",
       "      <td>10000.0</td>\n",
       "      <td>15.18</td>\n",
       "      <td>1.33</td>\n",
       "      <td>14979.979492</td>\n",
       "    </tr>\n",
       "    <tr>\n",
       "      <th>2021-12-28 16:45:00-06:00</th>\n",
       "      <td>9890.0</td>\n",
       "      <td>15.18</td>\n",
       "      <td>1.31</td>\n",
       "      <td>14758.552734</td>\n",
       "    </tr>\n",
       "    <tr>\n",
       "      <th>2021-12-28 17:00:00-06:00</th>\n",
       "      <td>10900.0</td>\n",
       "      <td>15.20</td>\n",
       "      <td>1.45</td>\n",
       "      <td>14742.546875</td>\n",
       "    </tr>\n",
       "  </tbody>\n",
       "</table>\n",
       "<p>33726 rows × 4 columns</p>\n",
       "</div>"
      ],
      "text/plain": [
       "                           Discharge  Gage Height  Velocity  \\\n",
       "datetime                                                      \n",
       "2021-01-01 00:00:00-06:00     6430.0        14.79      0.87   \n",
       "2021-01-01 00:15:00-06:00     6350.0        14.78      0.86   \n",
       "2021-01-01 00:30:00-06:00     6350.0        14.78      0.86   \n",
       "2021-01-01 00:45:00-06:00     6150.0        14.80      0.83   \n",
       "2021-01-01 01:00:00-06:00     6360.0        14.79      0.86   \n",
       "...                              ...          ...       ...   \n",
       "2021-12-28 16:00:00-06:00    11600.0        15.15      1.55   \n",
       "2021-12-28 16:15:00-06:00     9610.0        15.20      1.27   \n",
       "2021-12-28 16:30:00-06:00    10000.0        15.18      1.33   \n",
       "2021-12-28 16:45:00-06:00     9890.0        15.18      1.31   \n",
       "2021-12-28 17:00:00-06:00    10900.0        15.20      1.45   \n",
       "\n",
       "                           Predicted Discharge  \n",
       "datetime                                        \n",
       "2021-01-01 00:00:00-06:00          8734.588867  \n",
       "2021-01-01 00:15:00-06:00          8841.984375  \n",
       "2021-01-01 00:30:00-06:00          8872.700195  \n",
       "2021-01-01 00:45:00-06:00          8909.343750  \n",
       "2021-01-01 01:00:00-06:00          8925.500000  \n",
       "...                                        ...  \n",
       "2021-12-28 16:00:00-06:00         15124.246094  \n",
       "2021-12-28 16:15:00-06:00         14987.659180  \n",
       "2021-12-28 16:30:00-06:00         14979.979492  \n",
       "2021-12-28 16:45:00-06:00         14758.552734  \n",
       "2021-12-28 17:00:00-06:00         14742.546875  \n",
       "\n",
       "[33726 rows x 4 columns]"
      ]
     },
     "execution_count": 33,
     "metadata": {},
     "output_type": "execute_result"
    }
   ],
   "source": [
    "#Perform inverse transformation to rescale back to original range\n",
    "#Since we used 5 variables for transform, the inverse expects same dimensions\n",
    "#Therefore, let us copy our values 5 times and discard them after inverse transform\n",
    "\n",
    "prediction_copies = np.repeat(prediction, test.shape[1], axis=-1)\n",
    "y_pred = scaler2.inverse_transform(prediction_copies)[:, 0]  # Location of Discharge in columns\n",
    "\n",
    "test_predicts = test[:-n_past -11].copy()\n",
    "test_predicts[\"Predicted Discharge\"] = y_pred\n",
    "test_predicts.rename(columns= {-1 : \"Predicted Discharge\"})\n",
    "#test_predicts = test_predicts.drop(\"Dis\", axis=1)"
   ]
  },
  {
   "cell_type": "code",
   "execution_count": 34,
   "metadata": {
    "jupyter": {
     "outputs_hidden": false
    }
   },
   "outputs": [
    {
     "data": {
      "text/plain": [
       "<matplotlib.legend.Legend at 0x1b0239f2ec0>"
      ]
     },
     "execution_count": 34,
     "metadata": {},
     "output_type": "execute_result"
    },
    {
     "data": {
      "image/png": "[encoded data removed]",
      "text/plain": [
       "<Figure size 640x480 with 1 Axes>"
      ]
     },
     "metadata": {},
     "output_type": "display_data"
    }
   ],
   "source": [
    "# Plot one event to examine model performance\n",
    "import seaborn as sns\n",
    "tstart = '2021-06-15'\n",
    "tend = '2021-07-20'\n",
    "\n",
    "sns.lineplot(test['Discharge'][tstart : tend], errorbar= None)\n",
    "sns.lineplot(test_predicts[\"Predicted Discharge\"][tstart : tend].shift(n_past), errorbar= None)\n",
    "# shifting 7 to overlay due to inherent shifting from original formatting of the data.\n",
    "\n",
    "plt.legend(labels=[\"Actual Discharge\",\"Predicted Discharge\"])"
   ]
  },
  {
   "cell_type": "code",
   "execution_count": 35,
   "metadata": {
    "jupyter": {
     "outputs_hidden": false
    }
   },
   "outputs": [
    {
     "data": {
      "text/plain": [
       "<matplotlib.legend.Legend at 0x1b00fb7b8e0>"
      ]
     },
     "execution_count": 35,
     "metadata": {},
     "output_type": "execute_result"
    },
    {
     "data": {
      "image/png": "[encoded data removed]",
      "text/plain": [
       "<Figure size 640x480 with 1 Axes>"
      ]
     },
     "metadata": {},
     "output_type": "display_data"
    }
   ],
   "source": [
    "# Plot whole test year to examine model performance (this takes a little while to run)\n",
    "tstart = '2021-01-01'\n",
    "tend = '2021-12-31'\n",
    "sns.lineplot(test['Discharge'], errorbar= None)\n",
    "sns.lineplot(test_predicts[\"Predicted Discharge\"].shift(n_past), errorbar= None)\n",
    "# shifting 7 to overlay due to inherent shifting from original formatting of the data.\n",
    "\n",
    "plt.legend(labels=[\"Actual Discharge\",\"Predicted Discharge\"])"
   ]
  },
  {
   "cell_type": "code",
   "execution_count": 37,
   "metadata": {
    "jupyter": {
     "outputs_hidden": false
    }
   },
   "outputs": [],
   "source": [
    "# Evaluate model using statistics\n",
    "# First load them in\n",
    "from sklearn.metrics import mean_squared_error, r2_score, mean_squared_log_error"
   ]
  },
  {
   "cell_type": "code",
   "execution_count": 38,
   "metadata": {
    "jupyter": {
     "outputs_hidden": false
    }
   },
   "outputs": [
    {
     "data": {
      "text/plain": [
       "0.18970896423009212"
      ]
     },
     "execution_count": 38,
     "metadata": {},
     "output_type": "execute_result"
    }
   ],
   "source": [
    "# Report mean squared log error\n",
    "mean_squared_log_error(test['Discharge'][:-n_past-11], test_predicts[\"Predicted Discharge\"])"
   ]
  },
  {
   "cell_type": "code",
   "execution_count": 39,
   "metadata": {
    "jupyter": {
     "outputs_hidden": false
    }
   },
   "outputs": [
    {
     "data": {
      "text/plain": [
       "40063875.04360296"
      ]
     },
     "execution_count": 39,
     "metadata": {},
     "output_type": "execute_result"
    }
   ],
   "source": [
    "# Report mean squared error\n",
    "mean_squared_error(test['Discharge'][:-n_past-11], test_predicts[\"Predicted Discharge\"])"
   ]
  },
  {
   "cell_type": "code",
   "execution_count": 40,
   "metadata": {
    "jupyter": {
     "outputs_hidden": false
    }
   },
   "outputs": [
    {
     "data": {
      "text/plain": [
       "0.622771435658164"
      ]
     },
     "execution_count": 40,
     "metadata": {},
     "output_type": "execute_result"
    }
   ],
   "source": [
    "# Report R2\n",
    "r2_score(test['Discharge'][:-n_past-11], test_predicts[\"Predicted Discharge\"])"
   ]
  },
  {
   "cell_type": "markdown",
   "metadata": {},
   "source": [
    "## Future Predictions\n"
   ]
  },
  {
   "cell_type": "code",
   "execution_count": 110,
   "metadata": {
    "jupyter": {
     "outputs_hidden": false
    }
   },
   "outputs": [
    {
     "name": "stdout",
     "output_type": "stream",
     "text": [
      "1/1 [==============================] - 0s 56ms/step\n"
     ]
    }
   ],
   "source": [
    "# Run test\n",
    "# Prediction\n",
    "#pred_WL = model_lstm.predict(testX)\n",
    "n_future_pred = 3 * time_to_hr\n",
    "overlap = 1\n",
    "pred_dis = model_lstm.predict(testX[-n_future_pred - overlap:])\n",
    "\n",
    "\n",
    "pred_dis = np.repeat(pred_dis, test.shape[1], axis=-1)\n",
    "future_dis = scaler2.inverse_transform(pred_dis)[:, 0]  # Location of Discharge in columns\n"
   ]
  },
  {
   "cell_type": "code",
   "execution_count": 111,
   "metadata": {
    "jupyter": {
     "outputs_hidden": false
    }
   },
   "outputs": [
    {
     "data": {
      "text/plain": [
       "array([Timestamp('2021-12-31 23:45:00-0600', tz='pytz.FixedOffset(-360)', freq='15T'),\n",
       "       Timestamp('2022-01-01 00:00:00-0600', tz='pytz.FixedOffset(-360)', freq='15T'),\n",
       "       Timestamp('2022-01-01 00:15:00-0600', tz='pytz.FixedOffset(-360)', freq='15T'),\n",
       "       Timestamp('2022-01-01 00:30:00-0600', tz='pytz.FixedOffset(-360)', freq='15T'),\n",
       "       Timestamp('2022-01-01 00:45:00-0600', tz='pytz.FixedOffset(-360)', freq='15T'),\n",
       "       Timestamp('2022-01-01 01:00:00-0600', tz='pytz.FixedOffset(-360)', freq='15T'),\n",
       "       Timestamp('2022-01-01 01:15:00-0600', tz='pytz.FixedOffset(-360)', freq='15T'),\n",
       "       Timestamp('2022-01-01 01:30:00-0600', tz='pytz.FixedOffset(-360)', freq='15T'),\n",
       "       Timestamp('2022-01-01 01:45:00-0600', tz='pytz.FixedOffset(-360)', freq='15T'),\n",
       "       Timestamp('2022-01-01 02:00:00-0600', tz='pytz.FixedOffset(-360)', freq='15T'),\n",
       "       Timestamp('2022-01-01 02:15:00-0600', tz='pytz.FixedOffset(-360)', freq='15T'),\n",
       "       Timestamp('2022-01-01 02:30:00-0600', tz='pytz.FixedOffset(-360)', freq='15T'),\n",
       "       Timestamp('2022-01-01 02:45:00-0600', tz='pytz.FixedOffset(-360)', freq='15T')],\n",
       "      dtype=object)"
      ]
     },
     "execution_count": 111,
     "metadata": {},
     "output_type": "execute_result"
    }
   ],
   "source": [
    "predict_period_dates = pd.date_range(list(test.index)[-(overlap)],periods=n_future_pred + overlap, freq='15min').to_numpy()\n",
    "predict_period_dates"
   ]
  },
  {
   "cell_type": "code",
   "execution_count": 112,
   "metadata": {
    "jupyter": {
     "outputs_hidden": false
    }
   },
   "outputs": [
    {
     "data": {
      "text/plain": [
       "(13,)"
      ]
     },
     "execution_count": 112,
     "metadata": {},
     "output_type": "execute_result"
    }
   ],
   "source": [
    "predict_period_dates.shape"
   ]
  },
  {
   "cell_type": "code",
   "execution_count": 113,
   "metadata": {
    "jupyter": {
     "outputs_hidden": false
    }
   },
   "outputs": [],
   "source": [
    "future_dis = np.reshape(future_dis, (len(future_dis),))"
   ]
  },
  {
   "cell_type": "code",
   "execution_count": 115,
   "metadata": {
    "jupyter": {
     "outputs_hidden": false
    }
   },
   "outputs": [],
   "source": [
    "'''\n",
    "# Convert timestamp to date\n",
    "forecast_dates = []\n",
    "for time_i in predict_period_dates:\n",
    "    forecast_dates.append(time_i.date())\n",
    "len(y_pred_future)\n",
    "'''\n",
    "df_forecast = pd.DataFrame({'Date': pd.to_datetime(predict_period_dates),\n",
    "                            'Discharge':future_dis})"
   ]
  },
  {
   "cell_type": "code",
   "execution_count": 116,
   "metadata": {
    "jupyter": {
     "outputs_hidden": false
    }
   },
   "outputs": [],
   "source": [
    "df_forecast.set_index('Date', inplace= True)"
   ]
  },
  {
   "cell_type": "code",
   "execution_count": 117,
   "metadata": {
    "jupyter": {
     "outputs_hidden": false
    }
   },
   "outputs": [],
   "source": [
    "original = df[['Discharge']]\n",
    "original = original.loc['2021-12-25': '2022']"
   ]
  },
  {
   "cell_type": "code",
   "execution_count": 118,
   "metadata": {},
   "outputs": [],
   "source": [
    "joint_df = pd.concat([original, df_forecast])"
   ]
  },
  {
   "cell_type": "code",
   "execution_count": null,
   "metadata": {},
   "outputs": [],
   "source": []
  },
  {
   "cell_type": "code",
   "execution_count": 136,
   "metadata": {},
   "outputs": [
    {
     "name": "stdout",
     "output_type": "stream",
     "text": [
      "                           Discharge\n",
      "datetime                            \n",
      "2021-12-31 23:45:00-06:00    16800.0\n"
     ]
    },
    {
     "data": {
      "image/png": "[encoded data removed]",
      "text/plain": [
       "<Figure size 640x480 with 1 Axes>"
      ]
     },
     "metadata": {},
     "output_type": "display_data"
    }
   ],
   "source": [
    "sns.lineplot(original[-15:], errorbar= None)\n",
    "print(original[-1:])"
   ]
  },
  {
   "cell_type": "code",
   "execution_count": 139,
   "metadata": {
    "jupyter": {
     "outputs_hidden": false
    }
   },
   "outputs": [
    {
     "data": {
      "text/html": [
       "<div>\n",
       "<style scoped>\n",
       "    .dataframe tbody tr th:only-of-type {\n",
       "        vertical-align: middle;\n",
       "    }\n",
       "\n",
       "    .dataframe tbody tr th {\n",
       "        vertical-align: top;\n",
       "    }\n",
       "\n",
       "    .dataframe thead th {\n",
       "        text-align: right;\n",
       "    }\n",
       "</style>\n",
       "<table border=\"1\" class=\"dataframe\">\n",
       "  <thead>\n",
       "    <tr style=\"text-align: right;\">\n",
       "      <th></th>\n",
       "      <th>Discharge</th>\n",
       "    </tr>\n",
       "    <tr>\n",
       "      <th>Date</th>\n",
       "      <th></th>\n",
       "    </tr>\n",
       "  </thead>\n",
       "  <tbody>\n",
       "    <tr>\n",
       "      <th>2021-12-31 23:45:00-06:00</th>\n",
       "      <td>15411.088867</td>\n",
       "    </tr>\n",
       "  </tbody>\n",
       "</table>\n",
       "</div>"
      ],
      "text/plain": [
       "                              Discharge\n",
       "Date                                   \n",
       "2021-12-31 23:45:00-06:00  15411.088867"
      ]
     },
     "execution_count": 139,
     "metadata": {},
     "output_type": "execute_result"
    },
    {
     "data": {
      "image/png": "[encoded data removed]",
      "text/plain": [
       "<Figure size 640x480 with 1 Axes>"
      ]
     },
     "metadata": {},
     "output_type": "display_data"
    }
   ],
   "source": [
    "sns.lineplot(df_forecast, x= \"Date\", y= \"Discharge\", errorbar= None)\n",
    "df_forecast[:1]"
   ]
  },
  {
   "cell_type": "code",
   "execution_count": 93,
   "metadata": {
    "jupyter": {
     "outputs_hidden": false
    }
   },
   "outputs": [
    {
     "data": {
      "text/html": [
       "<div>\n",
       "<style scoped>\n",
       "    .dataframe tbody tr th:only-of-type {\n",
       "        vertical-align: middle;\n",
       "    }\n",
       "\n",
       "    .dataframe tbody tr th {\n",
       "        vertical-align: top;\n",
       "    }\n",
       "\n",
       "    .dataframe thead th {\n",
       "        text-align: right;\n",
       "    }\n",
       "</style>\n",
       "<table border=\"1\" class=\"dataframe\">\n",
       "  <thead>\n",
       "    <tr style=\"text-align: right;\">\n",
       "      <th></th>\n",
       "      <th>Gage Height</th>\n",
       "    </tr>\n",
       "    <tr>\n",
       "      <th>Date</th>\n",
       "      <th></th>\n",
       "    </tr>\n",
       "  </thead>\n",
       "  <tbody>\n",
       "    <tr>\n",
       "      <th>2022-12-01 00:00:00-06:00</th>\n",
       "      <td>0.959061</td>\n",
       "    </tr>\n",
       "    <tr>\n",
       "      <th>2022-12-01 00:15:00-06:00</th>\n",
       "      <td>0.948979</td>\n",
       "    </tr>\n",
       "    <tr>\n",
       "      <th>2022-12-01 00:30:00-06:00</th>\n",
       "      <td>0.939894</td>\n",
       "    </tr>\n",
       "    <tr>\n",
       "      <th>2022-12-01 00:45:00-06:00</th>\n",
       "      <td>0.954180</td>\n",
       "    </tr>\n",
       "    <tr>\n",
       "      <th>2022-12-01 01:00:00-06:00</th>\n",
       "      <td>0.956698</td>\n",
       "    </tr>\n",
       "    <tr>\n",
       "      <th>2022-12-01 01:15:00-06:00</th>\n",
       "      <td>0.951986</td>\n",
       "    </tr>\n",
       "    <tr>\n",
       "      <th>2022-12-01 01:30:00-06:00</th>\n",
       "      <td>0.951351</td>\n",
       "    </tr>\n",
       "    <tr>\n",
       "      <th>2022-12-01 01:45:00-06:00</th>\n",
       "      <td>0.944818</td>\n",
       "    </tr>\n",
       "    <tr>\n",
       "      <th>2022-12-01 02:00:00-06:00</th>\n",
       "      <td>0.943667</td>\n",
       "    </tr>\n",
       "    <tr>\n",
       "      <th>2022-12-01 02:15:00-06:00</th>\n",
       "      <td>0.950522</td>\n",
       "    </tr>\n",
       "    <tr>\n",
       "      <th>2022-12-01 02:30:00-06:00</th>\n",
       "      <td>0.939742</td>\n",
       "    </tr>\n",
       "    <tr>\n",
       "      <th>2022-12-01 02:45:00-06:00</th>\n",
       "      <td>0.935389</td>\n",
       "    </tr>\n",
       "    <tr>\n",
       "      <th>2022-12-01 03:00:00-06:00</th>\n",
       "      <td>0.938183</td>\n",
       "    </tr>\n",
       "  </tbody>\n",
       "</table>\n",
       "</div>"
      ],
      "text/plain": [
       "                           Gage Height\n",
       "Date                                  \n",
       "2022-12-01 00:00:00-06:00     0.959061\n",
       "2022-12-01 00:15:00-06:00     0.948979\n",
       "2022-12-01 00:30:00-06:00     0.939894\n",
       "2022-12-01 00:45:00-06:00     0.954180\n",
       "2022-12-01 01:00:00-06:00     0.956698\n",
       "2022-12-01 01:15:00-06:00     0.951986\n",
       "2022-12-01 01:30:00-06:00     0.951351\n",
       "2022-12-01 01:45:00-06:00     0.944818\n",
       "2022-12-01 02:00:00-06:00     0.943667\n",
       "2022-12-01 02:15:00-06:00     0.950522\n",
       "2022-12-01 02:30:00-06:00     0.939742\n",
       "2022-12-01 02:45:00-06:00     0.935389\n",
       "2022-12-01 03:00:00-06:00     0.938183"
      ]
     },
     "execution_count": 93,
     "metadata": {},
     "output_type": "execute_result"
    }
   ],
   "source": []
  },
  {
   "cell_type": "code",
   "execution_count": null,
   "metadata": {
    "jupyter": {
     "outputs_hidden": false
    }
   },
   "outputs": [],
   "source": [
    "\n",
    "# Convert timestamp to date\n",
    "forecast_dates = []\n",
    "for time_i in predict_period_dates:\n",
    "    forecast_dates.append(time_i.date())\n",
    "\n",
    "df_forecast = pd.DataFrame({'Date':np.array(forecast_dates), 'Open':y_pred_future})\n",
    "df_forecast['Date']=pd.to_datetime(df_forecast['Date'])\n",
    "\n",
    "\n",
    "original = df[['Date', 'Open']]\n",
    "original['Date']=pd.to_datetime(original['Date'])\n",
    "original = original.loc[original['Date'] >= '2020-5-1']\n",
    "\n",
    "sns.lineplot(original['Date'], original['Open'])\n",
    "sns.lineplot(df_forecast['Date'], df_forecast['Open'])\n"
   ]
  },
  {
   "cell_type": "code",
   "execution_count": null,
   "metadata": {
    "jupyter": {
     "outputs_hidden": false
    }
   },
   "outputs": [],
   "source": []
  }
 ],
 "metadata": {
  "kernelspec": {
   "display_name": "Python 3 (ipykernel)",
   "language": "python",
   "name": "python3"
  },
  "language_info": {
   "codemirror_mode": {
    "name": "ipython",
    "version": 3
   },
   "file_extension": ".py",
   "mimetype": "text/x-python",
   "name": "python",
   "nbconvert_exporter": "python",
   "pygments_lexer": "ipython3",
   "version": "3.10.9"
  }
 },
 "nbformat": 4,
 "nbformat_minor": 4
}
